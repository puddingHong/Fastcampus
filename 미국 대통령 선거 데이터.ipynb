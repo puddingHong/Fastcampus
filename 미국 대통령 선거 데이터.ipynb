{
  "nbformat": 4,
  "nbformat_minor": 0,
  "metadata": {
    "kernelspec": {
      "display_name": "Python 3",
      "language": "python",
      "name": "python3"
    },
    "language_info": {
      "codemirror_mode": {
        "name": "ipython",
        "version": 3
      },
      "file_extension": ".py",
      "mimetype": "text/x-python",
      "name": "python",
      "nbconvert_exporter": "python",
      "pygments_lexer": "ipython3",
      "version": "3.7.7"
    },
    "colab": {
      "name": "Chapter 05 - 미국의 대통령은 어떻게 뽑힐까(문제).ipynb",
      "provenance": [],
      "collapsed_sections": [
        "c0iKTnLNsraM",
        "cxZwPnfms0-9",
        "dXG8AFZyCiS1"
      ]
    }
  },
  "cells": [
    {
      "cell_type": "markdown",
      "metadata": {
        "id": "NqqLNJZjfi8U"
      },
      "source": [
        "# 주제 : 미국의 대통령은 어떻게 뽑힐까?\n",
        "----------\n",
        "\n",
        "## 실습 가이드\n",
        "    1. 데이터를 다운로드하여 Colab에 불러옵니다.\n",
        "    2. 필요한 라이브러리는 모두 코드로 작성되어 있습니다.\n",
        "    3. 코드는 위에서부터 아래로 순서대로 실행합니다.\n",
        "    \n",
        "    \n",
        "## 데이터 소개\n",
        "    - 이번 주제는 US Election 2020 데이터셋을 사용합니다.\n",
        "    \n",
        "    - 총 11개의 파일 중 정보가 가장 많은 2개의 파일을 사용합니다.\n",
        "    president_county_candidate.csv: 대통령 투표 결과\n",
        "    governors_county_candidate.csv: 카운티 지사 투표 결과\n",
        "    \n",
        "    - 총 1개의 보조 데이터를 이용합니다.\n",
        "    acs2017_county_data.csv: 카운티별 인구조사 데이터\n",
        "    \n",
        "    - 각 파일의 컬럼은 아래와 같습니다.\n",
        "    state: 주\n",
        "    county: 카운티(군)\n",
        "    district: 지구\n",
        "    candidate: 후보자\n",
        "    party: 후보자의 소속 정당\n",
        "    total_votes: 득표 수\n",
        "    won: 지역 투표 우승 여부\n",
        "    \n",
        "    \n",
        "    \n",
        "- 데이터 출처: https://www.kaggle.com/unanimad/us-election-2020\n",
        "- 보조 데이터: https://www.kaggle.com/muonneutrino/us-census-demographic-data\n",
        "\n",
        "## 최종 목표\n",
        "    - 보조 데이터셋을 이용하여 데이터셋 보강하는 방법 이해\n",
        "    - plotly를 이용한 Choropleth 시각화 방법 이해\n",
        "    - Regression과 Classification의 차이 이해\n",
        "\n",
        "- 출제자 : 신제용 강사\n",
        "---"
      ]
    },
    {
      "cell_type": "markdown",
      "metadata": {
        "id": "ODJVmYvIP3x-"
      },
      "source": [
        "## Step 0. 데이터에 관한 사전 배경 지식"
      ]
    },
    {
      "cell_type": "markdown",
      "metadata": {
        "id": "c0iKTnLNsraM"
      },
      "source": [
        "### 미국의 선거 제도에 대하여\n"
      ]
    },
    {
      "cell_type": "markdown",
      "metadata": {
        "id": "cxZwPnfms0-9"
      },
      "source": [
        "### 2020 미국 선거 데이터셋 설명\n"
      ]
    },
    {
      "cell_type": "markdown",
      "metadata": {
        "id": "dXG8AFZyCiS1"
      },
      "source": [
        "### 2017 미국 인구조사 데이터셋(보조 데이터셋) 설명"
      ]
    },
    {
      "cell_type": "markdown",
      "metadata": {
        "id": "IRssoNrgP7So"
      },
      "source": [
        "## Step 1. 데이터셋 준비하기"
      ]
    },
    {
      "cell_type": "markdown",
      "source": [
        "- geopandas :   벡터 데이터 작업을 위한 라이브러리(공간 데이터 처리에 유용하게 사용)\n",
        "- pyshp : shape file을 다루기 위한 라이브러리\n",
        "- shapely : 평면 형상 처리와 분석\n",
        "- plotly-geo : 데이터 시각화 툴(=matplotlib)"
      ],
      "metadata": {
        "id": "9fm08hhpowf-"
      }
    },
    {
      "cell_type": "code",
      "metadata": {
        "id": "2-cM6ibXYvSv",
        "colab": {
          "base_uri": "https://localhost:8080/"
        },
        "outputId": "d29f2cf9-8e3f-4dd2-9c02-177be4390e2d"
      },
      "source": [
        "!pip install geopandas\n",
        "!pip install pyshp\n",
        "!pip install shapely\n",
        "!pip install plotly-geo"
      ],
      "execution_count": 1,
      "outputs": [
        {
          "output_type": "stream",
          "name": "stdout",
          "text": [
            "Collecting geopandas\n",
            "  Downloading geopandas-0.10.2-py2.py3-none-any.whl (1.0 MB)\n",
            "\u001b[?25l\r\u001b[K     |▎                               | 10 kB 4.9 MB/s eta 0:00:01\r\u001b[K     |▋                               | 20 kB 8.5 MB/s eta 0:00:01\r\u001b[K     |█                               | 30 kB 9.5 MB/s eta 0:00:01\r\u001b[K     |█▎                              | 40 kB 8.5 MB/s eta 0:00:01\r\u001b[K     |█▋                              | 51 kB 4.3 MB/s eta 0:00:01\r\u001b[K     |██                              | 61 kB 5.1 MB/s eta 0:00:01\r\u001b[K     |██▎                             | 71 kB 5.3 MB/s eta 0:00:01\r\u001b[K     |██▌                             | 81 kB 5.7 MB/s eta 0:00:01\r\u001b[K     |██▉                             | 92 kB 6.4 MB/s eta 0:00:01\r\u001b[K     |███▏                            | 102 kB 5.0 MB/s eta 0:00:01\r\u001b[K     |███▌                            | 112 kB 5.0 MB/s eta 0:00:01\r\u001b[K     |███▉                            | 122 kB 5.0 MB/s eta 0:00:01\r\u001b[K     |████▏                           | 133 kB 5.0 MB/s eta 0:00:01\r\u001b[K     |████▌                           | 143 kB 5.0 MB/s eta 0:00:01\r\u001b[K     |████▊                           | 153 kB 5.0 MB/s eta 0:00:01\r\u001b[K     |█████                           | 163 kB 5.0 MB/s eta 0:00:01\r\u001b[K     |█████▍                          | 174 kB 5.0 MB/s eta 0:00:01\r\u001b[K     |█████▊                          | 184 kB 5.0 MB/s eta 0:00:01\r\u001b[K     |██████                          | 194 kB 5.0 MB/s eta 0:00:01\r\u001b[K     |██████▍                         | 204 kB 5.0 MB/s eta 0:00:01\r\u001b[K     |██████▊                         | 215 kB 5.0 MB/s eta 0:00:01\r\u001b[K     |███████                         | 225 kB 5.0 MB/s eta 0:00:01\r\u001b[K     |███████▎                        | 235 kB 5.0 MB/s eta 0:00:01\r\u001b[K     |███████▋                        | 245 kB 5.0 MB/s eta 0:00:01\r\u001b[K     |████████                        | 256 kB 5.0 MB/s eta 0:00:01\r\u001b[K     |████████▎                       | 266 kB 5.0 MB/s eta 0:00:01\r\u001b[K     |████████▋                       | 276 kB 5.0 MB/s eta 0:00:01\r\u001b[K     |█████████                       | 286 kB 5.0 MB/s eta 0:00:01\r\u001b[K     |█████████▏                      | 296 kB 5.0 MB/s eta 0:00:01\r\u001b[K     |█████████▌                      | 307 kB 5.0 MB/s eta 0:00:01\r\u001b[K     |█████████▉                      | 317 kB 5.0 MB/s eta 0:00:01\r\u001b[K     |██████████▏                     | 327 kB 5.0 MB/s eta 0:00:01\r\u001b[K     |██████████▌                     | 337 kB 5.0 MB/s eta 0:00:01\r\u001b[K     |██████████▉                     | 348 kB 5.0 MB/s eta 0:00:01\r\u001b[K     |███████████▏                    | 358 kB 5.0 MB/s eta 0:00:01\r\u001b[K     |███████████▍                    | 368 kB 5.0 MB/s eta 0:00:01\r\u001b[K     |███████████▊                    | 378 kB 5.0 MB/s eta 0:00:01\r\u001b[K     |████████████                    | 389 kB 5.0 MB/s eta 0:00:01\r\u001b[K     |████████████▍                   | 399 kB 5.0 MB/s eta 0:00:01\r\u001b[K     |████████████▊                   | 409 kB 5.0 MB/s eta 0:00:01\r\u001b[K     |█████████████                   | 419 kB 5.0 MB/s eta 0:00:01\r\u001b[K     |█████████████▍                  | 430 kB 5.0 MB/s eta 0:00:01\r\u001b[K     |█████████████▋                  | 440 kB 5.0 MB/s eta 0:00:01\r\u001b[K     |██████████████                  | 450 kB 5.0 MB/s eta 0:00:01\r\u001b[K     |██████████████▎                 | 460 kB 5.0 MB/s eta 0:00:01\r\u001b[K     |██████████████▋                 | 471 kB 5.0 MB/s eta 0:00:01\r\u001b[K     |███████████████                 | 481 kB 5.0 MB/s eta 0:00:01\r\u001b[K     |███████████████▎                | 491 kB 5.0 MB/s eta 0:00:01\r\u001b[K     |███████████████▋                | 501 kB 5.0 MB/s eta 0:00:01\r\u001b[K     |███████████████▉                | 512 kB 5.0 MB/s eta 0:00:01\r\u001b[K     |████████████████▏               | 522 kB 5.0 MB/s eta 0:00:01\r\u001b[K     |████████████████▌               | 532 kB 5.0 MB/s eta 0:00:01\r\u001b[K     |████████████████▉               | 542 kB 5.0 MB/s eta 0:00:01\r\u001b[K     |█████████████████▏              | 552 kB 5.0 MB/s eta 0:00:01\r\u001b[K     |█████████████████▌              | 563 kB 5.0 MB/s eta 0:00:01\r\u001b[K     |█████████████████▉              | 573 kB 5.0 MB/s eta 0:00:01\r\u001b[K     |██████████████████              | 583 kB 5.0 MB/s eta 0:00:01\r\u001b[K     |██████████████████▍             | 593 kB 5.0 MB/s eta 0:00:01\r\u001b[K     |██████████████████▊             | 604 kB 5.0 MB/s eta 0:00:01\r\u001b[K     |███████████████████             | 614 kB 5.0 MB/s eta 0:00:01\r\u001b[K     |███████████████████▍            | 624 kB 5.0 MB/s eta 0:00:01\r\u001b[K     |███████████████████▊            | 634 kB 5.0 MB/s eta 0:00:01\r\u001b[K     |████████████████████            | 645 kB 5.0 MB/s eta 0:00:01\r\u001b[K     |████████████████████▎           | 655 kB 5.0 MB/s eta 0:00:01\r\u001b[K     |████████████████████▋           | 665 kB 5.0 MB/s eta 0:00:01\r\u001b[K     |█████████████████████           | 675 kB 5.0 MB/s eta 0:00:01\r\u001b[K     |█████████████████████▎          | 686 kB 5.0 MB/s eta 0:00:01\r\u001b[K     |█████████████████████▋          | 696 kB 5.0 MB/s eta 0:00:01\r\u001b[K     |██████████████████████          | 706 kB 5.0 MB/s eta 0:00:01\r\u001b[K     |██████████████████████▎         | 716 kB 5.0 MB/s eta 0:00:01\r\u001b[K     |██████████████████████▋         | 727 kB 5.0 MB/s eta 0:00:01\r\u001b[K     |██████████████████████▉         | 737 kB 5.0 MB/s eta 0:00:01\r\u001b[K     |███████████████████████▏        | 747 kB 5.0 MB/s eta 0:00:01\r\u001b[K     |███████████████████████▌        | 757 kB 5.0 MB/s eta 0:00:01\r\u001b[K     |███████████████████████▉        | 768 kB 5.0 MB/s eta 0:00:01\r\u001b[K     |████████████████████████▏       | 778 kB 5.0 MB/s eta 0:00:01\r\u001b[K     |████████████████████████▌       | 788 kB 5.0 MB/s eta 0:00:01\r\u001b[K     |████████████████████████▉       | 798 kB 5.0 MB/s eta 0:00:01\r\u001b[K     |█████████████████████████       | 808 kB 5.0 MB/s eta 0:00:01\r\u001b[K     |█████████████████████████▍      | 819 kB 5.0 MB/s eta 0:00:01\r\u001b[K     |█████████████████████████▊      | 829 kB 5.0 MB/s eta 0:00:01\r\u001b[K     |██████████████████████████      | 839 kB 5.0 MB/s eta 0:00:01\r\u001b[K     |██████████████████████████▍     | 849 kB 5.0 MB/s eta 0:00:01\r\u001b[K     |██████████████████████████▊     | 860 kB 5.0 MB/s eta 0:00:01\r\u001b[K     |███████████████████████████     | 870 kB 5.0 MB/s eta 0:00:01\r\u001b[K     |███████████████████████████▎    | 880 kB 5.0 MB/s eta 0:00:01\r\u001b[K     |███████████████████████████▋    | 890 kB 5.0 MB/s eta 0:00:01\r\u001b[K     |████████████████████████████    | 901 kB 5.0 MB/s eta 0:00:01\r\u001b[K     |████████████████████████████▎   | 911 kB 5.0 MB/s eta 0:00:01\r\u001b[K     |████████████████████████████▋   | 921 kB 5.0 MB/s eta 0:00:01\r\u001b[K     |█████████████████████████████   | 931 kB 5.0 MB/s eta 0:00:01\r\u001b[K     |█████████████████████████████▎  | 942 kB 5.0 MB/s eta 0:00:01\r\u001b[K     |█████████████████████████████▌  | 952 kB 5.0 MB/s eta 0:00:01\r\u001b[K     |█████████████████████████████▉  | 962 kB 5.0 MB/s eta 0:00:01\r\u001b[K     |██████████████████████████████▏ | 972 kB 5.0 MB/s eta 0:00:01\r\u001b[K     |██████████████████████████████▌ | 983 kB 5.0 MB/s eta 0:00:01\r\u001b[K     |██████████████████████████████▉ | 993 kB 5.0 MB/s eta 0:00:01\r\u001b[K     |███████████████████████████████▏| 1.0 MB 5.0 MB/s eta 0:00:01\r\u001b[K     |███████████████████████████████▌| 1.0 MB 5.0 MB/s eta 0:00:01\r\u001b[K     |███████████████████████████████▊| 1.0 MB 5.0 MB/s eta 0:00:01\r\u001b[K     |████████████████████████████████| 1.0 MB 5.0 MB/s \n",
            "\u001b[?25hRequirement already satisfied: shapely>=1.6 in /usr/local/lib/python3.7/dist-packages (from geopandas) (1.8.1)\n",
            "Requirement already satisfied: pandas>=0.25.0 in /usr/local/lib/python3.7/dist-packages (from geopandas) (1.3.5)\n",
            "Collecting fiona>=1.8\n",
            "  Downloading Fiona-1.8.21-cp37-cp37m-manylinux2014_x86_64.whl (16.7 MB)\n",
            "\u001b[K     |████████████████████████████████| 16.7 MB 46.8 MB/s \n",
            "\u001b[?25hCollecting pyproj>=2.2.0\n",
            "  Downloading pyproj-3.2.1-cp37-cp37m-manylinux2010_x86_64.whl (6.3 MB)\n",
            "\u001b[K     |████████████████████████████████| 6.3 MB 44.5 MB/s \n",
            "\u001b[?25hRequirement already satisfied: attrs>=17 in /usr/local/lib/python3.7/dist-packages (from fiona>=1.8->geopandas) (21.4.0)\n",
            "Collecting click-plugins>=1.0\n",
            "  Downloading click_plugins-1.1.1-py2.py3-none-any.whl (7.5 kB)\n",
            "Requirement already satisfied: setuptools in /usr/local/lib/python3.7/dist-packages (from fiona>=1.8->geopandas) (57.4.0)\n",
            "Requirement already satisfied: certifi in /usr/local/lib/python3.7/dist-packages (from fiona>=1.8->geopandas) (2021.10.8)\n",
            "Collecting munch\n",
            "  Downloading munch-2.5.0-py2.py3-none-any.whl (10 kB)\n",
            "Collecting cligj>=0.5\n",
            "  Downloading cligj-0.7.2-py3-none-any.whl (7.1 kB)\n",
            "Requirement already satisfied: click>=4.0 in /usr/local/lib/python3.7/dist-packages (from fiona>=1.8->geopandas) (7.1.2)\n",
            "Requirement already satisfied: six>=1.7 in /usr/local/lib/python3.7/dist-packages (from fiona>=1.8->geopandas) (1.15.0)\n",
            "Requirement already satisfied: pytz>=2017.3 in /usr/local/lib/python3.7/dist-packages (from pandas>=0.25.0->geopandas) (2018.9)\n",
            "Requirement already satisfied: python-dateutil>=2.7.3 in /usr/local/lib/python3.7/dist-packages (from pandas>=0.25.0->geopandas) (2.8.2)\n",
            "Requirement already satisfied: numpy>=1.17.3 in /usr/local/lib/python3.7/dist-packages (from pandas>=0.25.0->geopandas) (1.21.5)\n",
            "Installing collected packages: munch, cligj, click-plugins, pyproj, fiona, geopandas\n",
            "Successfully installed click-plugins-1.1.1 cligj-0.7.2 fiona-1.8.21 geopandas-0.10.2 munch-2.5.0 pyproj-3.2.1\n",
            "Collecting pyshp\n",
            "  Downloading pyshp-2.2.0-py3-none-any.whl (44 kB)\n",
            "\u001b[K     |████████████████████████████████| 44 kB 1.6 MB/s \n",
            "\u001b[?25hInstalling collected packages: pyshp\n",
            "Successfully installed pyshp-2.2.0\n",
            "Requirement already satisfied: shapely in /usr/local/lib/python3.7/dist-packages (1.8.1)\n",
            "Collecting plotly-geo\n",
            "  Downloading plotly_geo-1.0.0-py3-none-any.whl (23.7 MB)\n",
            "\u001b[K     |████████████████████████████████| 23.7 MB 68.3 MB/s \n",
            "\u001b[?25hInstalling collected packages: plotly-geo\n",
            "Successfully installed plotly-geo-1.0.0\n"
          ]
        }
      ]
    },
    {
      "cell_type": "code",
      "metadata": {
        "id": "g49RuFGrBvt7"
      },
      "source": [
        "import pandas as pd\n",
        "import numpy as np\n",
        "import matplotlib.pyplot as plt\n",
        "import seaborn as sns"
      ],
      "execution_count": 2,
      "outputs": []
    },
    {
      "cell_type": "markdown",
      "metadata": {
        "id": "paInbv8Ys-Qy"
      },
      "source": [
        "### 문제 1. Colab Notebook에 Kaggle API 세팅하기\n"
      ]
    },
    {
      "cell_type": "code",
      "metadata": {
        "id": "RRXGYV60B7FX"
      },
      "source": [
        "import os"
      ],
      "execution_count": 3,
      "outputs": []
    },
    {
      "cell_type": "code",
      "metadata": {
        "id": "mMKFOC0OBtHO"
      },
      "source": [
        "# os.environ을 이용하여 Kaggle API Username, Key 세팅하기\n",
        "os.environ['KAGGLE_USERNAME'] = 'puddinghong'\n"
      ],
      "execution_count": 5,
      "outputs": []
    },
    {
      "cell_type": "markdown",
      "metadata": {
        "id": "zvbeoB_WtBi-"
      },
      "source": [
        "### 문제 2. 데이터 다운로드 및 압축 해제하기\n"
      ]
    },
    {
      "cell_type": "code",
      "metadata": {
        "id": "JSblp2NsCGbh",
        "colab": {
          "base_uri": "https://localhost:8080/"
        },
        "outputId": "8b84b9a9-b64b-403e-f2cc-d4f9da8a56d8"
      },
      "source": [
        "# Linux 명령어로 Kaggle API를 이용하여 데이터셋 다운로드하기 (!kaggle ~)\n",
        "# Linux 명령어로 압축 해제하기\n",
        "!kaggle datasets download -d unanimad/us-election-2020\n",
        "!kaggle datasets download -d muonneutrino/us-census-demographic-data\n",
        "!unzip '*.zip'"
      ],
      "execution_count": 9,
      "outputs": [
        {
          "output_type": "stream",
          "name": "stdout",
          "text": [
            "us-election-2020.zip: Skipping, found more recently modified local copy (use --force to force download)\n",
            "us-census-demographic-data.zip: Skipping, found more recently modified local copy (use --force to force download)\n",
            "Archive:  us-election-2020.zip\n",
            "  inflating: governors_county.csv    \n",
            "  inflating: governors_county_candidate.csv  \n",
            "  inflating: governors_state.csv     \n",
            "  inflating: house_candidate.csv     \n",
            "  inflating: house_state.csv         \n",
            "  inflating: president_county.csv    \n",
            "  inflating: president_county_candidate.csv  \n",
            "  inflating: president_state.csv     \n",
            "  inflating: senate_county.csv       \n",
            "  inflating: senate_county_candidate.csv  \n",
            "  inflating: senate_state.csv        \n",
            "\n",
            "Archive:  us-census-demographic-data.zip\n",
            "  inflating: acs2015_census_tract_data.csv  \n",
            "  inflating: acs2015_county_data.csv  \n",
            "  inflating: acs2017_census_tract_data.csv  \n",
            "  inflating: acs2017_county_data.csv  \n",
            "\n",
            "2 archives were successfully processed.\n"
          ]
        }
      ]
    },
    {
      "cell_type": "markdown",
      "metadata": {
        "id": "aJ34SovLtFI8"
      },
      "source": [
        "### 문제 3. Pandas 라이브러리로 csv파일 읽어들이기\n"
      ]
    },
    {
      "cell_type": "code",
      "metadata": {
        "id": "RnJv-4YwCMSx"
      },
      "source": [
        "# from US Election 2020\n",
        "df_pres = pd.read_csv('president_county_candidate.csv')\n",
        "df_gov = pd.read_csv('governors_county_candidate.csv')\n",
        "\n",
        "# from US Census 2017\n",
        "df_census = pd.read_csv('acs2017_census_tract_data.csv')"
      ],
      "execution_count": 10,
      "outputs": []
    },
    {
      "cell_type": "markdown",
      "source": [
        "- pd.read_html('url')[index] :  html페이지에 <table>tag 로 구성된 부분을 가져와 표로 만들어진 목록을 만들어줌   \n",
        "- 아래 html에는 표가 두 개 있으므로 첫 번째 표를 가져오기 위해 [0]으로 인덱스 번호 지정함\n"
      ],
      "metadata": {
        "id": "YDsMZOTjtVBz"
      }
    },
    {
      "cell_type": "code",
      "metadata": {
        "id": "7clcljRrmsO5"
      },
      "source": [
        "# State Code 관련 부가 자료\n",
        "state_code = pd.read_html('https://www.infoplease.com/us/postal-information/state-abbreviations-and-state-postal-codes')[0]"
      ],
      "execution_count": 11,
      "outputs": []
    },
    {
      "cell_type": "markdown",
      "source": [
        "![image.png](data:image/png;base64,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)"
      ],
      "metadata": {
        "id": "x0_f9GGPswz-"
      }
    },
    {
      "cell_type": "markdown",
      "metadata": {
        "id": "9L3BNVM7tHN5"
      },
      "source": [
        "## Step 2. EDA 및 데이터 기초 통계 분석\n"
      ]
    },
    {
      "cell_type": "markdown",
      "metadata": {
        "id": "HyFm33tNtVn7"
      },
      "source": [
        "### 문제 4. 각 데이터프레임 구조 및 기초 통계 확인하기\n"
      ]
    },
    {
      "cell_type": "code",
      "metadata": {
        "id": "YcR9BX23DIFW",
        "colab": {
          "base_uri": "https://localhost:8080/",
          "height": 206
        },
        "outputId": "0e7fe5a3-b86d-46c5-d6f9-67cc555e681a"
      },
      "source": [
        "# DataFrame에서 제공하는 메소드를 이용하여 각 데이터프레임의 구조 분석하기 (head(), info(), describe())\n",
        "df_pres.head()"
      ],
      "execution_count": 12,
      "outputs": [
        {
          "output_type": "execute_result",
          "data": {
            "text/html": [
              "\n",
              "  <div id=\"df-41d3c57b-267a-4a4d-9ed2-9191b6b44832\">\n",
              "    <div class=\"colab-df-container\">\n",
              "      <div>\n",
              "<style scoped>\n",
              "    .dataframe tbody tr th:only-of-type {\n",
              "        vertical-align: middle;\n",
              "    }\n",
              "\n",
              "    .dataframe tbody tr th {\n",
              "        vertical-align: top;\n",
              "    }\n",
              "\n",
              "    .dataframe thead th {\n",
              "        text-align: right;\n",
              "    }\n",
              "</style>\n",
              "<table border=\"1\" class=\"dataframe\">\n",
              "  <thead>\n",
              "    <tr style=\"text-align: right;\">\n",
              "      <th></th>\n",
              "      <th>state</th>\n",
              "      <th>county</th>\n",
              "      <th>candidate</th>\n",
              "      <th>party</th>\n",
              "      <th>total_votes</th>\n",
              "      <th>won</th>\n",
              "    </tr>\n",
              "  </thead>\n",
              "  <tbody>\n",
              "    <tr>\n",
              "      <th>0</th>\n",
              "      <td>Delaware</td>\n",
              "      <td>Kent County</td>\n",
              "      <td>Joe Biden</td>\n",
              "      <td>DEM</td>\n",
              "      <td>44552</td>\n",
              "      <td>True</td>\n",
              "    </tr>\n",
              "    <tr>\n",
              "      <th>1</th>\n",
              "      <td>Delaware</td>\n",
              "      <td>Kent County</td>\n",
              "      <td>Donald Trump</td>\n",
              "      <td>REP</td>\n",
              "      <td>41009</td>\n",
              "      <td>False</td>\n",
              "    </tr>\n",
              "    <tr>\n",
              "      <th>2</th>\n",
              "      <td>Delaware</td>\n",
              "      <td>Kent County</td>\n",
              "      <td>Jo Jorgensen</td>\n",
              "      <td>LIB</td>\n",
              "      <td>1044</td>\n",
              "      <td>False</td>\n",
              "    </tr>\n",
              "    <tr>\n",
              "      <th>3</th>\n",
              "      <td>Delaware</td>\n",
              "      <td>Kent County</td>\n",
              "      <td>Howie Hawkins</td>\n",
              "      <td>GRN</td>\n",
              "      <td>420</td>\n",
              "      <td>False</td>\n",
              "    </tr>\n",
              "    <tr>\n",
              "      <th>4</th>\n",
              "      <td>Delaware</td>\n",
              "      <td>New Castle County</td>\n",
              "      <td>Joe Biden</td>\n",
              "      <td>DEM</td>\n",
              "      <td>195034</td>\n",
              "      <td>True</td>\n",
              "    </tr>\n",
              "  </tbody>\n",
              "</table>\n",
              "</div>\n",
              "      <button class=\"colab-df-convert\" onclick=\"convertToInteractive('df-41d3c57b-267a-4a4d-9ed2-9191b6b44832')\"\n",
              "              title=\"Convert this dataframe to an interactive table.\"\n",
              "              style=\"display:none;\">\n",
              "        \n",
              "  <svg xmlns=\"http://www.w3.org/2000/svg\" height=\"24px\"viewBox=\"0 0 24 24\"\n",
              "       width=\"24px\">\n",
              "    <path d=\"M0 0h24v24H0V0z\" fill=\"none\"/>\n",
              "    <path d=\"M18.56 5.44l.94 2.06.94-2.06 2.06-.94-2.06-.94-.94-2.06-.94 2.06-2.06.94zm-11 1L8.5 8.5l.94-2.06 2.06-.94-2.06-.94L8.5 2.5l-.94 2.06-2.06.94zm10 10l.94 2.06.94-2.06 2.06-.94-2.06-.94-.94-2.06-.94 2.06-2.06.94z\"/><path d=\"M17.41 7.96l-1.37-1.37c-.4-.4-.92-.59-1.43-.59-.52 0-1.04.2-1.43.59L10.3 9.45l-7.72 7.72c-.78.78-.78 2.05 0 2.83L4 21.41c.39.39.9.59 1.41.59.51 0 1.02-.2 1.41-.59l7.78-7.78 2.81-2.81c.8-.78.8-2.07 0-2.86zM5.41 20L4 18.59l7.72-7.72 1.47 1.35L5.41 20z\"/>\n",
              "  </svg>\n",
              "      </button>\n",
              "      \n",
              "  <style>\n",
              "    .colab-df-container {\n",
              "      display:flex;\n",
              "      flex-wrap:wrap;\n",
              "      gap: 12px;\n",
              "    }\n",
              "\n",
              "    .colab-df-convert {\n",
              "      background-color: #E8F0FE;\n",
              "      border: none;\n",
              "      border-radius: 50%;\n",
              "      cursor: pointer;\n",
              "      display: none;\n",
              "      fill: #1967D2;\n",
              "      height: 32px;\n",
              "      padding: 0 0 0 0;\n",
              "      width: 32px;\n",
              "    }\n",
              "\n",
              "    .colab-df-convert:hover {\n",
              "      background-color: #E2EBFA;\n",
              "      box-shadow: 0px 1px 2px rgba(60, 64, 67, 0.3), 0px 1px 3px 1px rgba(60, 64, 67, 0.15);\n",
              "      fill: #174EA6;\n",
              "    }\n",
              "\n",
              "    [theme=dark] .colab-df-convert {\n",
              "      background-color: #3B4455;\n",
              "      fill: #D2E3FC;\n",
              "    }\n",
              "\n",
              "    [theme=dark] .colab-df-convert:hover {\n",
              "      background-color: #434B5C;\n",
              "      box-shadow: 0px 1px 3px 1px rgba(0, 0, 0, 0.15);\n",
              "      filter: drop-shadow(0px 1px 2px rgba(0, 0, 0, 0.3));\n",
              "      fill: #FFFFFF;\n",
              "    }\n",
              "  </style>\n",
              "\n",
              "      <script>\n",
              "        const buttonEl =\n",
              "          document.querySelector('#df-41d3c57b-267a-4a4d-9ed2-9191b6b44832 button.colab-df-convert');\n",
              "        buttonEl.style.display =\n",
              "          google.colab.kernel.accessAllowed ? 'block' : 'none';\n",
              "\n",
              "        async function convertToInteractive(key) {\n",
              "          const element = document.querySelector('#df-41d3c57b-267a-4a4d-9ed2-9191b6b44832');\n",
              "          const dataTable =\n",
              "            await google.colab.kernel.invokeFunction('convertToInteractive',\n",
              "                                                     [key], {});\n",
              "          if (!dataTable) return;\n",
              "\n",
              "          const docLinkHtml = 'Like what you see? Visit the ' +\n",
              "            '<a target=\"_blank\" href=https://colab.research.google.com/notebooks/data_table.ipynb>data table notebook</a>'\n",
              "            + ' to learn more about interactive tables.';\n",
              "          element.innerHTML = '';\n",
              "          dataTable['output_type'] = 'display_data';\n",
              "          await google.colab.output.renderOutput(dataTable, element);\n",
              "          const docLink = document.createElement('div');\n",
              "          docLink.innerHTML = docLinkHtml;\n",
              "          element.appendChild(docLink);\n",
              "        }\n",
              "      </script>\n",
              "    </div>\n",
              "  </div>\n",
              "  "
            ],
            "text/plain": [
              "      state             county      candidate party  total_votes    won\n",
              "0  Delaware        Kent County      Joe Biden   DEM        44552   True\n",
              "1  Delaware        Kent County   Donald Trump   REP        41009  False\n",
              "2  Delaware        Kent County   Jo Jorgensen   LIB         1044  False\n",
              "3  Delaware        Kent County  Howie Hawkins   GRN          420  False\n",
              "4  Delaware  New Castle County      Joe Biden   DEM       195034   True"
            ]
          },
          "metadata": {},
          "execution_count": 12
        }
      ]
    },
    {
      "cell_type": "markdown",
      "source": [
        "- DEM : 민주당(바이든)   \n",
        "- REP : 공화당(트럼프)   "
      ],
      "metadata": {
        "id": "6loBuWxIuOB3"
      }
    },
    {
      "cell_type": "code",
      "source": [
        "# 후보자 확인\n",
        "# Write_ins는 사람 아님\n",
        "df_pres['candidate'].unique()"
      ],
      "metadata": {
        "colab": {
          "base_uri": "https://localhost:8080/"
        },
        "id": "2ntl925JucFj",
        "outputId": "3394f1c7-20fc-4a2e-969f-0ccd3147d275"
      },
      "execution_count": 18,
      "outputs": [
        {
          "output_type": "execute_result",
          "data": {
            "text/plain": [
              "array(['Joe Biden', 'Donald Trump', 'Jo Jorgensen', 'Howie Hawkins',\n",
              "       ' Write-ins', 'Gloria La Riva', 'Brock Pierce',\n",
              "       'Rocky De La Fuente', 'Don Blankenship', 'Kanye West',\n",
              "       'Brian Carroll', 'Ricki Sue King', 'Jade Simmons',\n",
              "       'President Boddie', 'Bill Hammons', 'Tom Hoefling',\n",
              "       'Alyson Kennedy', 'Jerome Segal', 'Phil Collins',\n",
              "       ' None of these candidates', 'Sheila Samm Tittle', 'Dario Hunter',\n",
              "       'Joe McHugh', 'Christopher LaFontaine', 'Keith McCormic',\n",
              "       'Brooke Paige', 'Gary Swing', 'Richard Duncan', 'Blake Huber',\n",
              "       'Kyle Kopitke', 'Zachary Scalf', 'Jesse Ventura', 'Connie Gammon',\n",
              "       'John Richard Myers', 'Mark Charles', 'Princess Jacob-Fambro',\n",
              "       'Joseph Kishore', 'Jordan Scott'], dtype=object)"
            ]
          },
          "metadata": {},
          "execution_count": 18
        }
      ]
    },
    {
      "cell_type": "code",
      "source": [
        "# 투표수 확인\n",
        "df_pres.loc[df_pres['candidate']=='Kanye West']['total_votes'].sum()"
      ],
      "metadata": {
        "colab": {
          "base_uri": "https://localhost:8080/"
        },
        "id": "nIBytUM0x-o1",
        "outputId": "7fc203e6-6243-45a3-ef19-92d4145769de"
      },
      "execution_count": 20,
      "outputs": [
        {
          "output_type": "execute_result",
          "data": {
            "text/plain": [
              "66367"
            ]
          },
          "metadata": {},
          "execution_count": 20
        }
      ]
    },
    {
      "cell_type": "code",
      "source": [
        "df_gov.head()"
      ],
      "metadata": {
        "colab": {
          "base_uri": "https://localhost:8080/",
          "height": 206
        },
        "id": "HXWHT8X7tJqC",
        "outputId": "a6f070f4-31af-43bf-ddda-f0b50d5ab2da"
      },
      "execution_count": 13,
      "outputs": [
        {
          "output_type": "execute_result",
          "data": {
            "text/html": [
              "\n",
              "  <div id=\"df-f84efebe-2fa0-464f-97dc-8d407dce0f4a\">\n",
              "    <div class=\"colab-df-container\">\n",
              "      <div>\n",
              "<style scoped>\n",
              "    .dataframe tbody tr th:only-of-type {\n",
              "        vertical-align: middle;\n",
              "    }\n",
              "\n",
              "    .dataframe tbody tr th {\n",
              "        vertical-align: top;\n",
              "    }\n",
              "\n",
              "    .dataframe thead th {\n",
              "        text-align: right;\n",
              "    }\n",
              "</style>\n",
              "<table border=\"1\" class=\"dataframe\">\n",
              "  <thead>\n",
              "    <tr style=\"text-align: right;\">\n",
              "      <th></th>\n",
              "      <th>state</th>\n",
              "      <th>county</th>\n",
              "      <th>candidate</th>\n",
              "      <th>party</th>\n",
              "      <th>votes</th>\n",
              "      <th>won</th>\n",
              "    </tr>\n",
              "  </thead>\n",
              "  <tbody>\n",
              "    <tr>\n",
              "      <th>0</th>\n",
              "      <td>Delaware</td>\n",
              "      <td>Kent County</td>\n",
              "      <td>John Carney</td>\n",
              "      <td>DEM</td>\n",
              "      <td>44352</td>\n",
              "      <td>True</td>\n",
              "    </tr>\n",
              "    <tr>\n",
              "      <th>1</th>\n",
              "      <td>Delaware</td>\n",
              "      <td>Kent County</td>\n",
              "      <td>Julianne Murray</td>\n",
              "      <td>REP</td>\n",
              "      <td>39332</td>\n",
              "      <td>False</td>\n",
              "    </tr>\n",
              "    <tr>\n",
              "      <th>2</th>\n",
              "      <td>Delaware</td>\n",
              "      <td>Kent County</td>\n",
              "      <td>Kathy DeMatteis</td>\n",
              "      <td>IPD</td>\n",
              "      <td>1115</td>\n",
              "      <td>False</td>\n",
              "    </tr>\n",
              "    <tr>\n",
              "      <th>3</th>\n",
              "      <td>Delaware</td>\n",
              "      <td>Kent County</td>\n",
              "      <td>John Machurek</td>\n",
              "      <td>LIB</td>\n",
              "      <td>616</td>\n",
              "      <td>False</td>\n",
              "    </tr>\n",
              "    <tr>\n",
              "      <th>4</th>\n",
              "      <td>Delaware</td>\n",
              "      <td>New Castle County</td>\n",
              "      <td>John Carney</td>\n",
              "      <td>DEM</td>\n",
              "      <td>191678</td>\n",
              "      <td>True</td>\n",
              "    </tr>\n",
              "  </tbody>\n",
              "</table>\n",
              "</div>\n",
              "      <button class=\"colab-df-convert\" onclick=\"convertToInteractive('df-f84efebe-2fa0-464f-97dc-8d407dce0f4a')\"\n",
              "              title=\"Convert this dataframe to an interactive table.\"\n",
              "              style=\"display:none;\">\n",
              "        \n",
              "  <svg xmlns=\"http://www.w3.org/2000/svg\" height=\"24px\"viewBox=\"0 0 24 24\"\n",
              "       width=\"24px\">\n",
              "    <path d=\"M0 0h24v24H0V0z\" fill=\"none\"/>\n",
              "    <path d=\"M18.56 5.44l.94 2.06.94-2.06 2.06-.94-2.06-.94-.94-2.06-.94 2.06-2.06.94zm-11 1L8.5 8.5l.94-2.06 2.06-.94-2.06-.94L8.5 2.5l-.94 2.06-2.06.94zm10 10l.94 2.06.94-2.06 2.06-.94-2.06-.94-.94-2.06-.94 2.06-2.06.94z\"/><path d=\"M17.41 7.96l-1.37-1.37c-.4-.4-.92-.59-1.43-.59-.52 0-1.04.2-1.43.59L10.3 9.45l-7.72 7.72c-.78.78-.78 2.05 0 2.83L4 21.41c.39.39.9.59 1.41.59.51 0 1.02-.2 1.41-.59l7.78-7.78 2.81-2.81c.8-.78.8-2.07 0-2.86zM5.41 20L4 18.59l7.72-7.72 1.47 1.35L5.41 20z\"/>\n",
              "  </svg>\n",
              "      </button>\n",
              "      \n",
              "  <style>\n",
              "    .colab-df-container {\n",
              "      display:flex;\n",
              "      flex-wrap:wrap;\n",
              "      gap: 12px;\n",
              "    }\n",
              "\n",
              "    .colab-df-convert {\n",
              "      background-color: #E8F0FE;\n",
              "      border: none;\n",
              "      border-radius: 50%;\n",
              "      cursor: pointer;\n",
              "      display: none;\n",
              "      fill: #1967D2;\n",
              "      height: 32px;\n",
              "      padding: 0 0 0 0;\n",
              "      width: 32px;\n",
              "    }\n",
              "\n",
              "    .colab-df-convert:hover {\n",
              "      background-color: #E2EBFA;\n",
              "      box-shadow: 0px 1px 2px rgba(60, 64, 67, 0.3), 0px 1px 3px 1px rgba(60, 64, 67, 0.15);\n",
              "      fill: #174EA6;\n",
              "    }\n",
              "\n",
              "    [theme=dark] .colab-df-convert {\n",
              "      background-color: #3B4455;\n",
              "      fill: #D2E3FC;\n",
              "    }\n",
              "\n",
              "    [theme=dark] .colab-df-convert:hover {\n",
              "      background-color: #434B5C;\n",
              "      box-shadow: 0px 1px 3px 1px rgba(0, 0, 0, 0.15);\n",
              "      filter: drop-shadow(0px 1px 2px rgba(0, 0, 0, 0.3));\n",
              "      fill: #FFFFFF;\n",
              "    }\n",
              "  </style>\n",
              "\n",
              "      <script>\n",
              "        const buttonEl =\n",
              "          document.querySelector('#df-f84efebe-2fa0-464f-97dc-8d407dce0f4a button.colab-df-convert');\n",
              "        buttonEl.style.display =\n",
              "          google.colab.kernel.accessAllowed ? 'block' : 'none';\n",
              "\n",
              "        async function convertToInteractive(key) {\n",
              "          const element = document.querySelector('#df-f84efebe-2fa0-464f-97dc-8d407dce0f4a');\n",
              "          const dataTable =\n",
              "            await google.colab.kernel.invokeFunction('convertToInteractive',\n",
              "                                                     [key], {});\n",
              "          if (!dataTable) return;\n",
              "\n",
              "          const docLinkHtml = 'Like what you see? Visit the ' +\n",
              "            '<a target=\"_blank\" href=https://colab.research.google.com/notebooks/data_table.ipynb>data table notebook</a>'\n",
              "            + ' to learn more about interactive tables.';\n",
              "          element.innerHTML = '';\n",
              "          dataTable['output_type'] = 'display_data';\n",
              "          await google.colab.output.renderOutput(dataTable, element);\n",
              "          const docLink = document.createElement('div');\n",
              "          docLink.innerHTML = docLinkHtml;\n",
              "          element.appendChild(docLink);\n",
              "        }\n",
              "      </script>\n",
              "    </div>\n",
              "  </div>\n",
              "  "
            ],
            "text/plain": [
              "      state             county        candidate party   votes    won\n",
              "0  Delaware        Kent County      John Carney   DEM   44352   True\n",
              "1  Delaware        Kent County  Julianne Murray   REP   39332  False\n",
              "2  Delaware        Kent County  Kathy DeMatteis   IPD    1115  False\n",
              "3  Delaware        Kent County    John Machurek   LIB     616  False\n",
              "4  Delaware  New Castle County      John Carney   DEM  191678   True"
            ]
          },
          "metadata": {},
          "execution_count": 13
        }
      ]
    },
    {
      "cell_type": "code",
      "source": [
        "df_census.head()"
      ],
      "metadata": {
        "colab": {
          "base_uri": "https://localhost:8080/",
          "height": 357
        },
        "id": "bjEP7yVRtLcI",
        "outputId": "3848e673-f1b8-40c4-8cc7-d7f9a93f01d2"
      },
      "execution_count": 14,
      "outputs": [
        {
          "output_type": "execute_result",
          "data": {
            "text/html": [
              "\n",
              "  <div id=\"df-99abe08c-4eb5-4041-ba38-923be4307728\">\n",
              "    <div class=\"colab-df-container\">\n",
              "      <div>\n",
              "<style scoped>\n",
              "    .dataframe tbody tr th:only-of-type {\n",
              "        vertical-align: middle;\n",
              "    }\n",
              "\n",
              "    .dataframe tbody tr th {\n",
              "        vertical-align: top;\n",
              "    }\n",
              "\n",
              "    .dataframe thead th {\n",
              "        text-align: right;\n",
              "    }\n",
              "</style>\n",
              "<table border=\"1\" class=\"dataframe\">\n",
              "  <thead>\n",
              "    <tr style=\"text-align: right;\">\n",
              "      <th></th>\n",
              "      <th>TractId</th>\n",
              "      <th>State</th>\n",
              "      <th>County</th>\n",
              "      <th>TotalPop</th>\n",
              "      <th>Men</th>\n",
              "      <th>Women</th>\n",
              "      <th>Hispanic</th>\n",
              "      <th>White</th>\n",
              "      <th>Black</th>\n",
              "      <th>Native</th>\n",
              "      <th>Asian</th>\n",
              "      <th>Pacific</th>\n",
              "      <th>VotingAgeCitizen</th>\n",
              "      <th>Income</th>\n",
              "      <th>IncomeErr</th>\n",
              "      <th>IncomePerCap</th>\n",
              "      <th>IncomePerCapErr</th>\n",
              "      <th>Poverty</th>\n",
              "      <th>ChildPoverty</th>\n",
              "      <th>Professional</th>\n",
              "      <th>Service</th>\n",
              "      <th>Office</th>\n",
              "      <th>Construction</th>\n",
              "      <th>Production</th>\n",
              "      <th>Drive</th>\n",
              "      <th>Carpool</th>\n",
              "      <th>Transit</th>\n",
              "      <th>Walk</th>\n",
              "      <th>OtherTransp</th>\n",
              "      <th>WorkAtHome</th>\n",
              "      <th>MeanCommute</th>\n",
              "      <th>Employed</th>\n",
              "      <th>PrivateWork</th>\n",
              "      <th>PublicWork</th>\n",
              "      <th>SelfEmployed</th>\n",
              "      <th>FamilyWork</th>\n",
              "      <th>Unemployment</th>\n",
              "    </tr>\n",
              "  </thead>\n",
              "  <tbody>\n",
              "    <tr>\n",
              "      <th>0</th>\n",
              "      <td>1001020100</td>\n",
              "      <td>Alabama</td>\n",
              "      <td>Autauga County</td>\n",
              "      <td>1845</td>\n",
              "      <td>899</td>\n",
              "      <td>946</td>\n",
              "      <td>2.4</td>\n",
              "      <td>86.3</td>\n",
              "      <td>5.2</td>\n",
              "      <td>0.0</td>\n",
              "      <td>1.2</td>\n",
              "      <td>0.0</td>\n",
              "      <td>1407</td>\n",
              "      <td>67826.0</td>\n",
              "      <td>14560.0</td>\n",
              "      <td>33018.0</td>\n",
              "      <td>6294.0</td>\n",
              "      <td>10.7</td>\n",
              "      <td>20.8</td>\n",
              "      <td>38.5</td>\n",
              "      <td>15.6</td>\n",
              "      <td>22.8</td>\n",
              "      <td>10.8</td>\n",
              "      <td>12.4</td>\n",
              "      <td>94.2</td>\n",
              "      <td>3.3</td>\n",
              "      <td>0.0</td>\n",
              "      <td>0.5</td>\n",
              "      <td>0.0</td>\n",
              "      <td>2.1</td>\n",
              "      <td>24.5</td>\n",
              "      <td>881</td>\n",
              "      <td>74.2</td>\n",
              "      <td>21.2</td>\n",
              "      <td>4.5</td>\n",
              "      <td>0.0</td>\n",
              "      <td>4.6</td>\n",
              "    </tr>\n",
              "    <tr>\n",
              "      <th>1</th>\n",
              "      <td>1001020200</td>\n",
              "      <td>Alabama</td>\n",
              "      <td>Autauga County</td>\n",
              "      <td>2172</td>\n",
              "      <td>1167</td>\n",
              "      <td>1005</td>\n",
              "      <td>1.1</td>\n",
              "      <td>41.6</td>\n",
              "      <td>54.5</td>\n",
              "      <td>0.0</td>\n",
              "      <td>1.0</td>\n",
              "      <td>0.0</td>\n",
              "      <td>1652</td>\n",
              "      <td>41287.0</td>\n",
              "      <td>3819.0</td>\n",
              "      <td>18996.0</td>\n",
              "      <td>2453.0</td>\n",
              "      <td>22.4</td>\n",
              "      <td>35.8</td>\n",
              "      <td>30.5</td>\n",
              "      <td>24.9</td>\n",
              "      <td>22.9</td>\n",
              "      <td>6.3</td>\n",
              "      <td>15.4</td>\n",
              "      <td>90.5</td>\n",
              "      <td>9.1</td>\n",
              "      <td>0.0</td>\n",
              "      <td>0.0</td>\n",
              "      <td>0.5</td>\n",
              "      <td>0.0</td>\n",
              "      <td>22.2</td>\n",
              "      <td>852</td>\n",
              "      <td>75.9</td>\n",
              "      <td>15.0</td>\n",
              "      <td>9.0</td>\n",
              "      <td>0.0</td>\n",
              "      <td>3.4</td>\n",
              "    </tr>\n",
              "    <tr>\n",
              "      <th>2</th>\n",
              "      <td>1001020300</td>\n",
              "      <td>Alabama</td>\n",
              "      <td>Autauga County</td>\n",
              "      <td>3385</td>\n",
              "      <td>1533</td>\n",
              "      <td>1852</td>\n",
              "      <td>8.0</td>\n",
              "      <td>61.4</td>\n",
              "      <td>26.5</td>\n",
              "      <td>0.6</td>\n",
              "      <td>0.7</td>\n",
              "      <td>0.4</td>\n",
              "      <td>2480</td>\n",
              "      <td>46806.0</td>\n",
              "      <td>9496.0</td>\n",
              "      <td>21236.0</td>\n",
              "      <td>2562.0</td>\n",
              "      <td>14.7</td>\n",
              "      <td>21.1</td>\n",
              "      <td>27.9</td>\n",
              "      <td>19.4</td>\n",
              "      <td>33.3</td>\n",
              "      <td>9.9</td>\n",
              "      <td>9.6</td>\n",
              "      <td>88.3</td>\n",
              "      <td>8.4</td>\n",
              "      <td>0.0</td>\n",
              "      <td>1.0</td>\n",
              "      <td>0.8</td>\n",
              "      <td>1.5</td>\n",
              "      <td>23.1</td>\n",
              "      <td>1482</td>\n",
              "      <td>73.3</td>\n",
              "      <td>21.1</td>\n",
              "      <td>4.8</td>\n",
              "      <td>0.7</td>\n",
              "      <td>4.7</td>\n",
              "    </tr>\n",
              "    <tr>\n",
              "      <th>3</th>\n",
              "      <td>1001020400</td>\n",
              "      <td>Alabama</td>\n",
              "      <td>Autauga County</td>\n",
              "      <td>4267</td>\n",
              "      <td>2001</td>\n",
              "      <td>2266</td>\n",
              "      <td>9.6</td>\n",
              "      <td>80.3</td>\n",
              "      <td>7.1</td>\n",
              "      <td>0.5</td>\n",
              "      <td>0.2</td>\n",
              "      <td>0.0</td>\n",
              "      <td>3257</td>\n",
              "      <td>55895.0</td>\n",
              "      <td>4369.0</td>\n",
              "      <td>28068.0</td>\n",
              "      <td>3190.0</td>\n",
              "      <td>2.3</td>\n",
              "      <td>1.7</td>\n",
              "      <td>29.0</td>\n",
              "      <td>16.6</td>\n",
              "      <td>25.8</td>\n",
              "      <td>9.1</td>\n",
              "      <td>19.5</td>\n",
              "      <td>82.3</td>\n",
              "      <td>11.2</td>\n",
              "      <td>0.0</td>\n",
              "      <td>1.5</td>\n",
              "      <td>2.9</td>\n",
              "      <td>2.1</td>\n",
              "      <td>25.9</td>\n",
              "      <td>1849</td>\n",
              "      <td>75.8</td>\n",
              "      <td>19.7</td>\n",
              "      <td>4.5</td>\n",
              "      <td>0.0</td>\n",
              "      <td>6.1</td>\n",
              "    </tr>\n",
              "    <tr>\n",
              "      <th>4</th>\n",
              "      <td>1001020500</td>\n",
              "      <td>Alabama</td>\n",
              "      <td>Autauga County</td>\n",
              "      <td>9965</td>\n",
              "      <td>5054</td>\n",
              "      <td>4911</td>\n",
              "      <td>0.9</td>\n",
              "      <td>77.5</td>\n",
              "      <td>16.4</td>\n",
              "      <td>0.0</td>\n",
              "      <td>3.1</td>\n",
              "      <td>0.0</td>\n",
              "      <td>7229</td>\n",
              "      <td>68143.0</td>\n",
              "      <td>14424.0</td>\n",
              "      <td>36905.0</td>\n",
              "      <td>10706.0</td>\n",
              "      <td>12.2</td>\n",
              "      <td>17.9</td>\n",
              "      <td>48.8</td>\n",
              "      <td>13.8</td>\n",
              "      <td>20.5</td>\n",
              "      <td>3.5</td>\n",
              "      <td>13.4</td>\n",
              "      <td>86.9</td>\n",
              "      <td>11.2</td>\n",
              "      <td>0.0</td>\n",
              "      <td>0.8</td>\n",
              "      <td>0.3</td>\n",
              "      <td>0.7</td>\n",
              "      <td>21.0</td>\n",
              "      <td>4787</td>\n",
              "      <td>71.4</td>\n",
              "      <td>24.1</td>\n",
              "      <td>4.5</td>\n",
              "      <td>0.0</td>\n",
              "      <td>2.3</td>\n",
              "    </tr>\n",
              "  </tbody>\n",
              "</table>\n",
              "</div>\n",
              "      <button class=\"colab-df-convert\" onclick=\"convertToInteractive('df-99abe08c-4eb5-4041-ba38-923be4307728')\"\n",
              "              title=\"Convert this dataframe to an interactive table.\"\n",
              "              style=\"display:none;\">\n",
              "        \n",
              "  <svg xmlns=\"http://www.w3.org/2000/svg\" height=\"24px\"viewBox=\"0 0 24 24\"\n",
              "       width=\"24px\">\n",
              "    <path d=\"M0 0h24v24H0V0z\" fill=\"none\"/>\n",
              "    <path d=\"M18.56 5.44l.94 2.06.94-2.06 2.06-.94-2.06-.94-.94-2.06-.94 2.06-2.06.94zm-11 1L8.5 8.5l.94-2.06 2.06-.94-2.06-.94L8.5 2.5l-.94 2.06-2.06.94zm10 10l.94 2.06.94-2.06 2.06-.94-2.06-.94-.94-2.06-.94 2.06-2.06.94z\"/><path d=\"M17.41 7.96l-1.37-1.37c-.4-.4-.92-.59-1.43-.59-.52 0-1.04.2-1.43.59L10.3 9.45l-7.72 7.72c-.78.78-.78 2.05 0 2.83L4 21.41c.39.39.9.59 1.41.59.51 0 1.02-.2 1.41-.59l7.78-7.78 2.81-2.81c.8-.78.8-2.07 0-2.86zM5.41 20L4 18.59l7.72-7.72 1.47 1.35L5.41 20z\"/>\n",
              "  </svg>\n",
              "      </button>\n",
              "      \n",
              "  <style>\n",
              "    .colab-df-container {\n",
              "      display:flex;\n",
              "      flex-wrap:wrap;\n",
              "      gap: 12px;\n",
              "    }\n",
              "\n",
              "    .colab-df-convert {\n",
              "      background-color: #E8F0FE;\n",
              "      border: none;\n",
              "      border-radius: 50%;\n",
              "      cursor: pointer;\n",
              "      display: none;\n",
              "      fill: #1967D2;\n",
              "      height: 32px;\n",
              "      padding: 0 0 0 0;\n",
              "      width: 32px;\n",
              "    }\n",
              "\n",
              "    .colab-df-convert:hover {\n",
              "      background-color: #E2EBFA;\n",
              "      box-shadow: 0px 1px 2px rgba(60, 64, 67, 0.3), 0px 1px 3px 1px rgba(60, 64, 67, 0.15);\n",
              "      fill: #174EA6;\n",
              "    }\n",
              "\n",
              "    [theme=dark] .colab-df-convert {\n",
              "      background-color: #3B4455;\n",
              "      fill: #D2E3FC;\n",
              "    }\n",
              "\n",
              "    [theme=dark] .colab-df-convert:hover {\n",
              "      background-color: #434B5C;\n",
              "      box-shadow: 0px 1px 3px 1px rgba(0, 0, 0, 0.15);\n",
              "      filter: drop-shadow(0px 1px 2px rgba(0, 0, 0, 0.3));\n",
              "      fill: #FFFFFF;\n",
              "    }\n",
              "  </style>\n",
              "\n",
              "      <script>\n",
              "        const buttonEl =\n",
              "          document.querySelector('#df-99abe08c-4eb5-4041-ba38-923be4307728 button.colab-df-convert');\n",
              "        buttonEl.style.display =\n",
              "          google.colab.kernel.accessAllowed ? 'block' : 'none';\n",
              "\n",
              "        async function convertToInteractive(key) {\n",
              "          const element = document.querySelector('#df-99abe08c-4eb5-4041-ba38-923be4307728');\n",
              "          const dataTable =\n",
              "            await google.colab.kernel.invokeFunction('convertToInteractive',\n",
              "                                                     [key], {});\n",
              "          if (!dataTable) return;\n",
              "\n",
              "          const docLinkHtml = 'Like what you see? Visit the ' +\n",
              "            '<a target=\"_blank\" href=https://colab.research.google.com/notebooks/data_table.ipynb>data table notebook</a>'\n",
              "            + ' to learn more about interactive tables.';\n",
              "          element.innerHTML = '';\n",
              "          dataTable['output_type'] = 'display_data';\n",
              "          await google.colab.output.renderOutput(dataTable, element);\n",
              "          const docLink = document.createElement('div');\n",
              "          docLink.innerHTML = docLinkHtml;\n",
              "          element.appendChild(docLink);\n",
              "        }\n",
              "      </script>\n",
              "    </div>\n",
              "  </div>\n",
              "  "
            ],
            "text/plain": [
              "      TractId    State          County  ...  SelfEmployed  FamilyWork  Unemployment\n",
              "0  1001020100  Alabama  Autauga County  ...           4.5         0.0           4.6\n",
              "1  1001020200  Alabama  Autauga County  ...           9.0         0.0           3.4\n",
              "2  1001020300  Alabama  Autauga County  ...           4.8         0.7           4.7\n",
              "3  1001020400  Alabama  Autauga County  ...           4.5         0.0           6.1\n",
              "4  1001020500  Alabama  Autauga County  ...           4.5         0.0           2.3\n",
              "\n",
              "[5 rows x 37 columns]"
            ]
          },
          "metadata": {},
          "execution_count": 14
        }
      ]
    },
    {
      "cell_type": "markdown",
      "source": [
        "- TractId는 county를 더 잘게 쪼갠 것   \n",
        "- TotalPop, Men, Women은 실제 수로 기입하여 덧셈 가능   \n",
        "- Hispanic등 데이터가 소수점인 컬럼은 퍼센트이므로 단순히 더하면 안 됨"
      ],
      "metadata": {
        "id": "MF0Otw4k0Kdv"
      }
    },
    {
      "cell_type": "code",
      "source": [
        "df_census['County'].value_counts()"
      ],
      "metadata": {
        "colab": {
          "base_uri": "https://localhost:8080/"
        },
        "id": "WbJcmw920VG1",
        "outputId": "b74a73c0-4491-445a-944c-b4acceb8aef6"
      },
      "execution_count": 21,
      "outputs": [
        {
          "output_type": "execute_result",
          "data": {
            "text/plain": [
              "Los Angeles County    2346\n",
              "Cook County           1326\n",
              "Orange County          939\n",
              "Maricopa County        916\n",
              "Montgomery County      833\n",
              "                      ... \n",
              "Real County              1\n",
              "Hitchcock County         1\n",
              "Reagan County            1\n",
              "Hooker County            1\n",
              "Cochran County           1\n",
              "Name: County, Length: 1955, dtype: int64"
            ]
          },
          "metadata": {},
          "execution_count": 21
        }
      ]
    },
    {
      "cell_type": "markdown",
      "source": [
        "큰 county는 잘게 쪼개서 투표함을 알 수 있다.   \n",
        "ex) LA는 2346개, Hitchcock는 1개"
      ],
      "metadata": {
        "id": "E21xJb_k0eEP"
      }
    },
    {
      "cell_type": "code",
      "source": [
        "state_code.head()"
      ],
      "metadata": {
        "colab": {
          "base_uri": "https://localhost:8080/",
          "height": 206
        },
        "id": "Cy7D1hMhtQ5Y",
        "outputId": "cba6e622-8105-4c30-aebe-4e7d6ff8c867"
      },
      "execution_count": 15,
      "outputs": [
        {
          "output_type": "execute_result",
          "data": {
            "text/html": [
              "\n",
              "  <div id=\"df-0bb574f5-a301-4930-baf3-ca8c25593832\">\n",
              "    <div class=\"colab-df-container\">\n",
              "      <div>\n",
              "<style scoped>\n",
              "    .dataframe tbody tr th:only-of-type {\n",
              "        vertical-align: middle;\n",
              "    }\n",
              "\n",
              "    .dataframe tbody tr th {\n",
              "        vertical-align: top;\n",
              "    }\n",
              "\n",
              "    .dataframe thead th {\n",
              "        text-align: right;\n",
              "    }\n",
              "</style>\n",
              "<table border=\"1\" class=\"dataframe\">\n",
              "  <thead>\n",
              "    <tr style=\"text-align: right;\">\n",
              "      <th></th>\n",
              "      <th>State Name/District</th>\n",
              "      <th>Postal Abbreviation</th>\n",
              "      <th>Postal Code</th>\n",
              "    </tr>\n",
              "  </thead>\n",
              "  <tbody>\n",
              "    <tr>\n",
              "      <th>0</th>\n",
              "      <td>Alabama</td>\n",
              "      <td>Ala.</td>\n",
              "      <td>AL</td>\n",
              "    </tr>\n",
              "    <tr>\n",
              "      <th>1</th>\n",
              "      <td>Alaska</td>\n",
              "      <td>Alaska</td>\n",
              "      <td>AK</td>\n",
              "    </tr>\n",
              "    <tr>\n",
              "      <th>2</th>\n",
              "      <td>Arizona</td>\n",
              "      <td>Ariz.</td>\n",
              "      <td>AZ</td>\n",
              "    </tr>\n",
              "    <tr>\n",
              "      <th>3</th>\n",
              "      <td>Arkansas</td>\n",
              "      <td>Ark.</td>\n",
              "      <td>AR</td>\n",
              "    </tr>\n",
              "    <tr>\n",
              "      <th>4</th>\n",
              "      <td>California</td>\n",
              "      <td>Calif.</td>\n",
              "      <td>CA</td>\n",
              "    </tr>\n",
              "  </tbody>\n",
              "</table>\n",
              "</div>\n",
              "      <button class=\"colab-df-convert\" onclick=\"convertToInteractive('df-0bb574f5-a301-4930-baf3-ca8c25593832')\"\n",
              "              title=\"Convert this dataframe to an interactive table.\"\n",
              "              style=\"display:none;\">\n",
              "        \n",
              "  <svg xmlns=\"http://www.w3.org/2000/svg\" height=\"24px\"viewBox=\"0 0 24 24\"\n",
              "       width=\"24px\">\n",
              "    <path d=\"M0 0h24v24H0V0z\" fill=\"none\"/>\n",
              "    <path d=\"M18.56 5.44l.94 2.06.94-2.06 2.06-.94-2.06-.94-.94-2.06-.94 2.06-2.06.94zm-11 1L8.5 8.5l.94-2.06 2.06-.94-2.06-.94L8.5 2.5l-.94 2.06-2.06.94zm10 10l.94 2.06.94-2.06 2.06-.94-2.06-.94-.94-2.06-.94 2.06-2.06.94z\"/><path d=\"M17.41 7.96l-1.37-1.37c-.4-.4-.92-.59-1.43-.59-.52 0-1.04.2-1.43.59L10.3 9.45l-7.72 7.72c-.78.78-.78 2.05 0 2.83L4 21.41c.39.39.9.59 1.41.59.51 0 1.02-.2 1.41-.59l7.78-7.78 2.81-2.81c.8-.78.8-2.07 0-2.86zM5.41 20L4 18.59l7.72-7.72 1.47 1.35L5.41 20z\"/>\n",
              "  </svg>\n",
              "      </button>\n",
              "      \n",
              "  <style>\n",
              "    .colab-df-container {\n",
              "      display:flex;\n",
              "      flex-wrap:wrap;\n",
              "      gap: 12px;\n",
              "    }\n",
              "\n",
              "    .colab-df-convert {\n",
              "      background-color: #E8F0FE;\n",
              "      border: none;\n",
              "      border-radius: 50%;\n",
              "      cursor: pointer;\n",
              "      display: none;\n",
              "      fill: #1967D2;\n",
              "      height: 32px;\n",
              "      padding: 0 0 0 0;\n",
              "      width: 32px;\n",
              "    }\n",
              "\n",
              "    .colab-df-convert:hover {\n",
              "      background-color: #E2EBFA;\n",
              "      box-shadow: 0px 1px 2px rgba(60, 64, 67, 0.3), 0px 1px 3px 1px rgba(60, 64, 67, 0.15);\n",
              "      fill: #174EA6;\n",
              "    }\n",
              "\n",
              "    [theme=dark] .colab-df-convert {\n",
              "      background-color: #3B4455;\n",
              "      fill: #D2E3FC;\n",
              "    }\n",
              "\n",
              "    [theme=dark] .colab-df-convert:hover {\n",
              "      background-color: #434B5C;\n",
              "      box-shadow: 0px 1px 3px 1px rgba(0, 0, 0, 0.15);\n",
              "      filter: drop-shadow(0px 1px 2px rgba(0, 0, 0, 0.3));\n",
              "      fill: #FFFFFF;\n",
              "    }\n",
              "  </style>\n",
              "\n",
              "      <script>\n",
              "        const buttonEl =\n",
              "          document.querySelector('#df-0bb574f5-a301-4930-baf3-ca8c25593832 button.colab-df-convert');\n",
              "        buttonEl.style.display =\n",
              "          google.colab.kernel.accessAllowed ? 'block' : 'none';\n",
              "\n",
              "        async function convertToInteractive(key) {\n",
              "          const element = document.querySelector('#df-0bb574f5-a301-4930-baf3-ca8c25593832');\n",
              "          const dataTable =\n",
              "            await google.colab.kernel.invokeFunction('convertToInteractive',\n",
              "                                                     [key], {});\n",
              "          if (!dataTable) return;\n",
              "\n",
              "          const docLinkHtml = 'Like what you see? Visit the ' +\n",
              "            '<a target=\"_blank\" href=https://colab.research.google.com/notebooks/data_table.ipynb>data table notebook</a>'\n",
              "            + ' to learn more about interactive tables.';\n",
              "          element.innerHTML = '';\n",
              "          dataTable['output_type'] = 'display_data';\n",
              "          await google.colab.output.renderOutput(dataTable, element);\n",
              "          const docLink = document.createElement('div');\n",
              "          docLink.innerHTML = docLinkHtml;\n",
              "          element.appendChild(docLink);\n",
              "        }\n",
              "      </script>\n",
              "    </div>\n",
              "  </div>\n",
              "  "
            ],
            "text/plain": [
              "  State Name/District Postal Abbreviation Postal Code\n",
              "0             Alabama                Ala.          AL\n",
              "1              Alaska              Alaska          AK\n",
              "2             Arizona               Ariz.          AZ\n",
              "3            Arkansas                Ark.          AR\n",
              "4          California              Calif.          CA"
            ]
          },
          "metadata": {},
          "execution_count": 15
        }
      ]
    },
    {
      "cell_type": "markdown",
      "metadata": {
        "id": "HGHvPwkNtXgj"
      },
      "source": [
        "### 문제 5. County 별 통계로 데이터프레임 구조 변경하기\n"
      ]
    },
    {
      "cell_type": "code",
      "metadata": {
        "id": "b_zcrUDF7khF"
      },
      "source": [
        "# 모든 데이터프레임의 index를 County로 변경하기\n",
        "\n",
        "\n",
        "\n",
        "\n"
      ],
      "execution_count": null,
      "outputs": []
    },
    {
      "cell_type": "markdown",
      "metadata": {
        "id": "amkU5Y6g7Dp4"
      },
      "source": [
        "### 문제 6. 여러 데이터프레임을 하나의 데이터프레임으로 결합하기"
      ]
    },
    {
      "cell_type": "code",
      "metadata": {
        "id": "GZXSBFPyDh6R"
      },
      "source": [
        "# df_pres, df_gov, df_census 데이터프레임을 하나로 결합하기\n",
        "\n",
        "\n",
        "\n"
      ],
      "execution_count": null,
      "outputs": []
    },
    {
      "cell_type": "markdown",
      "metadata": {
        "id": "KywGh9sjtYl9"
      },
      "source": [
        "### 문제 7. 컬럼간의 Correlation을 Heatmap으로 표현하기\n"
      ]
    },
    {
      "cell_type": "code",
      "metadata": {
        "id": "TqXkwW8JDxhH"
      },
      "source": [
        "# DataFrame의 corr() 메소드와 Seaborn의 heatmap() 메소드를 이용하여 Pearson's correlation 시각화하기\n",
        "\n",
        "\n",
        "\n"
      ],
      "execution_count": null,
      "outputs": []
    },
    {
      "cell_type": "markdown",
      "metadata": {
        "id": "CXLd43EZ9EgS"
      },
      "source": [
        "### 문제 8. Seaborn을 이용하여 연관성 높은 데이터의 Jointplot 확인"
      ]
    },
    {
      "cell_type": "code",
      "metadata": {
        "id": "8HbUtvqs9C-C"
      },
      "source": [
        "\n",
        "\n",
        "\n"
      ],
      "execution_count": null,
      "outputs": []
    },
    {
      "cell_type": "markdown",
      "metadata": {
        "id": "GD18QuastZy8"
      },
      "source": [
        "## Step 3. Plotly를 이용하여 데이터 시각화하기\n"
      ]
    },
    {
      "cell_type": "markdown",
      "metadata": {
        "id": "h3P9KRGT_qwG"
      },
      "source": [
        "### 문제 9. Plotly의 Choropleth 데이터 포맷으로 맞추기"
      ]
    },
    {
      "cell_type": "code",
      "metadata": {
        "id": "29yYcSNBb9Lw"
      },
      "source": [
        "import plotly.figure_factory as ff\n",
        "\n",
        "# FIPS 코드 불러오기\n",
        "df_sample = pd.read_csv('https://raw.githubusercontent.com/plotly/datasets/master/laucnty16.csv')\n",
        "df_sample['State FIPS Code'] = df_sample['State FIPS Code'].apply(lambda x: str(x).zfill(2))\n",
        "df_sample['County FIPS Code'] = df_sample['County FIPS Code'].apply(lambda x: str(x).zfill(3))\n",
        "df_sample['FIPS'] = df_sample['State FIPS Code'] + df_sample['County FIPS Code']\n",
        "\n",
        "# Color Scale 세팅\n",
        "colorscale = [\"#f7fbff\",\"#ebf3fb\",\"#deebf7\",\"#d2e3f3\",\"#c6dbef\",\"#b3d2e9\",\"#9ecae1\",\n",
        "              \"#85bcdb\",\"#6baed6\",\"#57a0ce\",\"#4292c6\",\"#3082be\",\"#2171b5\",\"#1361a9\",\n",
        "              \"#08519c\",\"#0b4083\",\"#08306b\"]"
      ],
      "execution_count": null,
      "outputs": []
    },
    {
      "cell_type": "code",
      "metadata": {
        "id": "OvfL1YSKFN5o"
      },
      "source": [
        "# ff.create_choropleth()에서 사용할 수 있도록 데이터프레임 정리하기\n",
        "# Hint) 공식 레퍼런스 참조: https://plotly.com/python/county-choropleth/#the-entire-usa\n",
        "\n",
        "\n",
        "\n",
        "\n",
        "\n",
        "\n"
      ],
      "execution_count": null,
      "outputs": []
    },
    {
      "cell_type": "markdown",
      "metadata": {
        "id": "Qlz6lUtHbse8"
      },
      "source": [
        "### 문제 10. Choropleth map 시각화하기"
      ]
    },
    {
      "cell_type": "code",
      "metadata": {
        "id": "VtP1gZNibuxn"
      },
      "source": [
        "# ff.create_choropleth() 메소드를 이용하여 Choropleth 플랏하기\n",
        "# Hint) 공식 레퍼런스 참조: https://plotly.com/python/county-choropleth/#the-entire-usa\n",
        "\n",
        "fig = ff.create_choropleth(...)\n",
        "\n",
        "\n",
        "\n",
        "fig.layout.template = None\n",
        "fig.show()"
      ],
      "execution_count": null,
      "outputs": []
    },
    {
      "cell_type": "markdown",
      "metadata": {
        "id": "FRfd7ABjepBS"
      },
      "source": [
        "## Step 4. 모델 학습을 위한 데이터 전처리 "
      ]
    },
    {
      "cell_type": "markdown",
      "metadata": {
        "id": "hgHfw6NbdVff"
      },
      "source": [
        "### 문제 11. 학습을 위한 데이터프레임 구성하기"
      ]
    },
    {
      "cell_type": "code",
      "metadata": {
        "id": "kev5fImJdUlA"
      },
      "source": [
        "# 투표 결과에 해당하는 데이터는 입력 데이터에서 제거한다.\n",
        "# 예측 타겟은 DEM vs. REP 투표 비율로 한다.\n",
        "\n",
        "X =\n",
        "y ="
      ],
      "execution_count": null,
      "outputs": []
    },
    {
      "cell_type": "markdown",
      "metadata": {
        "id": "Dev2yLeMta85"
      },
      "source": [
        "### 문제 12. StandardScaler를 이용해 수치형 데이터 표준화하기\n"
      ]
    },
    {
      "cell_type": "code",
      "metadata": {
        "id": "_k_SDCh5xMgD"
      },
      "source": [
        "from sklearn.preprocessing import StandardScaler"
      ],
      "execution_count": null,
      "outputs": []
    },
    {
      "cell_type": "code",
      "metadata": {
        "id": "W3EO22NCE3wG"
      },
      "source": [
        "# StandardScaler를 이용해 수치형 데이터를 표준화하기\n",
        "scaler =\n",
        "X = \n",
        "\n"
      ],
      "execution_count": null,
      "outputs": []
    },
    {
      "cell_type": "markdown",
      "metadata": {
        "id": "x93Tb6lptcA2"
      },
      "source": [
        "### 문제 13. 학습데이터와 테스트데이터 분리하기\n"
      ]
    },
    {
      "cell_type": "code",
      "metadata": {
        "id": "C9kMQI8SEche"
      },
      "source": [
        "from sklearn.model_selection import train_test_split"
      ],
      "execution_count": null,
      "outputs": []
    },
    {
      "cell_type": "code",
      "metadata": {
        "id": "F07QjOFwFNEw"
      },
      "source": [
        "# train_test_split() 함수로 학습 데이터와 테스트 데이터 분리하기\n",
        "X_train, X_test, y_train, y_test = "
      ],
      "execution_count": null,
      "outputs": []
    },
    {
      "cell_type": "markdown",
      "metadata": {
        "id": "0TYr6_PueDhj"
      },
      "source": [
        "### 문제 14. PCA를 이용해 데이터 전처리 수행하기"
      ]
    },
    {
      "cell_type": "code",
      "metadata": {
        "id": "YNhn3XnxeImU"
      },
      "source": [
        "from sklearn.decomposition import PCA"
      ],
      "execution_count": null,
      "outputs": []
    },
    {
      "cell_type": "code",
      "metadata": {
        "id": "a4vFnIrseCde"
      },
      "source": [
        "# PCA를 이용해 Dimensionality Reduction 수행하기\n",
        "pca =\n",
        "\n",
        "\n",
        "\n",
        "\n"
      ],
      "execution_count": null,
      "outputs": []
    },
    {
      "cell_type": "markdown",
      "metadata": {
        "id": "RrWrE8Z4exup"
      },
      "source": [
        "## Step 4. Regression 모델 학습하기"
      ]
    },
    {
      "cell_type": "markdown",
      "metadata": {
        "id": "NypEtNhdfCow"
      },
      "source": [
        "### 문제 15. LightGBM Regression 모델 학습하기"
      ]
    },
    {
      "cell_type": "code",
      "metadata": {
        "id": "ow28ZRL4F7D5"
      },
      "source": [
        "from lightgbm import LGBMRegressor"
      ],
      "execution_count": null,
      "outputs": []
    },
    {
      "cell_type": "code",
      "metadata": {
        "id": "LSSNqFUrGM6R"
      },
      "source": [
        "# XGBRegressor 모델 생성/학습. Feature에 PCA 적용하기\n",
        "model_reg = \n",
        "\n",
        "\n"
      ],
      "execution_count": null,
      "outputs": []
    },
    {
      "cell_type": "markdown",
      "metadata": {
        "id": "gUo8NmHkfIpf"
      },
      "source": [
        "### 문제 16. Regression 모델 정확도 출력하기"
      ]
    },
    {
      "cell_type": "code",
      "metadata": {
        "id": "rxvf1vgmfLs-"
      },
      "source": [
        "from sklearn.metrics import mean_absolute_error, mean_squared_error\n",
        "from sklearn.metrics import classification_report\n",
        "from math import sqrt"
      ],
      "execution_count": null,
      "outputs": []
    },
    {
      "cell_type": "code",
      "metadata": {
        "id": "KDVy7fFGfUP1"
      },
      "source": [
        "# Predict를 수행하고 mean_absolute_error, mean_squared_error, classification_report 결과 출력하기\n",
        "pred = \n",
        "\n",
        "\n",
        "\n"
      ],
      "execution_count": null,
      "outputs": []
    },
    {
      "cell_type": "markdown",
      "metadata": {
        "id": "DTqb-HqPtc4I"
      },
      "source": [
        "## Step 5. Classification 모델 학습하기\n"
      ]
    },
    {
      "cell_type": "markdown",
      "metadata": {
        "id": "xTRTOLTNto3h"
      },
      "source": [
        "### 문제 17. XGBoost 모델 생성/학습하기\n"
      ]
    },
    {
      "cell_type": "code",
      "metadata": {
        "id": "RjOlWyBGfia9"
      },
      "source": [
        "from xgboost import XGBClassifier"
      ],
      "execution_count": null,
      "outputs": []
    },
    {
      "cell_type": "code",
      "metadata": {
        "id": "pxNnYYKhfoqk"
      },
      "source": [
        "# XGBClassifier 모델 생성/학습\n",
        "model_cls = \n",
        "\n",
        "\n",
        "\n"
      ],
      "execution_count": null,
      "outputs": []
    },
    {
      "cell_type": "markdown",
      "metadata": {
        "id": "kAisZoSEtp35"
      },
      "source": [
        "### 문제 18. Classifier의 Feature Importance 시각화하기\n"
      ]
    },
    {
      "cell_type": "code",
      "metadata": {
        "id": "WLnyYNJwGRgd"
      },
      "source": [
        "# XGBClassifier 모델의 feature_importances_ 속성 시각화\n",
        "\n",
        "\n",
        "\n"
      ],
      "execution_count": null,
      "outputs": []
    },
    {
      "cell_type": "markdown",
      "metadata": {
        "id": "P3HU6mOhf0oq"
      },
      "source": [
        "### 문제 19. Classifier 모델 정확도 출력하기"
      ]
    },
    {
      "cell_type": "code",
      "metadata": {
        "id": "PvnmJI-3fzpt"
      },
      "source": [
        "# Predict를 수행하고 classification_report() 결과 출력하기\n",
        "pred = \n",
        "\n",
        "\n",
        "\n"
      ],
      "execution_count": null,
      "outputs": []
    }
  ]
}