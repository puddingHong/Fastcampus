{
  "nbformat": 4,
  "nbformat_minor": 0,
  "metadata": {
    "kernelspec": {
      "display_name": "Python 3",
      "language": "python",
      "name": "python3"
    },
    "language_info": {
      "codemirror_mode": {
        "name": "ipython",
        "version": 3
      },
      "file_extension": ".py",
      "mimetype": "text/x-python",
      "name": "python",
      "nbconvert_exporter": "python",
      "pygments_lexer": "ipython3",
      "version": "3.7.7"
    },
    "colab": {
      "name": "Chapter 05 - 미국의 대통령은 어떻게 뽑힐까(문제).ipynb",
      "provenance": [],
      "collapsed_sections": [
        "c0iKTnLNsraM",
        "cxZwPnfms0-9",
        "dXG8AFZyCiS1"
      ],
      "include_colab_link": true
    }
  },
  "cells": [
    {
      "cell_type": "markdown",
      "metadata": {
        "id": "view-in-github",
        "colab_type": "text"
      },
      "source": [
        "<a href=\"https://colab.research.google.com/github/puddingHong/Fastcampus/blob/main/%EB%AF%B8%EA%B5%AD%20%EB%8C%80%ED%86%B5%EB%A0%B9%20%EC%84%A0%EA%B1%B0%20%EB%8D%B0%EC%9D%B4%ED%84%B0.ipynb\" target=\"_parent\"><img src=\"https://colab.research.google.com/assets/colab-badge.svg\" alt=\"Open In Colab\"/></a>"
      ]
    },
    {
      "cell_type": "markdown",
      "metadata": {
        "id": "NqqLNJZjfi8U"
      },
      "source": [
        "# 주제 : 미국의 대통령은 어떻게 뽑힐까?\n",
        "----------\n",
        "\n",
        "## 실습 가이드\n",
        "    1. 데이터를 다운로드하여 Colab에 불러옵니다.\n",
        "    2. 필요한 라이브러리는 모두 코드로 작성되어 있습니다.\n",
        "    3. 코드는 위에서부터 아래로 순서대로 실행합니다.\n",
        "    \n",
        "    \n",
        "## 데이터 소개\n",
        "    - 이번 주제는 US Election 2020 데이터셋을 사용합니다.\n",
        "    \n",
        "    - 총 11개의 파일 중 정보가 가장 많은 2개의 파일을 사용합니다.\n",
        "    president_county_candidate.csv: 대통령 투표 결과\n",
        "    governors_county_candidate.csv: 카운티 지사 투표 결과\n",
        "    \n",
        "    - 총 1개의 보조 데이터를 이용합니다.\n",
        "    acs2017_county_data.csv: 카운티별 인구조사 데이터\n",
        "    \n",
        "    - 각 파일의 컬럼은 아래와 같습니다.\n",
        "    state: 주\n",
        "    county: 카운티(군)\n",
        "    district: 지구\n",
        "    candidate: 후보자\n",
        "    party: 후보자의 소속 정당\n",
        "    total_votes: 득표 수\n",
        "    won: 지역 투표 우승 여부\n",
        "    \n",
        "    \n",
        "    \n",
        "- 데이터 출처: https://www.kaggle.com/unanimad/us-election-2020\n",
        "- 보조 데이터: https://www.kaggle.com/muonneutrino/us-census-demographic-data\n",
        "\n",
        "## 최종 목표\n",
        "    - 보조 데이터셋을 이용하여 데이터셋 보강하는 방법 이해\n",
        "    - plotly를 이용한 Choropleth 시각화 방법 이해\n",
        "    - Regression과 Classification의 차이 이해\n",
        "\n",
        "- 출제자 : 신제용 강사\n",
        "---"
      ]
    },
    {
      "cell_type": "markdown",
      "metadata": {
        "id": "ODJVmYvIP3x-"
      },
      "source": [
        "## Step 0. 데이터에 관한 사전 배경 지식"
      ]
    },
    {
      "cell_type": "markdown",
      "metadata": {
        "id": "c0iKTnLNsraM"
      },
      "source": [
        "### 미국의 선거 제도에 대하여\n"
      ]
    },
    {
      "cell_type": "markdown",
      "metadata": {
        "id": "cxZwPnfms0-9"
      },
      "source": [
        "### 2020 미국 선거 데이터셋 설명\n"
      ]
    },
    {
      "cell_type": "markdown",
      "metadata": {
        "id": "dXG8AFZyCiS1"
      },
      "source": [
        "### 2017 미국 인구조사 데이터셋(보조 데이터셋) 설명"
      ]
    },
    {
      "cell_type": "markdown",
      "metadata": {
        "id": "IRssoNrgP7So"
      },
      "source": [
        "## Step 1. 데이터셋 준비하기"
      ]
    },
    {
      "cell_type": "markdown",
      "source": [
        "- geopandas :   벡터 데이터 작업을 위한 라이브러리(공간 데이터 처리에 유용하게 사용)\n",
        "- pyshp : shape file을 다루기 위한 라이브러리\n",
        "- shapely : 평면 형상 처리와 분석\n",
        "- plotly-geo : 데이터 시각화 툴(=matplotlib)"
      ],
      "metadata": {
        "id": "9fm08hhpowf-"
      }
    },
    {
      "cell_type": "code",
      "metadata": {
        "id": "2-cM6ibXYvSv"
      },
      "source": [
        "!pip install geopandas\n",
        "!pip install pyshp\n",
        "!pip install shapely\n",
        "!pip install plotly-geo"
      ],
      "execution_count": null,
      "outputs": []
    },
    {
      "cell_type": "code",
      "metadata": {
        "id": "g49RuFGrBvt7"
      },
      "source": [
        "import pandas as pd\n",
        "import numpy as np\n",
        "import matplotlib.pyplot as plt\n",
        "import seaborn as sns"
      ],
      "execution_count": 2,
      "outputs": []
    },
    {
      "cell_type": "markdown",
      "metadata": {
        "id": "paInbv8Ys-Qy"
      },
      "source": [
        "### 문제 1. Colab Notebook에 Kaggle API 세팅하기\n"
      ]
    },
    {
      "cell_type": "code",
      "metadata": {
        "id": "RRXGYV60B7FX"
      },
      "source": [
        "import os"
      ],
      "execution_count": 3,
      "outputs": []
    },
    {
      "cell_type": "code",
      "metadata": {
        "id": "mMKFOC0OBtHO"
      },
      "source": [
        "# os.environ을 이용하여 Kaggle API Username, Key 세팅하기\n",
        "os.environ['KAGGLE_USERNAME'] = 'puddinghong'\n"
      ],
      "execution_count": 23,
      "outputs": []
    },
    {
      "cell_type": "markdown",
      "metadata": {
        "id": "zvbeoB_WtBi-"
      },
      "source": [
        "### 문제 2. 데이터 다운로드 및 압축 해제하기\n"
      ]
    },
    {
      "cell_type": "code",
      "metadata": {
        "id": "JSblp2NsCGbh"
      },
      "source": [
        "# Linux 명령어로 Kaggle API를 이용하여 데이터셋 다운로드하기 (!kaggle ~)\n",
        "# Linux 명령어로 압축 해제하기\n",
        "!kaggle datasets download -d unanimad/us-election-2020\n",
        "!kaggle datasets download -d muonneutrino/us-census-demographic-data\n",
        "!unzip '*.zip'"
      ],
      "execution_count": null,
      "outputs": []
    },
    {
      "cell_type": "markdown",
      "metadata": {
        "id": "aJ34SovLtFI8"
      },
      "source": [
        "### 문제 3. Pandas 라이브러리로 csv파일 읽어들이기\n"
      ]
    },
    {
      "cell_type": "code",
      "metadata": {
        "id": "RnJv-4YwCMSx"
      },
      "source": [
        "# from US Election 2020\n",
        "df_pres = pd.read_csv('president_county_candidate.csv')\n",
        "df_gov = pd.read_csv('governors_county_candidate.csv')\n",
        "\n",
        "# from US Census 2017\n",
        "df_census = pd.read_csv('acs2017_county_data.csv')"
      ],
      "execution_count": 80,
      "outputs": []
    },
    {
      "cell_type": "markdown",
      "source": [
        "- pd.read_html('url')[index] :  html페이지에 < table >tag 로 구성된 부분을 가져와 표로 만들어진 목록을 만들어줌   \n",
        "- 아래 html에는 표가 두 개 있으므로 첫 번째 표를 가져오기 위해 [0]으로 인덱스 번호 지정함\n"
      ],
      "metadata": {
        "id": "YDsMZOTjtVBz"
      }
    },
    {
      "cell_type": "code",
      "metadata": {
        "id": "7clcljRrmsO5"
      },
      "source": [
        "# State Code 관련 부가 자료\n",
        "state_code = pd.read_html('https://www.infoplease.com/us/postal-information/state-abbreviations-and-state-postal-codes')[0]"
      ],
      "execution_count": 81,
      "outputs": []
    },
    {
      "cell_type": "markdown",
      "source": [
        "![image.png](data:image/png;base64,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)"
      ],
      "metadata": {
        "id": "x0_f9GGPswz-"
      }
    },
    {
      "cell_type": "markdown",
      "metadata": {
        "id": "9L3BNVM7tHN5"
      },
      "source": [
        "## Step 2. EDA 및 데이터 기초 통계 분석\n"
      ]
    },
    {
      "cell_type": "markdown",
      "metadata": {
        "id": "HyFm33tNtVn7"
      },
      "source": [
        "### 문제 4. 각 데이터프레임 구조 및 기초 통계 확인하기\n"
      ]
    },
    {
      "cell_type": "code",
      "metadata": {
        "id": "YcR9BX23DIFW",
        "colab": {
          "base_uri": "https://localhost:8080/",
          "height": 206
        },
        "outputId": "76976858-894c-4ca2-de7d-20d4fd9764ee"
      },
      "source": [
        "# DataFrame에서 제공하는 메소드를 이용하여 각 데이터프레임의 구조 분석하기 (head(), info(), describe())\n",
        "df_pres.head()"
      ],
      "execution_count": 82,
      "outputs": [
        {
          "output_type": "execute_result",
          "data": {
            "text/html": [
              "\n",
              "  <div id=\"df-67c5a91d-b35e-418b-bc35-8b30207f8c34\">\n",
              "    <div class=\"colab-df-container\">\n",
              "      <div>\n",
              "<style scoped>\n",
              "    .dataframe tbody tr th:only-of-type {\n",
              "        vertical-align: middle;\n",
              "    }\n",
              "\n",
              "    .dataframe tbody tr th {\n",
              "        vertical-align: top;\n",
              "    }\n",
              "\n",
              "    .dataframe thead th {\n",
              "        text-align: right;\n",
              "    }\n",
              "</style>\n",
              "<table border=\"1\" class=\"dataframe\">\n",
              "  <thead>\n",
              "    <tr style=\"text-align: right;\">\n",
              "      <th></th>\n",
              "      <th>state</th>\n",
              "      <th>county</th>\n",
              "      <th>candidate</th>\n",
              "      <th>party</th>\n",
              "      <th>total_votes</th>\n",
              "      <th>won</th>\n",
              "    </tr>\n",
              "  </thead>\n",
              "  <tbody>\n",
              "    <tr>\n",
              "      <th>0</th>\n",
              "      <td>Delaware</td>\n",
              "      <td>Kent County</td>\n",
              "      <td>Joe Biden</td>\n",
              "      <td>DEM</td>\n",
              "      <td>44552</td>\n",
              "      <td>True</td>\n",
              "    </tr>\n",
              "    <tr>\n",
              "      <th>1</th>\n",
              "      <td>Delaware</td>\n",
              "      <td>Kent County</td>\n",
              "      <td>Donald Trump</td>\n",
              "      <td>REP</td>\n",
              "      <td>41009</td>\n",
              "      <td>False</td>\n",
              "    </tr>\n",
              "    <tr>\n",
              "      <th>2</th>\n",
              "      <td>Delaware</td>\n",
              "      <td>Kent County</td>\n",
              "      <td>Jo Jorgensen</td>\n",
              "      <td>LIB</td>\n",
              "      <td>1044</td>\n",
              "      <td>False</td>\n",
              "    </tr>\n",
              "    <tr>\n",
              "      <th>3</th>\n",
              "      <td>Delaware</td>\n",
              "      <td>Kent County</td>\n",
              "      <td>Howie Hawkins</td>\n",
              "      <td>GRN</td>\n",
              "      <td>420</td>\n",
              "      <td>False</td>\n",
              "    </tr>\n",
              "    <tr>\n",
              "      <th>4</th>\n",
              "      <td>Delaware</td>\n",
              "      <td>New Castle County</td>\n",
              "      <td>Joe Biden</td>\n",
              "      <td>DEM</td>\n",
              "      <td>195034</td>\n",
              "      <td>True</td>\n",
              "    </tr>\n",
              "  </tbody>\n",
              "</table>\n",
              "</div>\n",
              "      <button class=\"colab-df-convert\" onclick=\"convertToInteractive('df-67c5a91d-b35e-418b-bc35-8b30207f8c34')\"\n",
              "              title=\"Convert this dataframe to an interactive table.\"\n",
              "              style=\"display:none;\">\n",
              "        \n",
              "  <svg xmlns=\"http://www.w3.org/2000/svg\" height=\"24px\"viewBox=\"0 0 24 24\"\n",
              "       width=\"24px\">\n",
              "    <path d=\"M0 0h24v24H0V0z\" fill=\"none\"/>\n",
              "    <path d=\"M18.56 5.44l.94 2.06.94-2.06 2.06-.94-2.06-.94-.94-2.06-.94 2.06-2.06.94zm-11 1L8.5 8.5l.94-2.06 2.06-.94-2.06-.94L8.5 2.5l-.94 2.06-2.06.94zm10 10l.94 2.06.94-2.06 2.06-.94-2.06-.94-.94-2.06-.94 2.06-2.06.94z\"/><path d=\"M17.41 7.96l-1.37-1.37c-.4-.4-.92-.59-1.43-.59-.52 0-1.04.2-1.43.59L10.3 9.45l-7.72 7.72c-.78.78-.78 2.05 0 2.83L4 21.41c.39.39.9.59 1.41.59.51 0 1.02-.2 1.41-.59l7.78-7.78 2.81-2.81c.8-.78.8-2.07 0-2.86zM5.41 20L4 18.59l7.72-7.72 1.47 1.35L5.41 20z\"/>\n",
              "  </svg>\n",
              "      </button>\n",
              "      \n",
              "  <style>\n",
              "    .colab-df-container {\n",
              "      display:flex;\n",
              "      flex-wrap:wrap;\n",
              "      gap: 12px;\n",
              "    }\n",
              "\n",
              "    .colab-df-convert {\n",
              "      background-color: #E8F0FE;\n",
              "      border: none;\n",
              "      border-radius: 50%;\n",
              "      cursor: pointer;\n",
              "      display: none;\n",
              "      fill: #1967D2;\n",
              "      height: 32px;\n",
              "      padding: 0 0 0 0;\n",
              "      width: 32px;\n",
              "    }\n",
              "\n",
              "    .colab-df-convert:hover {\n",
              "      background-color: #E2EBFA;\n",
              "      box-shadow: 0px 1px 2px rgba(60, 64, 67, 0.3), 0px 1px 3px 1px rgba(60, 64, 67, 0.15);\n",
              "      fill: #174EA6;\n",
              "    }\n",
              "\n",
              "    [theme=dark] .colab-df-convert {\n",
              "      background-color: #3B4455;\n",
              "      fill: #D2E3FC;\n",
              "    }\n",
              "\n",
              "    [theme=dark] .colab-df-convert:hover {\n",
              "      background-color: #434B5C;\n",
              "      box-shadow: 0px 1px 3px 1px rgba(0, 0, 0, 0.15);\n",
              "      filter: drop-shadow(0px 1px 2px rgba(0, 0, 0, 0.3));\n",
              "      fill: #FFFFFF;\n",
              "    }\n",
              "  </style>\n",
              "\n",
              "      <script>\n",
              "        const buttonEl =\n",
              "          document.querySelector('#df-67c5a91d-b35e-418b-bc35-8b30207f8c34 button.colab-df-convert');\n",
              "        buttonEl.style.display =\n",
              "          google.colab.kernel.accessAllowed ? 'block' : 'none';\n",
              "\n",
              "        async function convertToInteractive(key) {\n",
              "          const element = document.querySelector('#df-67c5a91d-b35e-418b-bc35-8b30207f8c34');\n",
              "          const dataTable =\n",
              "            await google.colab.kernel.invokeFunction('convertToInteractive',\n",
              "                                                     [key], {});\n",
              "          if (!dataTable) return;\n",
              "\n",
              "          const docLinkHtml = 'Like what you see? Visit the ' +\n",
              "            '<a target=\"_blank\" href=https://colab.research.google.com/notebooks/data_table.ipynb>data table notebook</a>'\n",
              "            + ' to learn more about interactive tables.';\n",
              "          element.innerHTML = '';\n",
              "          dataTable['output_type'] = 'display_data';\n",
              "          await google.colab.output.renderOutput(dataTable, element);\n",
              "          const docLink = document.createElement('div');\n",
              "          docLink.innerHTML = docLinkHtml;\n",
              "          element.appendChild(docLink);\n",
              "        }\n",
              "      </script>\n",
              "    </div>\n",
              "  </div>\n",
              "  "
            ],
            "text/plain": [
              "      state             county      candidate party  total_votes    won\n",
              "0  Delaware        Kent County      Joe Biden   DEM        44552   True\n",
              "1  Delaware        Kent County   Donald Trump   REP        41009  False\n",
              "2  Delaware        Kent County   Jo Jorgensen   LIB         1044  False\n",
              "3  Delaware        Kent County  Howie Hawkins   GRN          420  False\n",
              "4  Delaware  New Castle County      Joe Biden   DEM       195034   True"
            ]
          },
          "metadata": {},
          "execution_count": 82
        }
      ]
    },
    {
      "cell_type": "markdown",
      "source": [
        "- DEM : 민주당(바이든)   \n",
        "- REP : 공화당(트럼프)   "
      ],
      "metadata": {
        "id": "6loBuWxIuOB3"
      }
    },
    {
      "cell_type": "code",
      "source": [
        "# 후보자 확인\n",
        "# Write_ins는 사람 아님\n",
        "df_pres['candidate'].unique()"
      ],
      "metadata": {
        "colab": {
          "base_uri": "https://localhost:8080/"
        },
        "id": "2ntl925JucFj",
        "outputId": "7bb4853a-c41d-4f70-b162-a5aff6f1f29d"
      },
      "execution_count": 83,
      "outputs": [
        {
          "output_type": "execute_result",
          "data": {
            "text/plain": [
              "array(['Joe Biden', 'Donald Trump', 'Jo Jorgensen', 'Howie Hawkins',\n",
              "       ' Write-ins', 'Gloria La Riva', 'Brock Pierce',\n",
              "       'Rocky De La Fuente', 'Don Blankenship', 'Kanye West',\n",
              "       'Brian Carroll', 'Ricki Sue King', 'Jade Simmons',\n",
              "       'President Boddie', 'Bill Hammons', 'Tom Hoefling',\n",
              "       'Alyson Kennedy', 'Jerome Segal', 'Phil Collins',\n",
              "       ' None of these candidates', 'Sheila Samm Tittle', 'Dario Hunter',\n",
              "       'Joe McHugh', 'Christopher LaFontaine', 'Keith McCormic',\n",
              "       'Brooke Paige', 'Gary Swing', 'Richard Duncan', 'Blake Huber',\n",
              "       'Kyle Kopitke', 'Zachary Scalf', 'Jesse Ventura', 'Connie Gammon',\n",
              "       'John Richard Myers', 'Mark Charles', 'Princess Jacob-Fambro',\n",
              "       'Joseph Kishore', 'Jordan Scott'], dtype=object)"
            ]
          },
          "metadata": {},
          "execution_count": 83
        }
      ]
    },
    {
      "cell_type": "code",
      "source": [
        "# 투표수 확인\n",
        "df_pres.loc[df_pres['candidate']=='Kanye West']['total_votes'].sum()"
      ],
      "metadata": {
        "colab": {
          "base_uri": "https://localhost:8080/"
        },
        "id": "nIBytUM0x-o1",
        "outputId": "a9f0fce7-9c64-4fb4-931b-dd447c3ca9cc"
      },
      "execution_count": 84,
      "outputs": [
        {
          "output_type": "execute_result",
          "data": {
            "text/plain": [
              "66367"
            ]
          },
          "metadata": {},
          "execution_count": 84
        }
      ]
    },
    {
      "cell_type": "code",
      "source": [
        "df_gov.head()"
      ],
      "metadata": {
        "colab": {
          "base_uri": "https://localhost:8080/",
          "height": 206
        },
        "id": "HXWHT8X7tJqC",
        "outputId": "81af011d-ff83-4a95-9955-0010f60ab631"
      },
      "execution_count": 85,
      "outputs": [
        {
          "output_type": "execute_result",
          "data": {
            "text/html": [
              "\n",
              "  <div id=\"df-95c902ea-c64a-4cb2-8311-d576a77b8cee\">\n",
              "    <div class=\"colab-df-container\">\n",
              "      <div>\n",
              "<style scoped>\n",
              "    .dataframe tbody tr th:only-of-type {\n",
              "        vertical-align: middle;\n",
              "    }\n",
              "\n",
              "    .dataframe tbody tr th {\n",
              "        vertical-align: top;\n",
              "    }\n",
              "\n",
              "    .dataframe thead th {\n",
              "        text-align: right;\n",
              "    }\n",
              "</style>\n",
              "<table border=\"1\" class=\"dataframe\">\n",
              "  <thead>\n",
              "    <tr style=\"text-align: right;\">\n",
              "      <th></th>\n",
              "      <th>state</th>\n",
              "      <th>county</th>\n",
              "      <th>candidate</th>\n",
              "      <th>party</th>\n",
              "      <th>votes</th>\n",
              "      <th>won</th>\n",
              "    </tr>\n",
              "  </thead>\n",
              "  <tbody>\n",
              "    <tr>\n",
              "      <th>0</th>\n",
              "      <td>Delaware</td>\n",
              "      <td>Kent County</td>\n",
              "      <td>John Carney</td>\n",
              "      <td>DEM</td>\n",
              "      <td>44352</td>\n",
              "      <td>True</td>\n",
              "    </tr>\n",
              "    <tr>\n",
              "      <th>1</th>\n",
              "      <td>Delaware</td>\n",
              "      <td>Kent County</td>\n",
              "      <td>Julianne Murray</td>\n",
              "      <td>REP</td>\n",
              "      <td>39332</td>\n",
              "      <td>False</td>\n",
              "    </tr>\n",
              "    <tr>\n",
              "      <th>2</th>\n",
              "      <td>Delaware</td>\n",
              "      <td>Kent County</td>\n",
              "      <td>Kathy DeMatteis</td>\n",
              "      <td>IPD</td>\n",
              "      <td>1115</td>\n",
              "      <td>False</td>\n",
              "    </tr>\n",
              "    <tr>\n",
              "      <th>3</th>\n",
              "      <td>Delaware</td>\n",
              "      <td>Kent County</td>\n",
              "      <td>John Machurek</td>\n",
              "      <td>LIB</td>\n",
              "      <td>616</td>\n",
              "      <td>False</td>\n",
              "    </tr>\n",
              "    <tr>\n",
              "      <th>4</th>\n",
              "      <td>Delaware</td>\n",
              "      <td>New Castle County</td>\n",
              "      <td>John Carney</td>\n",
              "      <td>DEM</td>\n",
              "      <td>191678</td>\n",
              "      <td>True</td>\n",
              "    </tr>\n",
              "  </tbody>\n",
              "</table>\n",
              "</div>\n",
              "      <button class=\"colab-df-convert\" onclick=\"convertToInteractive('df-95c902ea-c64a-4cb2-8311-d576a77b8cee')\"\n",
              "              title=\"Convert this dataframe to an interactive table.\"\n",
              "              style=\"display:none;\">\n",
              "        \n",
              "  <svg xmlns=\"http://www.w3.org/2000/svg\" height=\"24px\"viewBox=\"0 0 24 24\"\n",
              "       width=\"24px\">\n",
              "    <path d=\"M0 0h24v24H0V0z\" fill=\"none\"/>\n",
              "    <path d=\"M18.56 5.44l.94 2.06.94-2.06 2.06-.94-2.06-.94-.94-2.06-.94 2.06-2.06.94zm-11 1L8.5 8.5l.94-2.06 2.06-.94-2.06-.94L8.5 2.5l-.94 2.06-2.06.94zm10 10l.94 2.06.94-2.06 2.06-.94-2.06-.94-.94-2.06-.94 2.06-2.06.94z\"/><path d=\"M17.41 7.96l-1.37-1.37c-.4-.4-.92-.59-1.43-.59-.52 0-1.04.2-1.43.59L10.3 9.45l-7.72 7.72c-.78.78-.78 2.05 0 2.83L4 21.41c.39.39.9.59 1.41.59.51 0 1.02-.2 1.41-.59l7.78-7.78 2.81-2.81c.8-.78.8-2.07 0-2.86zM5.41 20L4 18.59l7.72-7.72 1.47 1.35L5.41 20z\"/>\n",
              "  </svg>\n",
              "      </button>\n",
              "      \n",
              "  <style>\n",
              "    .colab-df-container {\n",
              "      display:flex;\n",
              "      flex-wrap:wrap;\n",
              "      gap: 12px;\n",
              "    }\n",
              "\n",
              "    .colab-df-convert {\n",
              "      background-color: #E8F0FE;\n",
              "      border: none;\n",
              "      border-radius: 50%;\n",
              "      cursor: pointer;\n",
              "      display: none;\n",
              "      fill: #1967D2;\n",
              "      height: 32px;\n",
              "      padding: 0 0 0 0;\n",
              "      width: 32px;\n",
              "    }\n",
              "\n",
              "    .colab-df-convert:hover {\n",
              "      background-color: #E2EBFA;\n",
              "      box-shadow: 0px 1px 2px rgba(60, 64, 67, 0.3), 0px 1px 3px 1px rgba(60, 64, 67, 0.15);\n",
              "      fill: #174EA6;\n",
              "    }\n",
              "\n",
              "    [theme=dark] .colab-df-convert {\n",
              "      background-color: #3B4455;\n",
              "      fill: #D2E3FC;\n",
              "    }\n",
              "\n",
              "    [theme=dark] .colab-df-convert:hover {\n",
              "      background-color: #434B5C;\n",
              "      box-shadow: 0px 1px 3px 1px rgba(0, 0, 0, 0.15);\n",
              "      filter: drop-shadow(0px 1px 2px rgba(0, 0, 0, 0.3));\n",
              "      fill: #FFFFFF;\n",
              "    }\n",
              "  </style>\n",
              "\n",
              "      <script>\n",
              "        const buttonEl =\n",
              "          document.querySelector('#df-95c902ea-c64a-4cb2-8311-d576a77b8cee button.colab-df-convert');\n",
              "        buttonEl.style.display =\n",
              "          google.colab.kernel.accessAllowed ? 'block' : 'none';\n",
              "\n",
              "        async function convertToInteractive(key) {\n",
              "          const element = document.querySelector('#df-95c902ea-c64a-4cb2-8311-d576a77b8cee');\n",
              "          const dataTable =\n",
              "            await google.colab.kernel.invokeFunction('convertToInteractive',\n",
              "                                                     [key], {});\n",
              "          if (!dataTable) return;\n",
              "\n",
              "          const docLinkHtml = 'Like what you see? Visit the ' +\n",
              "            '<a target=\"_blank\" href=https://colab.research.google.com/notebooks/data_table.ipynb>data table notebook</a>'\n",
              "            + ' to learn more about interactive tables.';\n",
              "          element.innerHTML = '';\n",
              "          dataTable['output_type'] = 'display_data';\n",
              "          await google.colab.output.renderOutput(dataTable, element);\n",
              "          const docLink = document.createElement('div');\n",
              "          docLink.innerHTML = docLinkHtml;\n",
              "          element.appendChild(docLink);\n",
              "        }\n",
              "      </script>\n",
              "    </div>\n",
              "  </div>\n",
              "  "
            ],
            "text/plain": [
              "      state             county        candidate party   votes    won\n",
              "0  Delaware        Kent County      John Carney   DEM   44352   True\n",
              "1  Delaware        Kent County  Julianne Murray   REP   39332  False\n",
              "2  Delaware        Kent County  Kathy DeMatteis   IPD    1115  False\n",
              "3  Delaware        Kent County    John Machurek   LIB     616  False\n",
              "4  Delaware  New Castle County      John Carney   DEM  191678   True"
            ]
          },
          "metadata": {},
          "execution_count": 85
        }
      ]
    },
    {
      "cell_type": "code",
      "source": [
        "df_census.head()"
      ],
      "metadata": {
        "colab": {
          "base_uri": "https://localhost:8080/",
          "height": 357
        },
        "id": "bjEP7yVRtLcI",
        "outputId": "38d4e69a-0d61-430b-ea1b-a29ac66085e0"
      },
      "execution_count": 86,
      "outputs": [
        {
          "output_type": "execute_result",
          "data": {
            "text/html": [
              "\n",
              "  <div id=\"df-755ed780-5a77-4dd6-8596-bbafef10b89c\">\n",
              "    <div class=\"colab-df-container\">\n",
              "      <div>\n",
              "<style scoped>\n",
              "    .dataframe tbody tr th:only-of-type {\n",
              "        vertical-align: middle;\n",
              "    }\n",
              "\n",
              "    .dataframe tbody tr th {\n",
              "        vertical-align: top;\n",
              "    }\n",
              "\n",
              "    .dataframe thead th {\n",
              "        text-align: right;\n",
              "    }\n",
              "</style>\n",
              "<table border=\"1\" class=\"dataframe\">\n",
              "  <thead>\n",
              "    <tr style=\"text-align: right;\">\n",
              "      <th></th>\n",
              "      <th>CountyId</th>\n",
              "      <th>State</th>\n",
              "      <th>County</th>\n",
              "      <th>TotalPop</th>\n",
              "      <th>Men</th>\n",
              "      <th>Women</th>\n",
              "      <th>Hispanic</th>\n",
              "      <th>White</th>\n",
              "      <th>Black</th>\n",
              "      <th>Native</th>\n",
              "      <th>Asian</th>\n",
              "      <th>Pacific</th>\n",
              "      <th>VotingAgeCitizen</th>\n",
              "      <th>Income</th>\n",
              "      <th>IncomeErr</th>\n",
              "      <th>IncomePerCap</th>\n",
              "      <th>IncomePerCapErr</th>\n",
              "      <th>Poverty</th>\n",
              "      <th>ChildPoverty</th>\n",
              "      <th>Professional</th>\n",
              "      <th>Service</th>\n",
              "      <th>Office</th>\n",
              "      <th>Construction</th>\n",
              "      <th>Production</th>\n",
              "      <th>Drive</th>\n",
              "      <th>Carpool</th>\n",
              "      <th>Transit</th>\n",
              "      <th>Walk</th>\n",
              "      <th>OtherTransp</th>\n",
              "      <th>WorkAtHome</th>\n",
              "      <th>MeanCommute</th>\n",
              "      <th>Employed</th>\n",
              "      <th>PrivateWork</th>\n",
              "      <th>PublicWork</th>\n",
              "      <th>SelfEmployed</th>\n",
              "      <th>FamilyWork</th>\n",
              "      <th>Unemployment</th>\n",
              "    </tr>\n",
              "  </thead>\n",
              "  <tbody>\n",
              "    <tr>\n",
              "      <th>0</th>\n",
              "      <td>1001</td>\n",
              "      <td>Alabama</td>\n",
              "      <td>Autauga County</td>\n",
              "      <td>55036</td>\n",
              "      <td>26899</td>\n",
              "      <td>28137</td>\n",
              "      <td>2.7</td>\n",
              "      <td>75.4</td>\n",
              "      <td>18.9</td>\n",
              "      <td>0.3</td>\n",
              "      <td>0.9</td>\n",
              "      <td>0.0</td>\n",
              "      <td>41016</td>\n",
              "      <td>55317</td>\n",
              "      <td>2838</td>\n",
              "      <td>27824</td>\n",
              "      <td>2024</td>\n",
              "      <td>13.7</td>\n",
              "      <td>20.1</td>\n",
              "      <td>35.3</td>\n",
              "      <td>18.0</td>\n",
              "      <td>23.2</td>\n",
              "      <td>8.1</td>\n",
              "      <td>15.4</td>\n",
              "      <td>86.0</td>\n",
              "      <td>9.6</td>\n",
              "      <td>0.1</td>\n",
              "      <td>0.6</td>\n",
              "      <td>1.3</td>\n",
              "      <td>2.5</td>\n",
              "      <td>25.8</td>\n",
              "      <td>24112</td>\n",
              "      <td>74.1</td>\n",
              "      <td>20.2</td>\n",
              "      <td>5.6</td>\n",
              "      <td>0.1</td>\n",
              "      <td>5.2</td>\n",
              "    </tr>\n",
              "    <tr>\n",
              "      <th>1</th>\n",
              "      <td>1003</td>\n",
              "      <td>Alabama</td>\n",
              "      <td>Baldwin County</td>\n",
              "      <td>203360</td>\n",
              "      <td>99527</td>\n",
              "      <td>103833</td>\n",
              "      <td>4.4</td>\n",
              "      <td>83.1</td>\n",
              "      <td>9.5</td>\n",
              "      <td>0.8</td>\n",
              "      <td>0.7</td>\n",
              "      <td>0.0</td>\n",
              "      <td>155376</td>\n",
              "      <td>52562</td>\n",
              "      <td>1348</td>\n",
              "      <td>29364</td>\n",
              "      <td>735</td>\n",
              "      <td>11.8</td>\n",
              "      <td>16.1</td>\n",
              "      <td>35.7</td>\n",
              "      <td>18.2</td>\n",
              "      <td>25.6</td>\n",
              "      <td>9.7</td>\n",
              "      <td>10.8</td>\n",
              "      <td>84.7</td>\n",
              "      <td>7.6</td>\n",
              "      <td>0.1</td>\n",
              "      <td>0.8</td>\n",
              "      <td>1.1</td>\n",
              "      <td>5.6</td>\n",
              "      <td>27.0</td>\n",
              "      <td>89527</td>\n",
              "      <td>80.7</td>\n",
              "      <td>12.9</td>\n",
              "      <td>6.3</td>\n",
              "      <td>0.1</td>\n",
              "      <td>5.5</td>\n",
              "    </tr>\n",
              "    <tr>\n",
              "      <th>2</th>\n",
              "      <td>1005</td>\n",
              "      <td>Alabama</td>\n",
              "      <td>Barbour County</td>\n",
              "      <td>26201</td>\n",
              "      <td>13976</td>\n",
              "      <td>12225</td>\n",
              "      <td>4.2</td>\n",
              "      <td>45.7</td>\n",
              "      <td>47.8</td>\n",
              "      <td>0.2</td>\n",
              "      <td>0.6</td>\n",
              "      <td>0.0</td>\n",
              "      <td>20269</td>\n",
              "      <td>33368</td>\n",
              "      <td>2551</td>\n",
              "      <td>17561</td>\n",
              "      <td>798</td>\n",
              "      <td>27.2</td>\n",
              "      <td>44.9</td>\n",
              "      <td>25.0</td>\n",
              "      <td>16.8</td>\n",
              "      <td>22.6</td>\n",
              "      <td>11.5</td>\n",
              "      <td>24.1</td>\n",
              "      <td>83.4</td>\n",
              "      <td>11.1</td>\n",
              "      <td>0.3</td>\n",
              "      <td>2.2</td>\n",
              "      <td>1.7</td>\n",
              "      <td>1.3</td>\n",
              "      <td>23.4</td>\n",
              "      <td>8878</td>\n",
              "      <td>74.1</td>\n",
              "      <td>19.1</td>\n",
              "      <td>6.5</td>\n",
              "      <td>0.3</td>\n",
              "      <td>12.4</td>\n",
              "    </tr>\n",
              "    <tr>\n",
              "      <th>3</th>\n",
              "      <td>1007</td>\n",
              "      <td>Alabama</td>\n",
              "      <td>Bibb County</td>\n",
              "      <td>22580</td>\n",
              "      <td>12251</td>\n",
              "      <td>10329</td>\n",
              "      <td>2.4</td>\n",
              "      <td>74.6</td>\n",
              "      <td>22.0</td>\n",
              "      <td>0.4</td>\n",
              "      <td>0.0</td>\n",
              "      <td>0.0</td>\n",
              "      <td>17662</td>\n",
              "      <td>43404</td>\n",
              "      <td>3431</td>\n",
              "      <td>20911</td>\n",
              "      <td>1889</td>\n",
              "      <td>15.2</td>\n",
              "      <td>26.6</td>\n",
              "      <td>24.4</td>\n",
              "      <td>17.6</td>\n",
              "      <td>19.7</td>\n",
              "      <td>15.9</td>\n",
              "      <td>22.4</td>\n",
              "      <td>86.4</td>\n",
              "      <td>9.5</td>\n",
              "      <td>0.7</td>\n",
              "      <td>0.3</td>\n",
              "      <td>1.7</td>\n",
              "      <td>1.5</td>\n",
              "      <td>30.0</td>\n",
              "      <td>8171</td>\n",
              "      <td>76.0</td>\n",
              "      <td>17.4</td>\n",
              "      <td>6.3</td>\n",
              "      <td>0.3</td>\n",
              "      <td>8.2</td>\n",
              "    </tr>\n",
              "    <tr>\n",
              "      <th>4</th>\n",
              "      <td>1009</td>\n",
              "      <td>Alabama</td>\n",
              "      <td>Blount County</td>\n",
              "      <td>57667</td>\n",
              "      <td>28490</td>\n",
              "      <td>29177</td>\n",
              "      <td>9.0</td>\n",
              "      <td>87.4</td>\n",
              "      <td>1.5</td>\n",
              "      <td>0.3</td>\n",
              "      <td>0.1</td>\n",
              "      <td>0.0</td>\n",
              "      <td>42513</td>\n",
              "      <td>47412</td>\n",
              "      <td>2630</td>\n",
              "      <td>22021</td>\n",
              "      <td>850</td>\n",
              "      <td>15.6</td>\n",
              "      <td>25.4</td>\n",
              "      <td>28.5</td>\n",
              "      <td>12.9</td>\n",
              "      <td>23.3</td>\n",
              "      <td>15.8</td>\n",
              "      <td>19.5</td>\n",
              "      <td>86.8</td>\n",
              "      <td>10.2</td>\n",
              "      <td>0.1</td>\n",
              "      <td>0.4</td>\n",
              "      <td>0.4</td>\n",
              "      <td>2.1</td>\n",
              "      <td>35.0</td>\n",
              "      <td>21380</td>\n",
              "      <td>83.9</td>\n",
              "      <td>11.9</td>\n",
              "      <td>4.0</td>\n",
              "      <td>0.1</td>\n",
              "      <td>4.9</td>\n",
              "    </tr>\n",
              "  </tbody>\n",
              "</table>\n",
              "</div>\n",
              "      <button class=\"colab-df-convert\" onclick=\"convertToInteractive('df-755ed780-5a77-4dd6-8596-bbafef10b89c')\"\n",
              "              title=\"Convert this dataframe to an interactive table.\"\n",
              "              style=\"display:none;\">\n",
              "        \n",
              "  <svg xmlns=\"http://www.w3.org/2000/svg\" height=\"24px\"viewBox=\"0 0 24 24\"\n",
              "       width=\"24px\">\n",
              "    <path d=\"M0 0h24v24H0V0z\" fill=\"none\"/>\n",
              "    <path d=\"M18.56 5.44l.94 2.06.94-2.06 2.06-.94-2.06-.94-.94-2.06-.94 2.06-2.06.94zm-11 1L8.5 8.5l.94-2.06 2.06-.94-2.06-.94L8.5 2.5l-.94 2.06-2.06.94zm10 10l.94 2.06.94-2.06 2.06-.94-2.06-.94-.94-2.06-.94 2.06-2.06.94z\"/><path d=\"M17.41 7.96l-1.37-1.37c-.4-.4-.92-.59-1.43-.59-.52 0-1.04.2-1.43.59L10.3 9.45l-7.72 7.72c-.78.78-.78 2.05 0 2.83L4 21.41c.39.39.9.59 1.41.59.51 0 1.02-.2 1.41-.59l7.78-7.78 2.81-2.81c.8-.78.8-2.07 0-2.86zM5.41 20L4 18.59l7.72-7.72 1.47 1.35L5.41 20z\"/>\n",
              "  </svg>\n",
              "      </button>\n",
              "      \n",
              "  <style>\n",
              "    .colab-df-container {\n",
              "      display:flex;\n",
              "      flex-wrap:wrap;\n",
              "      gap: 12px;\n",
              "    }\n",
              "\n",
              "    .colab-df-convert {\n",
              "      background-color: #E8F0FE;\n",
              "      border: none;\n",
              "      border-radius: 50%;\n",
              "      cursor: pointer;\n",
              "      display: none;\n",
              "      fill: #1967D2;\n",
              "      height: 32px;\n",
              "      padding: 0 0 0 0;\n",
              "      width: 32px;\n",
              "    }\n",
              "\n",
              "    .colab-df-convert:hover {\n",
              "      background-color: #E2EBFA;\n",
              "      box-shadow: 0px 1px 2px rgba(60, 64, 67, 0.3), 0px 1px 3px 1px rgba(60, 64, 67, 0.15);\n",
              "      fill: #174EA6;\n",
              "    }\n",
              "\n",
              "    [theme=dark] .colab-df-convert {\n",
              "      background-color: #3B4455;\n",
              "      fill: #D2E3FC;\n",
              "    }\n",
              "\n",
              "    [theme=dark] .colab-df-convert:hover {\n",
              "      background-color: #434B5C;\n",
              "      box-shadow: 0px 1px 3px 1px rgba(0, 0, 0, 0.15);\n",
              "      filter: drop-shadow(0px 1px 2px rgba(0, 0, 0, 0.3));\n",
              "      fill: #FFFFFF;\n",
              "    }\n",
              "  </style>\n",
              "\n",
              "      <script>\n",
              "        const buttonEl =\n",
              "          document.querySelector('#df-755ed780-5a77-4dd6-8596-bbafef10b89c button.colab-df-convert');\n",
              "        buttonEl.style.display =\n",
              "          google.colab.kernel.accessAllowed ? 'block' : 'none';\n",
              "\n",
              "        async function convertToInteractive(key) {\n",
              "          const element = document.querySelector('#df-755ed780-5a77-4dd6-8596-bbafef10b89c');\n",
              "          const dataTable =\n",
              "            await google.colab.kernel.invokeFunction('convertToInteractive',\n",
              "                                                     [key], {});\n",
              "          if (!dataTable) return;\n",
              "\n",
              "          const docLinkHtml = 'Like what you see? Visit the ' +\n",
              "            '<a target=\"_blank\" href=https://colab.research.google.com/notebooks/data_table.ipynb>data table notebook</a>'\n",
              "            + ' to learn more about interactive tables.';\n",
              "          element.innerHTML = '';\n",
              "          dataTable['output_type'] = 'display_data';\n",
              "          await google.colab.output.renderOutput(dataTable, element);\n",
              "          const docLink = document.createElement('div');\n",
              "          docLink.innerHTML = docLinkHtml;\n",
              "          element.appendChild(docLink);\n",
              "        }\n",
              "      </script>\n",
              "    </div>\n",
              "  </div>\n",
              "  "
            ],
            "text/plain": [
              "   CountyId    State          County  ...  SelfEmployed  FamilyWork  Unemployment\n",
              "0      1001  Alabama  Autauga County  ...           5.6         0.1           5.2\n",
              "1      1003  Alabama  Baldwin County  ...           6.3         0.1           5.5\n",
              "2      1005  Alabama  Barbour County  ...           6.5         0.3          12.4\n",
              "3      1007  Alabama     Bibb County  ...           6.3         0.3           8.2\n",
              "4      1009  Alabama   Blount County  ...           4.0         0.1           4.9\n",
              "\n",
              "[5 rows x 37 columns]"
            ]
          },
          "metadata": {},
          "execution_count": 86
        }
      ]
    },
    {
      "cell_type": "markdown",
      "source": [
        "- TotalPop, Men, Women은 실제 수로 기입하여 덧셈 가능   \n",
        "- Hispanic등 데이터가 소수점인 컬럼은 퍼센트이므로 단순히 더하면 안 됨"
      ],
      "metadata": {
        "id": "MF0Otw4k0Kdv"
      }
    },
    {
      "cell_type": "code",
      "source": [
        "df_census['County'].value_counts()"
      ],
      "metadata": {
        "colab": {
          "base_uri": "https://localhost:8080/"
        },
        "id": "WbJcmw920VG1",
        "outputId": "ea1e724f-b7e5-4d5f-f85f-2116820ad374"
      },
      "execution_count": 87,
      "outputs": [
        {
          "output_type": "execute_result",
          "data": {
            "text/plain": [
              "Washington County    30\n",
              "Jefferson County     25\n",
              "Franklin County      24\n",
              "Jackson County       23\n",
              "Lincoln County       23\n",
              "                     ..\n",
              "Nantucket County      1\n",
              "Hampden County        1\n",
              "Dukes County          1\n",
              "Berkshire County      1\n",
              "Yauco Municipio       1\n",
              "Name: County, Length: 1955, dtype: int64"
            ]
          },
          "metadata": {},
          "execution_count": 87
        }
      ]
    },
    {
      "cell_type": "markdown",
      "source": [
        "큰 county는 잘게 쪼개서 투표함을 알 수 있다.   \n",
        "ex) LA는 2346개, Hitchcock는 1개"
      ],
      "metadata": {
        "id": "E21xJb_k0eEP"
      }
    },
    {
      "cell_type": "code",
      "source": [
        "state_code.head()"
      ],
      "metadata": {
        "colab": {
          "base_uri": "https://localhost:8080/",
          "height": 206
        },
        "id": "Cy7D1hMhtQ5Y",
        "outputId": "b6c02f69-426a-4e0c-9d70-3b99ca78ffc6"
      },
      "execution_count": 88,
      "outputs": [
        {
          "output_type": "execute_result",
          "data": {
            "text/html": [
              "\n",
              "  <div id=\"df-767a492f-9acd-4cd1-b19b-82b0dedd9d2b\">\n",
              "    <div class=\"colab-df-container\">\n",
              "      <div>\n",
              "<style scoped>\n",
              "    .dataframe tbody tr th:only-of-type {\n",
              "        vertical-align: middle;\n",
              "    }\n",
              "\n",
              "    .dataframe tbody tr th {\n",
              "        vertical-align: top;\n",
              "    }\n",
              "\n",
              "    .dataframe thead th {\n",
              "        text-align: right;\n",
              "    }\n",
              "</style>\n",
              "<table border=\"1\" class=\"dataframe\">\n",
              "  <thead>\n",
              "    <tr style=\"text-align: right;\">\n",
              "      <th></th>\n",
              "      <th>State Name/District</th>\n",
              "      <th>Postal Abbreviation</th>\n",
              "      <th>Postal Code</th>\n",
              "    </tr>\n",
              "  </thead>\n",
              "  <tbody>\n",
              "    <tr>\n",
              "      <th>0</th>\n",
              "      <td>Alabama</td>\n",
              "      <td>Ala.</td>\n",
              "      <td>AL</td>\n",
              "    </tr>\n",
              "    <tr>\n",
              "      <th>1</th>\n",
              "      <td>Alaska</td>\n",
              "      <td>Alaska</td>\n",
              "      <td>AK</td>\n",
              "    </tr>\n",
              "    <tr>\n",
              "      <th>2</th>\n",
              "      <td>Arizona</td>\n",
              "      <td>Ariz.</td>\n",
              "      <td>AZ</td>\n",
              "    </tr>\n",
              "    <tr>\n",
              "      <th>3</th>\n",
              "      <td>Arkansas</td>\n",
              "      <td>Ark.</td>\n",
              "      <td>AR</td>\n",
              "    </tr>\n",
              "    <tr>\n",
              "      <th>4</th>\n",
              "      <td>California</td>\n",
              "      <td>Calif.</td>\n",
              "      <td>CA</td>\n",
              "    </tr>\n",
              "  </tbody>\n",
              "</table>\n",
              "</div>\n",
              "      <button class=\"colab-df-convert\" onclick=\"convertToInteractive('df-767a492f-9acd-4cd1-b19b-82b0dedd9d2b')\"\n",
              "              title=\"Convert this dataframe to an interactive table.\"\n",
              "              style=\"display:none;\">\n",
              "        \n",
              "  <svg xmlns=\"http://www.w3.org/2000/svg\" height=\"24px\"viewBox=\"0 0 24 24\"\n",
              "       width=\"24px\">\n",
              "    <path d=\"M0 0h24v24H0V0z\" fill=\"none\"/>\n",
              "    <path d=\"M18.56 5.44l.94 2.06.94-2.06 2.06-.94-2.06-.94-.94-2.06-.94 2.06-2.06.94zm-11 1L8.5 8.5l.94-2.06 2.06-.94-2.06-.94L8.5 2.5l-.94 2.06-2.06.94zm10 10l.94 2.06.94-2.06 2.06-.94-2.06-.94-.94-2.06-.94 2.06-2.06.94z\"/><path d=\"M17.41 7.96l-1.37-1.37c-.4-.4-.92-.59-1.43-.59-.52 0-1.04.2-1.43.59L10.3 9.45l-7.72 7.72c-.78.78-.78 2.05 0 2.83L4 21.41c.39.39.9.59 1.41.59.51 0 1.02-.2 1.41-.59l7.78-7.78 2.81-2.81c.8-.78.8-2.07 0-2.86zM5.41 20L4 18.59l7.72-7.72 1.47 1.35L5.41 20z\"/>\n",
              "  </svg>\n",
              "      </button>\n",
              "      \n",
              "  <style>\n",
              "    .colab-df-container {\n",
              "      display:flex;\n",
              "      flex-wrap:wrap;\n",
              "      gap: 12px;\n",
              "    }\n",
              "\n",
              "    .colab-df-convert {\n",
              "      background-color: #E8F0FE;\n",
              "      border: none;\n",
              "      border-radius: 50%;\n",
              "      cursor: pointer;\n",
              "      display: none;\n",
              "      fill: #1967D2;\n",
              "      height: 32px;\n",
              "      padding: 0 0 0 0;\n",
              "      width: 32px;\n",
              "    }\n",
              "\n",
              "    .colab-df-convert:hover {\n",
              "      background-color: #E2EBFA;\n",
              "      box-shadow: 0px 1px 2px rgba(60, 64, 67, 0.3), 0px 1px 3px 1px rgba(60, 64, 67, 0.15);\n",
              "      fill: #174EA6;\n",
              "    }\n",
              "\n",
              "    [theme=dark] .colab-df-convert {\n",
              "      background-color: #3B4455;\n",
              "      fill: #D2E3FC;\n",
              "    }\n",
              "\n",
              "    [theme=dark] .colab-df-convert:hover {\n",
              "      background-color: #434B5C;\n",
              "      box-shadow: 0px 1px 3px 1px rgba(0, 0, 0, 0.15);\n",
              "      filter: drop-shadow(0px 1px 2px rgba(0, 0, 0, 0.3));\n",
              "      fill: #FFFFFF;\n",
              "    }\n",
              "  </style>\n",
              "\n",
              "      <script>\n",
              "        const buttonEl =\n",
              "          document.querySelector('#df-767a492f-9acd-4cd1-b19b-82b0dedd9d2b button.colab-df-convert');\n",
              "        buttonEl.style.display =\n",
              "          google.colab.kernel.accessAllowed ? 'block' : 'none';\n",
              "\n",
              "        async function convertToInteractive(key) {\n",
              "          const element = document.querySelector('#df-767a492f-9acd-4cd1-b19b-82b0dedd9d2b');\n",
              "          const dataTable =\n",
              "            await google.colab.kernel.invokeFunction('convertToInteractive',\n",
              "                                                     [key], {});\n",
              "          if (!dataTable) return;\n",
              "\n",
              "          const docLinkHtml = 'Like what you see? Visit the ' +\n",
              "            '<a target=\"_blank\" href=https://colab.research.google.com/notebooks/data_table.ipynb>data table notebook</a>'\n",
              "            + ' to learn more about interactive tables.';\n",
              "          element.innerHTML = '';\n",
              "          dataTable['output_type'] = 'display_data';\n",
              "          await google.colab.output.renderOutput(dataTable, element);\n",
              "          const docLink = document.createElement('div');\n",
              "          docLink.innerHTML = docLinkHtml;\n",
              "          element.appendChild(docLink);\n",
              "        }\n",
              "      </script>\n",
              "    </div>\n",
              "  </div>\n",
              "  "
            ],
            "text/plain": [
              "  State Name/District Postal Abbreviation Postal Code\n",
              "0             Alabama                Ala.          AL\n",
              "1              Alaska              Alaska          AK\n",
              "2             Arizona               Ariz.          AZ\n",
              "3            Arkansas                Ark.          AR\n",
              "4          California              Calif.          CA"
            ]
          },
          "metadata": {},
          "execution_count": 88
        }
      ]
    },
    {
      "cell_type": "markdown",
      "metadata": {
        "id": "HGHvPwkNtXgj"
      },
      "source": [
        "### 문제 5. County 별 통계로 데이터프레임 구조 변경하기\n"
      ]
    },
    {
      "cell_type": "code",
      "metadata": {
        "id": "b_zcrUDF7khF"
      },
      "source": [
        "# 모든 데이터프레임의 index를 County로 변경하기"
      ],
      "execution_count": 89,
      "outputs": []
    },
    {
      "cell_type": "code",
      "source": [
        "# df_pres에서 관심있는 정당(DEM, REP) 제외하고 제거할 예정\n",
        "# 관심 정당이면 true, 아니면 false 값을 줌\n",
        "df_pres['party'].apply(lambda s: str(s) in ['DEM', 'REP'])"
      ],
      "metadata": {
        "colab": {
          "base_uri": "https://localhost:8080/"
        },
        "id": "jAVJVHK460YL",
        "outputId": "8ec16756-0cf5-4bee-a73e-3d836b444255"
      },
      "execution_count": 90,
      "outputs": [
        {
          "output_type": "execute_result",
          "data": {
            "text/plain": [
              "0         True\n",
              "1         True\n",
              "2        False\n",
              "3        False\n",
              "4         True\n",
              "         ...  \n",
              "32172    False\n",
              "32173     True\n",
              "32174     True\n",
              "32175    False\n",
              "32176    False\n",
              "Name: party, Length: 32177, dtype: bool"
            ]
          },
          "metadata": {},
          "execution_count": 90
        }
      ]
    },
    {
      "cell_type": "code",
      "source": [
        "# true만 출력\n",
        "data = df_pres.loc[df_pres['party'].apply(lambda s: str(s) in ['DEM', 'REP'])]"
      ],
      "metadata": {
        "id": "7mUM-4rn7I4u"
      },
      "execution_count": 91,
      "outputs": []
    },
    {
      "cell_type": "markdown",
      "source": [
        "pd.pivot_table(data, values, index, columns, aggfunc=함수)    \n",
        " \n",
        " - data : 데이터 프레임   \n",
        " - values : 분석할 열\n",
        " - index   \n",
        " - columns   \n",
        " - aggfunc : 집계 함수"
      ],
      "metadata": {
        "id": "zaaBMc197s5Q"
      }
    },
    {
      "cell_type": "code",
      "source": [
        "table_pres = pd.pivot_table(data = data, index=['state', 'county'], columns = 'party', values ='total_votes')\n",
        "table_pres.rename({'DEM':'Pres_Dem',  'REP':'Pres_Rep'}, axis = 1, inplace = True)\n",
        "table_pres"
      ],
      "metadata": {
        "colab": {
          "base_uri": "https://localhost:8080/",
          "height": 455
        },
        "id": "qk03LePe7Xvo",
        "outputId": "49611545-9767-451c-c6a4-16bd8ec93dc9"
      },
      "execution_count": 92,
      "outputs": [
        {
          "output_type": "execute_result",
          "data": {
            "text/html": [
              "\n",
              "  <div id=\"df-ff645857-a304-49a8-9916-eaea1c341f35\">\n",
              "    <div class=\"colab-df-container\">\n",
              "      <div>\n",
              "<style scoped>\n",
              "    .dataframe tbody tr th:only-of-type {\n",
              "        vertical-align: middle;\n",
              "    }\n",
              "\n",
              "    .dataframe tbody tr th {\n",
              "        vertical-align: top;\n",
              "    }\n",
              "\n",
              "    .dataframe thead th {\n",
              "        text-align: right;\n",
              "    }\n",
              "</style>\n",
              "<table border=\"1\" class=\"dataframe\">\n",
              "  <thead>\n",
              "    <tr style=\"text-align: right;\">\n",
              "      <th></th>\n",
              "      <th>party</th>\n",
              "      <th>Pres_Dem</th>\n",
              "      <th>Pres_Rep</th>\n",
              "    </tr>\n",
              "    <tr>\n",
              "      <th>state</th>\n",
              "      <th>county</th>\n",
              "      <th></th>\n",
              "      <th></th>\n",
              "    </tr>\n",
              "  </thead>\n",
              "  <tbody>\n",
              "    <tr>\n",
              "      <th rowspan=\"5\" valign=\"top\">Alabama</th>\n",
              "      <th>Autauga County</th>\n",
              "      <td>7503</td>\n",
              "      <td>19838</td>\n",
              "    </tr>\n",
              "    <tr>\n",
              "      <th>Baldwin County</th>\n",
              "      <td>24578</td>\n",
              "      <td>83544</td>\n",
              "    </tr>\n",
              "    <tr>\n",
              "      <th>Barbour County</th>\n",
              "      <td>4816</td>\n",
              "      <td>5622</td>\n",
              "    </tr>\n",
              "    <tr>\n",
              "      <th>Bibb County</th>\n",
              "      <td>1986</td>\n",
              "      <td>7525</td>\n",
              "    </tr>\n",
              "    <tr>\n",
              "      <th>Blount County</th>\n",
              "      <td>2640</td>\n",
              "      <td>24711</td>\n",
              "    </tr>\n",
              "    <tr>\n",
              "      <th>...</th>\n",
              "      <th>...</th>\n",
              "      <td>...</td>\n",
              "      <td>...</td>\n",
              "    </tr>\n",
              "    <tr>\n",
              "      <th rowspan=\"5\" valign=\"top\">Wyoming</th>\n",
              "      <th>Sweetwater County</th>\n",
              "      <td>3823</td>\n",
              "      <td>12229</td>\n",
              "    </tr>\n",
              "    <tr>\n",
              "      <th>Teton County</th>\n",
              "      <td>9848</td>\n",
              "      <td>4341</td>\n",
              "    </tr>\n",
              "    <tr>\n",
              "      <th>Uinta County</th>\n",
              "      <td>1591</td>\n",
              "      <td>7496</td>\n",
              "    </tr>\n",
              "    <tr>\n",
              "      <th>Washakie County</th>\n",
              "      <td>651</td>\n",
              "      <td>3245</td>\n",
              "    </tr>\n",
              "    <tr>\n",
              "      <th>Weston County</th>\n",
              "      <td>360</td>\n",
              "      <td>3107</td>\n",
              "    </tr>\n",
              "  </tbody>\n",
              "</table>\n",
              "<p>4633 rows × 2 columns</p>\n",
              "</div>\n",
              "      <button class=\"colab-df-convert\" onclick=\"convertToInteractive('df-ff645857-a304-49a8-9916-eaea1c341f35')\"\n",
              "              title=\"Convert this dataframe to an interactive table.\"\n",
              "              style=\"display:none;\">\n",
              "        \n",
              "  <svg xmlns=\"http://www.w3.org/2000/svg\" height=\"24px\"viewBox=\"0 0 24 24\"\n",
              "       width=\"24px\">\n",
              "    <path d=\"M0 0h24v24H0V0z\" fill=\"none\"/>\n",
              "    <path d=\"M18.56 5.44l.94 2.06.94-2.06 2.06-.94-2.06-.94-.94-2.06-.94 2.06-2.06.94zm-11 1L8.5 8.5l.94-2.06 2.06-.94-2.06-.94L8.5 2.5l-.94 2.06-2.06.94zm10 10l.94 2.06.94-2.06 2.06-.94-2.06-.94-.94-2.06-.94 2.06-2.06.94z\"/><path d=\"M17.41 7.96l-1.37-1.37c-.4-.4-.92-.59-1.43-.59-.52 0-1.04.2-1.43.59L10.3 9.45l-7.72 7.72c-.78.78-.78 2.05 0 2.83L4 21.41c.39.39.9.59 1.41.59.51 0 1.02-.2 1.41-.59l7.78-7.78 2.81-2.81c.8-.78.8-2.07 0-2.86zM5.41 20L4 18.59l7.72-7.72 1.47 1.35L5.41 20z\"/>\n",
              "  </svg>\n",
              "      </button>\n",
              "      \n",
              "  <style>\n",
              "    .colab-df-container {\n",
              "      display:flex;\n",
              "      flex-wrap:wrap;\n",
              "      gap: 12px;\n",
              "    }\n",
              "\n",
              "    .colab-df-convert {\n",
              "      background-color: #E8F0FE;\n",
              "      border: none;\n",
              "      border-radius: 50%;\n",
              "      cursor: pointer;\n",
              "      display: none;\n",
              "      fill: #1967D2;\n",
              "      height: 32px;\n",
              "      padding: 0 0 0 0;\n",
              "      width: 32px;\n",
              "    }\n",
              "\n",
              "    .colab-df-convert:hover {\n",
              "      background-color: #E2EBFA;\n",
              "      box-shadow: 0px 1px 2px rgba(60, 64, 67, 0.3), 0px 1px 3px 1px rgba(60, 64, 67, 0.15);\n",
              "      fill: #174EA6;\n",
              "    }\n",
              "\n",
              "    [theme=dark] .colab-df-convert {\n",
              "      background-color: #3B4455;\n",
              "      fill: #D2E3FC;\n",
              "    }\n",
              "\n",
              "    [theme=dark] .colab-df-convert:hover {\n",
              "      background-color: #434B5C;\n",
              "      box-shadow: 0px 1px 3px 1px rgba(0, 0, 0, 0.15);\n",
              "      filter: drop-shadow(0px 1px 2px rgba(0, 0, 0, 0.3));\n",
              "      fill: #FFFFFF;\n",
              "    }\n",
              "  </style>\n",
              "\n",
              "      <script>\n",
              "        const buttonEl =\n",
              "          document.querySelector('#df-ff645857-a304-49a8-9916-eaea1c341f35 button.colab-df-convert');\n",
              "        buttonEl.style.display =\n",
              "          google.colab.kernel.accessAllowed ? 'block' : 'none';\n",
              "\n",
              "        async function convertToInteractive(key) {\n",
              "          const element = document.querySelector('#df-ff645857-a304-49a8-9916-eaea1c341f35');\n",
              "          const dataTable =\n",
              "            await google.colab.kernel.invokeFunction('convertToInteractive',\n",
              "                                                     [key], {});\n",
              "          if (!dataTable) return;\n",
              "\n",
              "          const docLinkHtml = 'Like what you see? Visit the ' +\n",
              "            '<a target=\"_blank\" href=https://colab.research.google.com/notebooks/data_table.ipynb>data table notebook</a>'\n",
              "            + ' to learn more about interactive tables.';\n",
              "          element.innerHTML = '';\n",
              "          dataTable['output_type'] = 'display_data';\n",
              "          await google.colab.output.renderOutput(dataTable, element);\n",
              "          const docLink = document.createElement('div');\n",
              "          docLink.innerHTML = docLinkHtml;\n",
              "          element.appendChild(docLink);\n",
              "        }\n",
              "      </script>\n",
              "    </div>\n",
              "  </div>\n",
              "  "
            ],
            "text/plain": [
              "party                      Pres_Dem  Pres_Rep\n",
              "state   county                               \n",
              "Alabama Autauga County         7503     19838\n",
              "        Baldwin County        24578     83544\n",
              "        Barbour County         4816      5622\n",
              "        Bibb County            1986      7525\n",
              "        Blount County          2640     24711\n",
              "...                             ...       ...\n",
              "Wyoming Sweetwater County      3823     12229\n",
              "        Teton County           9848      4341\n",
              "        Uinta County           1591      7496\n",
              "        Washakie County         651      3245\n",
              "        Weston County           360      3107\n",
              "\n",
              "[4633 rows x 2 columns]"
            ]
          },
          "metadata": {},
          "execution_count": 92
        }
      ]
    },
    {
      "cell_type": "markdown",
      "source": [
        "자료 수정 후에는 항상 결측치를 확인해야 한다.   "
      ],
      "metadata": {
        "id": "--VkcpwqAgxY"
      }
    },
    {
      "cell_type": "code",
      "source": [
        "table_pres.isna().sum()"
      ],
      "metadata": {
        "colab": {
          "base_uri": "https://localhost:8080/"
        },
        "id": "Nu-kTHsvAjrT",
        "outputId": "a0049ed6-9ce2-49bb-d6d6-c4619803b1aa"
      },
      "execution_count": 93,
      "outputs": [
        {
          "output_type": "execute_result",
          "data": {
            "text/plain": [
              "party\n",
              "Pres_Dem    0\n",
              "Pres_Rep    0\n",
              "dtype: int64"
            ]
          },
          "metadata": {},
          "execution_count": 93
        }
      ]
    },
    {
      "cell_type": "code",
      "source": [
        "data = df_gov.loc[df_gov['party'].apply(lambda s: str(s) in ['DEM', 'REP'])]\n",
        "table_gov = pd.pivot_table(data = data, index=['state', 'county'], columns = 'party', values ='votes')\n",
        "table_gov.rename({'DEM':'Gov_Dem',  'REP':'Gov_Rep'}, axis = 1, inplace = True)\n",
        "\n",
        "print(table_gov)\n",
        "print(table_gov.isna().sum())"
      ],
      "metadata": {
        "colab": {
          "base_uri": "https://localhost:8080/"
        },
        "id": "MAhfnNbvDTIy",
        "outputId": "95436f68-5d62-496d-b0d5-a7de9ed5aa08"
      },
      "execution_count": 94,
      "outputs": [
        {
          "output_type": "stream",
          "name": "stdout",
          "text": [
            "party                            Gov_Dem  Gov_Rep\n",
            "state         county                             \n",
            "Delaware      Kent County          44352    39332\n",
            "              New Castle County   191678    82545\n",
            "              Sussex County        56873    68435\n",
            "Indiana       Adams County          2143     9441\n",
            "              Allen County         53895    98406\n",
            "...                                  ...      ...\n",
            "West Virginia Webster County         659     2552\n",
            "              Wetzel County         1727     4559\n",
            "              Wirt County            483     1947\n",
            "              Wood County           9933    26232\n",
            "              Wyoming County        1240     6941\n",
            "\n",
            "[1025 rows x 2 columns]\n",
            "party\n",
            "Gov_Dem    0\n",
            "Gov_Rep    0\n",
            "dtype: int64\n"
          ]
        }
      ]
    },
    {
      "cell_type": "code",
      "source": [
        "df_census.head()"
      ],
      "metadata": {
        "colab": {
          "base_uri": "https://localhost:8080/",
          "height": 357
        },
        "id": "lPd4scZbEY7r",
        "outputId": "523d4e98-8615-4f44-fd86-2d7031492a92"
      },
      "execution_count": 95,
      "outputs": [
        {
          "output_type": "execute_result",
          "data": {
            "text/html": [
              "\n",
              "  <div id=\"df-81114248-9cba-4dd7-a604-a0eb52f3bf5e\">\n",
              "    <div class=\"colab-df-container\">\n",
              "      <div>\n",
              "<style scoped>\n",
              "    .dataframe tbody tr th:only-of-type {\n",
              "        vertical-align: middle;\n",
              "    }\n",
              "\n",
              "    .dataframe tbody tr th {\n",
              "        vertical-align: top;\n",
              "    }\n",
              "\n",
              "    .dataframe thead th {\n",
              "        text-align: right;\n",
              "    }\n",
              "</style>\n",
              "<table border=\"1\" class=\"dataframe\">\n",
              "  <thead>\n",
              "    <tr style=\"text-align: right;\">\n",
              "      <th></th>\n",
              "      <th>CountyId</th>\n",
              "      <th>State</th>\n",
              "      <th>County</th>\n",
              "      <th>TotalPop</th>\n",
              "      <th>Men</th>\n",
              "      <th>Women</th>\n",
              "      <th>Hispanic</th>\n",
              "      <th>White</th>\n",
              "      <th>Black</th>\n",
              "      <th>Native</th>\n",
              "      <th>Asian</th>\n",
              "      <th>Pacific</th>\n",
              "      <th>VotingAgeCitizen</th>\n",
              "      <th>Income</th>\n",
              "      <th>IncomeErr</th>\n",
              "      <th>IncomePerCap</th>\n",
              "      <th>IncomePerCapErr</th>\n",
              "      <th>Poverty</th>\n",
              "      <th>ChildPoverty</th>\n",
              "      <th>Professional</th>\n",
              "      <th>Service</th>\n",
              "      <th>Office</th>\n",
              "      <th>Construction</th>\n",
              "      <th>Production</th>\n",
              "      <th>Drive</th>\n",
              "      <th>Carpool</th>\n",
              "      <th>Transit</th>\n",
              "      <th>Walk</th>\n",
              "      <th>OtherTransp</th>\n",
              "      <th>WorkAtHome</th>\n",
              "      <th>MeanCommute</th>\n",
              "      <th>Employed</th>\n",
              "      <th>PrivateWork</th>\n",
              "      <th>PublicWork</th>\n",
              "      <th>SelfEmployed</th>\n",
              "      <th>FamilyWork</th>\n",
              "      <th>Unemployment</th>\n",
              "    </tr>\n",
              "  </thead>\n",
              "  <tbody>\n",
              "    <tr>\n",
              "      <th>0</th>\n",
              "      <td>1001</td>\n",
              "      <td>Alabama</td>\n",
              "      <td>Autauga County</td>\n",
              "      <td>55036</td>\n",
              "      <td>26899</td>\n",
              "      <td>28137</td>\n",
              "      <td>2.7</td>\n",
              "      <td>75.4</td>\n",
              "      <td>18.9</td>\n",
              "      <td>0.3</td>\n",
              "      <td>0.9</td>\n",
              "      <td>0.0</td>\n",
              "      <td>41016</td>\n",
              "      <td>55317</td>\n",
              "      <td>2838</td>\n",
              "      <td>27824</td>\n",
              "      <td>2024</td>\n",
              "      <td>13.7</td>\n",
              "      <td>20.1</td>\n",
              "      <td>35.3</td>\n",
              "      <td>18.0</td>\n",
              "      <td>23.2</td>\n",
              "      <td>8.1</td>\n",
              "      <td>15.4</td>\n",
              "      <td>86.0</td>\n",
              "      <td>9.6</td>\n",
              "      <td>0.1</td>\n",
              "      <td>0.6</td>\n",
              "      <td>1.3</td>\n",
              "      <td>2.5</td>\n",
              "      <td>25.8</td>\n",
              "      <td>24112</td>\n",
              "      <td>74.1</td>\n",
              "      <td>20.2</td>\n",
              "      <td>5.6</td>\n",
              "      <td>0.1</td>\n",
              "      <td>5.2</td>\n",
              "    </tr>\n",
              "    <tr>\n",
              "      <th>1</th>\n",
              "      <td>1003</td>\n",
              "      <td>Alabama</td>\n",
              "      <td>Baldwin County</td>\n",
              "      <td>203360</td>\n",
              "      <td>99527</td>\n",
              "      <td>103833</td>\n",
              "      <td>4.4</td>\n",
              "      <td>83.1</td>\n",
              "      <td>9.5</td>\n",
              "      <td>0.8</td>\n",
              "      <td>0.7</td>\n",
              "      <td>0.0</td>\n",
              "      <td>155376</td>\n",
              "      <td>52562</td>\n",
              "      <td>1348</td>\n",
              "      <td>29364</td>\n",
              "      <td>735</td>\n",
              "      <td>11.8</td>\n",
              "      <td>16.1</td>\n",
              "      <td>35.7</td>\n",
              "      <td>18.2</td>\n",
              "      <td>25.6</td>\n",
              "      <td>9.7</td>\n",
              "      <td>10.8</td>\n",
              "      <td>84.7</td>\n",
              "      <td>7.6</td>\n",
              "      <td>0.1</td>\n",
              "      <td>0.8</td>\n",
              "      <td>1.1</td>\n",
              "      <td>5.6</td>\n",
              "      <td>27.0</td>\n",
              "      <td>89527</td>\n",
              "      <td>80.7</td>\n",
              "      <td>12.9</td>\n",
              "      <td>6.3</td>\n",
              "      <td>0.1</td>\n",
              "      <td>5.5</td>\n",
              "    </tr>\n",
              "    <tr>\n",
              "      <th>2</th>\n",
              "      <td>1005</td>\n",
              "      <td>Alabama</td>\n",
              "      <td>Barbour County</td>\n",
              "      <td>26201</td>\n",
              "      <td>13976</td>\n",
              "      <td>12225</td>\n",
              "      <td>4.2</td>\n",
              "      <td>45.7</td>\n",
              "      <td>47.8</td>\n",
              "      <td>0.2</td>\n",
              "      <td>0.6</td>\n",
              "      <td>0.0</td>\n",
              "      <td>20269</td>\n",
              "      <td>33368</td>\n",
              "      <td>2551</td>\n",
              "      <td>17561</td>\n",
              "      <td>798</td>\n",
              "      <td>27.2</td>\n",
              "      <td>44.9</td>\n",
              "      <td>25.0</td>\n",
              "      <td>16.8</td>\n",
              "      <td>22.6</td>\n",
              "      <td>11.5</td>\n",
              "      <td>24.1</td>\n",
              "      <td>83.4</td>\n",
              "      <td>11.1</td>\n",
              "      <td>0.3</td>\n",
              "      <td>2.2</td>\n",
              "      <td>1.7</td>\n",
              "      <td>1.3</td>\n",
              "      <td>23.4</td>\n",
              "      <td>8878</td>\n",
              "      <td>74.1</td>\n",
              "      <td>19.1</td>\n",
              "      <td>6.5</td>\n",
              "      <td>0.3</td>\n",
              "      <td>12.4</td>\n",
              "    </tr>\n",
              "    <tr>\n",
              "      <th>3</th>\n",
              "      <td>1007</td>\n",
              "      <td>Alabama</td>\n",
              "      <td>Bibb County</td>\n",
              "      <td>22580</td>\n",
              "      <td>12251</td>\n",
              "      <td>10329</td>\n",
              "      <td>2.4</td>\n",
              "      <td>74.6</td>\n",
              "      <td>22.0</td>\n",
              "      <td>0.4</td>\n",
              "      <td>0.0</td>\n",
              "      <td>0.0</td>\n",
              "      <td>17662</td>\n",
              "      <td>43404</td>\n",
              "      <td>3431</td>\n",
              "      <td>20911</td>\n",
              "      <td>1889</td>\n",
              "      <td>15.2</td>\n",
              "      <td>26.6</td>\n",
              "      <td>24.4</td>\n",
              "      <td>17.6</td>\n",
              "      <td>19.7</td>\n",
              "      <td>15.9</td>\n",
              "      <td>22.4</td>\n",
              "      <td>86.4</td>\n",
              "      <td>9.5</td>\n",
              "      <td>0.7</td>\n",
              "      <td>0.3</td>\n",
              "      <td>1.7</td>\n",
              "      <td>1.5</td>\n",
              "      <td>30.0</td>\n",
              "      <td>8171</td>\n",
              "      <td>76.0</td>\n",
              "      <td>17.4</td>\n",
              "      <td>6.3</td>\n",
              "      <td>0.3</td>\n",
              "      <td>8.2</td>\n",
              "    </tr>\n",
              "    <tr>\n",
              "      <th>4</th>\n",
              "      <td>1009</td>\n",
              "      <td>Alabama</td>\n",
              "      <td>Blount County</td>\n",
              "      <td>57667</td>\n",
              "      <td>28490</td>\n",
              "      <td>29177</td>\n",
              "      <td>9.0</td>\n",
              "      <td>87.4</td>\n",
              "      <td>1.5</td>\n",
              "      <td>0.3</td>\n",
              "      <td>0.1</td>\n",
              "      <td>0.0</td>\n",
              "      <td>42513</td>\n",
              "      <td>47412</td>\n",
              "      <td>2630</td>\n",
              "      <td>22021</td>\n",
              "      <td>850</td>\n",
              "      <td>15.6</td>\n",
              "      <td>25.4</td>\n",
              "      <td>28.5</td>\n",
              "      <td>12.9</td>\n",
              "      <td>23.3</td>\n",
              "      <td>15.8</td>\n",
              "      <td>19.5</td>\n",
              "      <td>86.8</td>\n",
              "      <td>10.2</td>\n",
              "      <td>0.1</td>\n",
              "      <td>0.4</td>\n",
              "      <td>0.4</td>\n",
              "      <td>2.1</td>\n",
              "      <td>35.0</td>\n",
              "      <td>21380</td>\n",
              "      <td>83.9</td>\n",
              "      <td>11.9</td>\n",
              "      <td>4.0</td>\n",
              "      <td>0.1</td>\n",
              "      <td>4.9</td>\n",
              "    </tr>\n",
              "  </tbody>\n",
              "</table>\n",
              "</div>\n",
              "      <button class=\"colab-df-convert\" onclick=\"convertToInteractive('df-81114248-9cba-4dd7-a604-a0eb52f3bf5e')\"\n",
              "              title=\"Convert this dataframe to an interactive table.\"\n",
              "              style=\"display:none;\">\n",
              "        \n",
              "  <svg xmlns=\"http://www.w3.org/2000/svg\" height=\"24px\"viewBox=\"0 0 24 24\"\n",
              "       width=\"24px\">\n",
              "    <path d=\"M0 0h24v24H0V0z\" fill=\"none\"/>\n",
              "    <path d=\"M18.56 5.44l.94 2.06.94-2.06 2.06-.94-2.06-.94-.94-2.06-.94 2.06-2.06.94zm-11 1L8.5 8.5l.94-2.06 2.06-.94-2.06-.94L8.5 2.5l-.94 2.06-2.06.94zm10 10l.94 2.06.94-2.06 2.06-.94-2.06-.94-.94-2.06-.94 2.06-2.06.94z\"/><path d=\"M17.41 7.96l-1.37-1.37c-.4-.4-.92-.59-1.43-.59-.52 0-1.04.2-1.43.59L10.3 9.45l-7.72 7.72c-.78.78-.78 2.05 0 2.83L4 21.41c.39.39.9.59 1.41.59.51 0 1.02-.2 1.41-.59l7.78-7.78 2.81-2.81c.8-.78.8-2.07 0-2.86zM5.41 20L4 18.59l7.72-7.72 1.47 1.35L5.41 20z\"/>\n",
              "  </svg>\n",
              "      </button>\n",
              "      \n",
              "  <style>\n",
              "    .colab-df-container {\n",
              "      display:flex;\n",
              "      flex-wrap:wrap;\n",
              "      gap: 12px;\n",
              "    }\n",
              "\n",
              "    .colab-df-convert {\n",
              "      background-color: #E8F0FE;\n",
              "      border: none;\n",
              "      border-radius: 50%;\n",
              "      cursor: pointer;\n",
              "      display: none;\n",
              "      fill: #1967D2;\n",
              "      height: 32px;\n",
              "      padding: 0 0 0 0;\n",
              "      width: 32px;\n",
              "    }\n",
              "\n",
              "    .colab-df-convert:hover {\n",
              "      background-color: #E2EBFA;\n",
              "      box-shadow: 0px 1px 2px rgba(60, 64, 67, 0.3), 0px 1px 3px 1px rgba(60, 64, 67, 0.15);\n",
              "      fill: #174EA6;\n",
              "    }\n",
              "\n",
              "    [theme=dark] .colab-df-convert {\n",
              "      background-color: #3B4455;\n",
              "      fill: #D2E3FC;\n",
              "    }\n",
              "\n",
              "    [theme=dark] .colab-df-convert:hover {\n",
              "      background-color: #434B5C;\n",
              "      box-shadow: 0px 1px 3px 1px rgba(0, 0, 0, 0.15);\n",
              "      filter: drop-shadow(0px 1px 2px rgba(0, 0, 0, 0.3));\n",
              "      fill: #FFFFFF;\n",
              "    }\n",
              "  </style>\n",
              "\n",
              "      <script>\n",
              "        const buttonEl =\n",
              "          document.querySelector('#df-81114248-9cba-4dd7-a604-a0eb52f3bf5e button.colab-df-convert');\n",
              "        buttonEl.style.display =\n",
              "          google.colab.kernel.accessAllowed ? 'block' : 'none';\n",
              "\n",
              "        async function convertToInteractive(key) {\n",
              "          const element = document.querySelector('#df-81114248-9cba-4dd7-a604-a0eb52f3bf5e');\n",
              "          const dataTable =\n",
              "            await google.colab.kernel.invokeFunction('convertToInteractive',\n",
              "                                                     [key], {});\n",
              "          if (!dataTable) return;\n",
              "\n",
              "          const docLinkHtml = 'Like what you see? Visit the ' +\n",
              "            '<a target=\"_blank\" href=https://colab.research.google.com/notebooks/data_table.ipynb>data table notebook</a>'\n",
              "            + ' to learn more about interactive tables.';\n",
              "          element.innerHTML = '';\n",
              "          dataTable['output_type'] = 'display_data';\n",
              "          await google.colab.output.renderOutput(dataTable, element);\n",
              "          const docLink = document.createElement('div');\n",
              "          docLink.innerHTML = docLinkHtml;\n",
              "          element.appendChild(docLink);\n",
              "        }\n",
              "      </script>\n",
              "    </div>\n",
              "  </div>\n",
              "  "
            ],
            "text/plain": [
              "   CountyId    State          County  ...  SelfEmployed  FamilyWork  Unemployment\n",
              "0      1001  Alabama  Autauga County  ...           5.6         0.1           5.2\n",
              "1      1003  Alabama  Baldwin County  ...           6.3         0.1           5.5\n",
              "2      1005  Alabama  Barbour County  ...           6.5         0.3          12.4\n",
              "3      1007  Alabama     Bibb County  ...           6.3         0.3           8.2\n",
              "4      1009  Alabama   Blount County  ...           4.0         0.1           4.9\n",
              "\n",
              "[5 rows x 37 columns]"
            ]
          },
          "metadata": {},
          "execution_count": 95
        }
      ]
    },
    {
      "cell_type": "markdown",
      "source": [
        "df_census는 이미 state와 county로 나눠져있어 피벗테이블 생성하지 않아도 된다.   \n",
        "대신 이전 데이터 프레임들과 컬럼 명을 맞춰야 해서 state와 county를 모두 소문자로 바꿔준다.  "
      ],
      "metadata": {
        "id": "6F6JxI0VEvJ-"
      }
    },
    {
      "cell_type": "code",
      "source": [
        "df_census.rename({'State':'state', 'County':'county'}, axis = 1, inplace = True)\n",
        "df_census.drop('CountyId', axis = 1, inplace = True)\n",
        "df_census.set_index(['state', 'county'], inplace = True)\n",
        "df_census.head()"
      ],
      "metadata": {
        "colab": {
          "base_uri": "https://localhost:8080/",
          "height": 388
        },
        "id": "p0YQmiNKEVp7",
        "outputId": "a3961aad-6cf9-4847-ef27-0c3927fae2ee"
      },
      "execution_count": 96,
      "outputs": [
        {
          "output_type": "execute_result",
          "data": {
            "text/html": [
              "\n",
              "  <div id=\"df-a320e37d-8c1b-4c10-bf04-169b3953e178\">\n",
              "    <div class=\"colab-df-container\">\n",
              "      <div>\n",
              "<style scoped>\n",
              "    .dataframe tbody tr th:only-of-type {\n",
              "        vertical-align: middle;\n",
              "    }\n",
              "\n",
              "    .dataframe tbody tr th {\n",
              "        vertical-align: top;\n",
              "    }\n",
              "\n",
              "    .dataframe thead th {\n",
              "        text-align: right;\n",
              "    }\n",
              "</style>\n",
              "<table border=\"1\" class=\"dataframe\">\n",
              "  <thead>\n",
              "    <tr style=\"text-align: right;\">\n",
              "      <th></th>\n",
              "      <th></th>\n",
              "      <th>TotalPop</th>\n",
              "      <th>Men</th>\n",
              "      <th>Women</th>\n",
              "      <th>Hispanic</th>\n",
              "      <th>White</th>\n",
              "      <th>Black</th>\n",
              "      <th>Native</th>\n",
              "      <th>Asian</th>\n",
              "      <th>Pacific</th>\n",
              "      <th>VotingAgeCitizen</th>\n",
              "      <th>Income</th>\n",
              "      <th>IncomeErr</th>\n",
              "      <th>IncomePerCap</th>\n",
              "      <th>IncomePerCapErr</th>\n",
              "      <th>Poverty</th>\n",
              "      <th>ChildPoverty</th>\n",
              "      <th>Professional</th>\n",
              "      <th>Service</th>\n",
              "      <th>Office</th>\n",
              "      <th>Construction</th>\n",
              "      <th>Production</th>\n",
              "      <th>Drive</th>\n",
              "      <th>Carpool</th>\n",
              "      <th>Transit</th>\n",
              "      <th>Walk</th>\n",
              "      <th>OtherTransp</th>\n",
              "      <th>WorkAtHome</th>\n",
              "      <th>MeanCommute</th>\n",
              "      <th>Employed</th>\n",
              "      <th>PrivateWork</th>\n",
              "      <th>PublicWork</th>\n",
              "      <th>SelfEmployed</th>\n",
              "      <th>FamilyWork</th>\n",
              "      <th>Unemployment</th>\n",
              "    </tr>\n",
              "    <tr>\n",
              "      <th>state</th>\n",
              "      <th>county</th>\n",
              "      <th></th>\n",
              "      <th></th>\n",
              "      <th></th>\n",
              "      <th></th>\n",
              "      <th></th>\n",
              "      <th></th>\n",
              "      <th></th>\n",
              "      <th></th>\n",
              "      <th></th>\n",
              "      <th></th>\n",
              "      <th></th>\n",
              "      <th></th>\n",
              "      <th></th>\n",
              "      <th></th>\n",
              "      <th></th>\n",
              "      <th></th>\n",
              "      <th></th>\n",
              "      <th></th>\n",
              "      <th></th>\n",
              "      <th></th>\n",
              "      <th></th>\n",
              "      <th></th>\n",
              "      <th></th>\n",
              "      <th></th>\n",
              "      <th></th>\n",
              "      <th></th>\n",
              "      <th></th>\n",
              "      <th></th>\n",
              "      <th></th>\n",
              "      <th></th>\n",
              "      <th></th>\n",
              "      <th></th>\n",
              "      <th></th>\n",
              "      <th></th>\n",
              "    </tr>\n",
              "  </thead>\n",
              "  <tbody>\n",
              "    <tr>\n",
              "      <th rowspan=\"5\" valign=\"top\">Alabama</th>\n",
              "      <th>Autauga County</th>\n",
              "      <td>55036</td>\n",
              "      <td>26899</td>\n",
              "      <td>28137</td>\n",
              "      <td>2.7</td>\n",
              "      <td>75.4</td>\n",
              "      <td>18.9</td>\n",
              "      <td>0.3</td>\n",
              "      <td>0.9</td>\n",
              "      <td>0.0</td>\n",
              "      <td>41016</td>\n",
              "      <td>55317</td>\n",
              "      <td>2838</td>\n",
              "      <td>27824</td>\n",
              "      <td>2024</td>\n",
              "      <td>13.7</td>\n",
              "      <td>20.1</td>\n",
              "      <td>35.3</td>\n",
              "      <td>18.0</td>\n",
              "      <td>23.2</td>\n",
              "      <td>8.1</td>\n",
              "      <td>15.4</td>\n",
              "      <td>86.0</td>\n",
              "      <td>9.6</td>\n",
              "      <td>0.1</td>\n",
              "      <td>0.6</td>\n",
              "      <td>1.3</td>\n",
              "      <td>2.5</td>\n",
              "      <td>25.8</td>\n",
              "      <td>24112</td>\n",
              "      <td>74.1</td>\n",
              "      <td>20.2</td>\n",
              "      <td>5.6</td>\n",
              "      <td>0.1</td>\n",
              "      <td>5.2</td>\n",
              "    </tr>\n",
              "    <tr>\n",
              "      <th>Baldwin County</th>\n",
              "      <td>203360</td>\n",
              "      <td>99527</td>\n",
              "      <td>103833</td>\n",
              "      <td>4.4</td>\n",
              "      <td>83.1</td>\n",
              "      <td>9.5</td>\n",
              "      <td>0.8</td>\n",
              "      <td>0.7</td>\n",
              "      <td>0.0</td>\n",
              "      <td>155376</td>\n",
              "      <td>52562</td>\n",
              "      <td>1348</td>\n",
              "      <td>29364</td>\n",
              "      <td>735</td>\n",
              "      <td>11.8</td>\n",
              "      <td>16.1</td>\n",
              "      <td>35.7</td>\n",
              "      <td>18.2</td>\n",
              "      <td>25.6</td>\n",
              "      <td>9.7</td>\n",
              "      <td>10.8</td>\n",
              "      <td>84.7</td>\n",
              "      <td>7.6</td>\n",
              "      <td>0.1</td>\n",
              "      <td>0.8</td>\n",
              "      <td>1.1</td>\n",
              "      <td>5.6</td>\n",
              "      <td>27.0</td>\n",
              "      <td>89527</td>\n",
              "      <td>80.7</td>\n",
              "      <td>12.9</td>\n",
              "      <td>6.3</td>\n",
              "      <td>0.1</td>\n",
              "      <td>5.5</td>\n",
              "    </tr>\n",
              "    <tr>\n",
              "      <th>Barbour County</th>\n",
              "      <td>26201</td>\n",
              "      <td>13976</td>\n",
              "      <td>12225</td>\n",
              "      <td>4.2</td>\n",
              "      <td>45.7</td>\n",
              "      <td>47.8</td>\n",
              "      <td>0.2</td>\n",
              "      <td>0.6</td>\n",
              "      <td>0.0</td>\n",
              "      <td>20269</td>\n",
              "      <td>33368</td>\n",
              "      <td>2551</td>\n",
              "      <td>17561</td>\n",
              "      <td>798</td>\n",
              "      <td>27.2</td>\n",
              "      <td>44.9</td>\n",
              "      <td>25.0</td>\n",
              "      <td>16.8</td>\n",
              "      <td>22.6</td>\n",
              "      <td>11.5</td>\n",
              "      <td>24.1</td>\n",
              "      <td>83.4</td>\n",
              "      <td>11.1</td>\n",
              "      <td>0.3</td>\n",
              "      <td>2.2</td>\n",
              "      <td>1.7</td>\n",
              "      <td>1.3</td>\n",
              "      <td>23.4</td>\n",
              "      <td>8878</td>\n",
              "      <td>74.1</td>\n",
              "      <td>19.1</td>\n",
              "      <td>6.5</td>\n",
              "      <td>0.3</td>\n",
              "      <td>12.4</td>\n",
              "    </tr>\n",
              "    <tr>\n",
              "      <th>Bibb County</th>\n",
              "      <td>22580</td>\n",
              "      <td>12251</td>\n",
              "      <td>10329</td>\n",
              "      <td>2.4</td>\n",
              "      <td>74.6</td>\n",
              "      <td>22.0</td>\n",
              "      <td>0.4</td>\n",
              "      <td>0.0</td>\n",
              "      <td>0.0</td>\n",
              "      <td>17662</td>\n",
              "      <td>43404</td>\n",
              "      <td>3431</td>\n",
              "      <td>20911</td>\n",
              "      <td>1889</td>\n",
              "      <td>15.2</td>\n",
              "      <td>26.6</td>\n",
              "      <td>24.4</td>\n",
              "      <td>17.6</td>\n",
              "      <td>19.7</td>\n",
              "      <td>15.9</td>\n",
              "      <td>22.4</td>\n",
              "      <td>86.4</td>\n",
              "      <td>9.5</td>\n",
              "      <td>0.7</td>\n",
              "      <td>0.3</td>\n",
              "      <td>1.7</td>\n",
              "      <td>1.5</td>\n",
              "      <td>30.0</td>\n",
              "      <td>8171</td>\n",
              "      <td>76.0</td>\n",
              "      <td>17.4</td>\n",
              "      <td>6.3</td>\n",
              "      <td>0.3</td>\n",
              "      <td>8.2</td>\n",
              "    </tr>\n",
              "    <tr>\n",
              "      <th>Blount County</th>\n",
              "      <td>57667</td>\n",
              "      <td>28490</td>\n",
              "      <td>29177</td>\n",
              "      <td>9.0</td>\n",
              "      <td>87.4</td>\n",
              "      <td>1.5</td>\n",
              "      <td>0.3</td>\n",
              "      <td>0.1</td>\n",
              "      <td>0.0</td>\n",
              "      <td>42513</td>\n",
              "      <td>47412</td>\n",
              "      <td>2630</td>\n",
              "      <td>22021</td>\n",
              "      <td>850</td>\n",
              "      <td>15.6</td>\n",
              "      <td>25.4</td>\n",
              "      <td>28.5</td>\n",
              "      <td>12.9</td>\n",
              "      <td>23.3</td>\n",
              "      <td>15.8</td>\n",
              "      <td>19.5</td>\n",
              "      <td>86.8</td>\n",
              "      <td>10.2</td>\n",
              "      <td>0.1</td>\n",
              "      <td>0.4</td>\n",
              "      <td>0.4</td>\n",
              "      <td>2.1</td>\n",
              "      <td>35.0</td>\n",
              "      <td>21380</td>\n",
              "      <td>83.9</td>\n",
              "      <td>11.9</td>\n",
              "      <td>4.0</td>\n",
              "      <td>0.1</td>\n",
              "      <td>4.9</td>\n",
              "    </tr>\n",
              "  </tbody>\n",
              "</table>\n",
              "</div>\n",
              "      <button class=\"colab-df-convert\" onclick=\"convertToInteractive('df-a320e37d-8c1b-4c10-bf04-169b3953e178')\"\n",
              "              title=\"Convert this dataframe to an interactive table.\"\n",
              "              style=\"display:none;\">\n",
              "        \n",
              "  <svg xmlns=\"http://www.w3.org/2000/svg\" height=\"24px\"viewBox=\"0 0 24 24\"\n",
              "       width=\"24px\">\n",
              "    <path d=\"M0 0h24v24H0V0z\" fill=\"none\"/>\n",
              "    <path d=\"M18.56 5.44l.94 2.06.94-2.06 2.06-.94-2.06-.94-.94-2.06-.94 2.06-2.06.94zm-11 1L8.5 8.5l.94-2.06 2.06-.94-2.06-.94L8.5 2.5l-.94 2.06-2.06.94zm10 10l.94 2.06.94-2.06 2.06-.94-2.06-.94-.94-2.06-.94 2.06-2.06.94z\"/><path d=\"M17.41 7.96l-1.37-1.37c-.4-.4-.92-.59-1.43-.59-.52 0-1.04.2-1.43.59L10.3 9.45l-7.72 7.72c-.78.78-.78 2.05 0 2.83L4 21.41c.39.39.9.59 1.41.59.51 0 1.02-.2 1.41-.59l7.78-7.78 2.81-2.81c.8-.78.8-2.07 0-2.86zM5.41 20L4 18.59l7.72-7.72 1.47 1.35L5.41 20z\"/>\n",
              "  </svg>\n",
              "      </button>\n",
              "      \n",
              "  <style>\n",
              "    .colab-df-container {\n",
              "      display:flex;\n",
              "      flex-wrap:wrap;\n",
              "      gap: 12px;\n",
              "    }\n",
              "\n",
              "    .colab-df-convert {\n",
              "      background-color: #E8F0FE;\n",
              "      border: none;\n",
              "      border-radius: 50%;\n",
              "      cursor: pointer;\n",
              "      display: none;\n",
              "      fill: #1967D2;\n",
              "      height: 32px;\n",
              "      padding: 0 0 0 0;\n",
              "      width: 32px;\n",
              "    }\n",
              "\n",
              "    .colab-df-convert:hover {\n",
              "      background-color: #E2EBFA;\n",
              "      box-shadow: 0px 1px 2px rgba(60, 64, 67, 0.3), 0px 1px 3px 1px rgba(60, 64, 67, 0.15);\n",
              "      fill: #174EA6;\n",
              "    }\n",
              "\n",
              "    [theme=dark] .colab-df-convert {\n",
              "      background-color: #3B4455;\n",
              "      fill: #D2E3FC;\n",
              "    }\n",
              "\n",
              "    [theme=dark] .colab-df-convert:hover {\n",
              "      background-color: #434B5C;\n",
              "      box-shadow: 0px 1px 3px 1px rgba(0, 0, 0, 0.15);\n",
              "      filter: drop-shadow(0px 1px 2px rgba(0, 0, 0, 0.3));\n",
              "      fill: #FFFFFF;\n",
              "    }\n",
              "  </style>\n",
              "\n",
              "      <script>\n",
              "        const buttonEl =\n",
              "          document.querySelector('#df-a320e37d-8c1b-4c10-bf04-169b3953e178 button.colab-df-convert');\n",
              "        buttonEl.style.display =\n",
              "          google.colab.kernel.accessAllowed ? 'block' : 'none';\n",
              "\n",
              "        async function convertToInteractive(key) {\n",
              "          const element = document.querySelector('#df-a320e37d-8c1b-4c10-bf04-169b3953e178');\n",
              "          const dataTable =\n",
              "            await google.colab.kernel.invokeFunction('convertToInteractive',\n",
              "                                                     [key], {});\n",
              "          if (!dataTable) return;\n",
              "\n",
              "          const docLinkHtml = 'Like what you see? Visit the ' +\n",
              "            '<a target=\"_blank\" href=https://colab.research.google.com/notebooks/data_table.ipynb>data table notebook</a>'\n",
              "            + ' to learn more about interactive tables.';\n",
              "          element.innerHTML = '';\n",
              "          dataTable['output_type'] = 'display_data';\n",
              "          await google.colab.output.renderOutput(dataTable, element);\n",
              "          const docLink = document.createElement('div');\n",
              "          docLink.innerHTML = docLinkHtml;\n",
              "          element.appendChild(docLink);\n",
              "        }\n",
              "      </script>\n",
              "    </div>\n",
              "  </div>\n",
              "  "
            ],
            "text/plain": [
              "                        TotalPop    Men  ...  FamilyWork  Unemployment\n",
              "state   county                           ...                          \n",
              "Alabama Autauga County     55036  26899  ...         0.1           5.2\n",
              "        Baldwin County    203360  99527  ...         0.1           5.5\n",
              "        Barbour County     26201  13976  ...         0.3          12.4\n",
              "        Bibb County        22580  12251  ...         0.3           8.2\n",
              "        Blount County      57667  28490  ...         0.1           4.9\n",
              "\n",
              "[5 rows x 34 columns]"
            ]
          },
          "metadata": {},
          "execution_count": 96
        }
      ]
    },
    {
      "cell_type": "code",
      "source": [
        "# 불필요한 컬럼 드랍\n",
        "df_census.columns"
      ],
      "metadata": {
        "colab": {
          "base_uri": "https://localhost:8080/"
        },
        "id": "eF_jAOJCNMn8",
        "outputId": "23cccb15-0400-4d28-9c02-8bdafaf95bcc"
      },
      "execution_count": 97,
      "outputs": [
        {
          "output_type": "execute_result",
          "data": {
            "text/plain": [
              "Index(['TotalPop', 'Men', 'Women', 'Hispanic', 'White', 'Black', 'Native',\n",
              "       'Asian', 'Pacific', 'VotingAgeCitizen', 'Income', 'IncomeErr',\n",
              "       'IncomePerCap', 'IncomePerCapErr', 'Poverty', 'ChildPoverty',\n",
              "       'Professional', 'Service', 'Office', 'Construction', 'Production',\n",
              "       'Drive', 'Carpool', 'Transit', 'Walk', 'OtherTransp', 'WorkAtHome',\n",
              "       'MeanCommute', 'Employed', 'PrivateWork', 'PublicWork', 'SelfEmployed',\n",
              "       'FamilyWork', 'Unemployment'],\n",
              "      dtype='object')"
            ]
          },
          "metadata": {},
          "execution_count": 97
        }
      ]
    },
    {
      "cell_type": "code",
      "source": [
        "df_census.drop(['Income','IncomePerCapErr', 'IncomeErr'], axis = 1, inplace = True)"
      ],
      "metadata": {
        "id": "B668UohvNRk2"
      },
      "execution_count": 98,
      "outputs": []
    },
    {
      "cell_type": "markdown",
      "source": [
        "men, women은 total pop으로 나눠야 함   \n",
        "사람 수가 많으면 men, women이 많으므로 멀티 코~ 생길 수 있음   \n",
        "성비 형태로 바꾸는 것이 나음   \n",
        "voting age citizen과 employed도 해당"
      ],
      "metadata": {
        "id": "SaU5bB1zNnII"
      }
    },
    {
      "cell_type": "code",
      "source": [
        "df_census.drop('Women', axis = 1, inplace = True)"
      ],
      "metadata": {
        "id": "kbM5V8BhP7Py"
      },
      "execution_count": 99,
      "outputs": []
    },
    {
      "cell_type": "markdown",
      "source": [
        "/= 는 복합연산자\n",
        "\n",
        "![image.png](data:image/png;base64,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)"
      ],
      "metadata": {
        "id": "KiOZN-HhmJlI"
      }
    },
    {
      "cell_type": "code",
      "source": [
        "test = [{'a' : 1, 'b' : 2}, {'a' : 2, 'b' : 2}]\n",
        "df_test = pd.DataFrame (data = test)\n",
        "df_test"
      ],
      "metadata": {
        "colab": {
          "base_uri": "https://localhost:8080/",
          "height": 112
        },
        "id": "dVn7iCuNoGGy",
        "outputId": "d52f2dd7-49a5-4a0a-9c14-8bbc883bef9a"
      },
      "execution_count": 100,
      "outputs": [
        {
          "output_type": "execute_result",
          "data": {
            "text/html": [
              "\n",
              "  <div id=\"df-a95b9417-7e30-48cf-a023-9c42caafd26d\">\n",
              "    <div class=\"colab-df-container\">\n",
              "      <div>\n",
              "<style scoped>\n",
              "    .dataframe tbody tr th:only-of-type {\n",
              "        vertical-align: middle;\n",
              "    }\n",
              "\n",
              "    .dataframe tbody tr th {\n",
              "        vertical-align: top;\n",
              "    }\n",
              "\n",
              "    .dataframe thead th {\n",
              "        text-align: right;\n",
              "    }\n",
              "</style>\n",
              "<table border=\"1\" class=\"dataframe\">\n",
              "  <thead>\n",
              "    <tr style=\"text-align: right;\">\n",
              "      <th></th>\n",
              "      <th>a</th>\n",
              "      <th>b</th>\n",
              "    </tr>\n",
              "  </thead>\n",
              "  <tbody>\n",
              "    <tr>\n",
              "      <th>0</th>\n",
              "      <td>1</td>\n",
              "      <td>2</td>\n",
              "    </tr>\n",
              "    <tr>\n",
              "      <th>1</th>\n",
              "      <td>2</td>\n",
              "      <td>2</td>\n",
              "    </tr>\n",
              "  </tbody>\n",
              "</table>\n",
              "</div>\n",
              "      <button class=\"colab-df-convert\" onclick=\"convertToInteractive('df-a95b9417-7e30-48cf-a023-9c42caafd26d')\"\n",
              "              title=\"Convert this dataframe to an interactive table.\"\n",
              "              style=\"display:none;\">\n",
              "        \n",
              "  <svg xmlns=\"http://www.w3.org/2000/svg\" height=\"24px\"viewBox=\"0 0 24 24\"\n",
              "       width=\"24px\">\n",
              "    <path d=\"M0 0h24v24H0V0z\" fill=\"none\"/>\n",
              "    <path d=\"M18.56 5.44l.94 2.06.94-2.06 2.06-.94-2.06-.94-.94-2.06-.94 2.06-2.06.94zm-11 1L8.5 8.5l.94-2.06 2.06-.94-2.06-.94L8.5 2.5l-.94 2.06-2.06.94zm10 10l.94 2.06.94-2.06 2.06-.94-2.06-.94-.94-2.06-.94 2.06-2.06.94z\"/><path d=\"M17.41 7.96l-1.37-1.37c-.4-.4-.92-.59-1.43-.59-.52 0-1.04.2-1.43.59L10.3 9.45l-7.72 7.72c-.78.78-.78 2.05 0 2.83L4 21.41c.39.39.9.59 1.41.59.51 0 1.02-.2 1.41-.59l7.78-7.78 2.81-2.81c.8-.78.8-2.07 0-2.86zM5.41 20L4 18.59l7.72-7.72 1.47 1.35L5.41 20z\"/>\n",
              "  </svg>\n",
              "      </button>\n",
              "      \n",
              "  <style>\n",
              "    .colab-df-container {\n",
              "      display:flex;\n",
              "      flex-wrap:wrap;\n",
              "      gap: 12px;\n",
              "    }\n",
              "\n",
              "    .colab-df-convert {\n",
              "      background-color: #E8F0FE;\n",
              "      border: none;\n",
              "      border-radius: 50%;\n",
              "      cursor: pointer;\n",
              "      display: none;\n",
              "      fill: #1967D2;\n",
              "      height: 32px;\n",
              "      padding: 0 0 0 0;\n",
              "      width: 32px;\n",
              "    }\n",
              "\n",
              "    .colab-df-convert:hover {\n",
              "      background-color: #E2EBFA;\n",
              "      box-shadow: 0px 1px 2px rgba(60, 64, 67, 0.3), 0px 1px 3px 1px rgba(60, 64, 67, 0.15);\n",
              "      fill: #174EA6;\n",
              "    }\n",
              "\n",
              "    [theme=dark] .colab-df-convert {\n",
              "      background-color: #3B4455;\n",
              "      fill: #D2E3FC;\n",
              "    }\n",
              "\n",
              "    [theme=dark] .colab-df-convert:hover {\n",
              "      background-color: #434B5C;\n",
              "      box-shadow: 0px 1px 3px 1px rgba(0, 0, 0, 0.15);\n",
              "      filter: drop-shadow(0px 1px 2px rgba(0, 0, 0, 0.3));\n",
              "      fill: #FFFFFF;\n",
              "    }\n",
              "  </style>\n",
              "\n",
              "      <script>\n",
              "        const buttonEl =\n",
              "          document.querySelector('#df-a95b9417-7e30-48cf-a023-9c42caafd26d button.colab-df-convert');\n",
              "        buttonEl.style.display =\n",
              "          google.colab.kernel.accessAllowed ? 'block' : 'none';\n",
              "\n",
              "        async function convertToInteractive(key) {\n",
              "          const element = document.querySelector('#df-a95b9417-7e30-48cf-a023-9c42caafd26d');\n",
              "          const dataTable =\n",
              "            await google.colab.kernel.invokeFunction('convertToInteractive',\n",
              "                                                     [key], {});\n",
              "          if (!dataTable) return;\n",
              "\n",
              "          const docLinkHtml = 'Like what you see? Visit the ' +\n",
              "            '<a target=\"_blank\" href=https://colab.research.google.com/notebooks/data_table.ipynb>data table notebook</a>'\n",
              "            + ' to learn more about interactive tables.';\n",
              "          element.innerHTML = '';\n",
              "          dataTable['output_type'] = 'display_data';\n",
              "          await google.colab.output.renderOutput(dataTable, element);\n",
              "          const docLink = document.createElement('div');\n",
              "          docLink.innerHTML = docLinkHtml;\n",
              "          element.appendChild(docLink);\n",
              "        }\n",
              "      </script>\n",
              "    </div>\n",
              "  </div>\n",
              "  "
            ],
            "text/plain": [
              "   a  b\n",
              "0  1  2\n",
              "1  2  2"
            ]
          },
          "metadata": {},
          "execution_count": 100
        }
      ]
    },
    {
      "cell_type": "code",
      "source": [
        "test1 = df_test['a'] / df_test['b']\n",
        "test1"
      ],
      "metadata": {
        "colab": {
          "base_uri": "https://localhost:8080/"
        },
        "id": "1REqPsUBotYx",
        "outputId": "66f02d65-8e62-4f30-b9de-f5d10a2c00aa"
      },
      "execution_count": 101,
      "outputs": [
        {
          "output_type": "execute_result",
          "data": {
            "text/plain": [
              "0    0.5\n",
              "1    1.0\n",
              "dtype: float64"
            ]
          },
          "metadata": {},
          "execution_count": 101
        }
      ]
    },
    {
      "cell_type": "code",
      "source": [
        "df_census['Men'] /= df_census['TotalPop']"
      ],
      "metadata": {
        "id": "PiNZgRU8QDm0"
      },
      "execution_count": 102,
      "outputs": []
    },
    {
      "cell_type": "code",
      "source": [
        "df_census['VotingAgeCitizen'] /= df_census['TotalPop']"
      ],
      "metadata": {
        "id": "MnliC6v0mJD1"
      },
      "execution_count": 103,
      "outputs": []
    },
    {
      "cell_type": "code",
      "source": [
        "df_census['Employed'] /= df_census['TotalPop']"
      ],
      "metadata": {
        "id": "clWuUd70mQ_h"
      },
      "execution_count": 104,
      "outputs": []
    },
    {
      "cell_type": "code",
      "source": [
        "# Men, VotingAgeCitizen, Employed 확인\n",
        "df_census.head()"
      ],
      "metadata": {
        "colab": {
          "base_uri": "https://localhost:8080/",
          "height": 388
        },
        "id": "0aUdY5DKmeOV",
        "outputId": "122e2c26-9106-4d2a-8e63-b46fbf958f12"
      },
      "execution_count": 105,
      "outputs": [
        {
          "output_type": "execute_result",
          "data": {
            "text/html": [
              "\n",
              "  <div id=\"df-09e45c51-7d2f-44f4-ab58-c9333a63a039\">\n",
              "    <div class=\"colab-df-container\">\n",
              "      <div>\n",
              "<style scoped>\n",
              "    .dataframe tbody tr th:only-of-type {\n",
              "        vertical-align: middle;\n",
              "    }\n",
              "\n",
              "    .dataframe tbody tr th {\n",
              "        vertical-align: top;\n",
              "    }\n",
              "\n",
              "    .dataframe thead th {\n",
              "        text-align: right;\n",
              "    }\n",
              "</style>\n",
              "<table border=\"1\" class=\"dataframe\">\n",
              "  <thead>\n",
              "    <tr style=\"text-align: right;\">\n",
              "      <th></th>\n",
              "      <th></th>\n",
              "      <th>TotalPop</th>\n",
              "      <th>Men</th>\n",
              "      <th>Hispanic</th>\n",
              "      <th>White</th>\n",
              "      <th>Black</th>\n",
              "      <th>Native</th>\n",
              "      <th>Asian</th>\n",
              "      <th>Pacific</th>\n",
              "      <th>VotingAgeCitizen</th>\n",
              "      <th>IncomePerCap</th>\n",
              "      <th>Poverty</th>\n",
              "      <th>ChildPoverty</th>\n",
              "      <th>Professional</th>\n",
              "      <th>Service</th>\n",
              "      <th>Office</th>\n",
              "      <th>Construction</th>\n",
              "      <th>Production</th>\n",
              "      <th>Drive</th>\n",
              "      <th>Carpool</th>\n",
              "      <th>Transit</th>\n",
              "      <th>Walk</th>\n",
              "      <th>OtherTransp</th>\n",
              "      <th>WorkAtHome</th>\n",
              "      <th>MeanCommute</th>\n",
              "      <th>Employed</th>\n",
              "      <th>PrivateWork</th>\n",
              "      <th>PublicWork</th>\n",
              "      <th>SelfEmployed</th>\n",
              "      <th>FamilyWork</th>\n",
              "      <th>Unemployment</th>\n",
              "    </tr>\n",
              "    <tr>\n",
              "      <th>state</th>\n",
              "      <th>county</th>\n",
              "      <th></th>\n",
              "      <th></th>\n",
              "      <th></th>\n",
              "      <th></th>\n",
              "      <th></th>\n",
              "      <th></th>\n",
              "      <th></th>\n",
              "      <th></th>\n",
              "      <th></th>\n",
              "      <th></th>\n",
              "      <th></th>\n",
              "      <th></th>\n",
              "      <th></th>\n",
              "      <th></th>\n",
              "      <th></th>\n",
              "      <th></th>\n",
              "      <th></th>\n",
              "      <th></th>\n",
              "      <th></th>\n",
              "      <th></th>\n",
              "      <th></th>\n",
              "      <th></th>\n",
              "      <th></th>\n",
              "      <th></th>\n",
              "      <th></th>\n",
              "      <th></th>\n",
              "      <th></th>\n",
              "      <th></th>\n",
              "      <th></th>\n",
              "      <th></th>\n",
              "    </tr>\n",
              "  </thead>\n",
              "  <tbody>\n",
              "    <tr>\n",
              "      <th rowspan=\"5\" valign=\"top\">Alabama</th>\n",
              "      <th>Autauga County</th>\n",
              "      <td>55036</td>\n",
              "      <td>0.488753</td>\n",
              "      <td>2.7</td>\n",
              "      <td>75.4</td>\n",
              "      <td>18.9</td>\n",
              "      <td>0.3</td>\n",
              "      <td>0.9</td>\n",
              "      <td>0.0</td>\n",
              "      <td>0.745258</td>\n",
              "      <td>27824</td>\n",
              "      <td>13.7</td>\n",
              "      <td>20.1</td>\n",
              "      <td>35.3</td>\n",
              "      <td>18.0</td>\n",
              "      <td>23.2</td>\n",
              "      <td>8.1</td>\n",
              "      <td>15.4</td>\n",
              "      <td>86.0</td>\n",
              "      <td>9.6</td>\n",
              "      <td>0.1</td>\n",
              "      <td>0.6</td>\n",
              "      <td>1.3</td>\n",
              "      <td>2.5</td>\n",
              "      <td>25.8</td>\n",
              "      <td>0.438113</td>\n",
              "      <td>74.1</td>\n",
              "      <td>20.2</td>\n",
              "      <td>5.6</td>\n",
              "      <td>0.1</td>\n",
              "      <td>5.2</td>\n",
              "    </tr>\n",
              "    <tr>\n",
              "      <th>Baldwin County</th>\n",
              "      <td>203360</td>\n",
              "      <td>0.489413</td>\n",
              "      <td>4.4</td>\n",
              "      <td>83.1</td>\n",
              "      <td>9.5</td>\n",
              "      <td>0.8</td>\n",
              "      <td>0.7</td>\n",
              "      <td>0.0</td>\n",
              "      <td>0.764044</td>\n",
              "      <td>29364</td>\n",
              "      <td>11.8</td>\n",
              "      <td>16.1</td>\n",
              "      <td>35.7</td>\n",
              "      <td>18.2</td>\n",
              "      <td>25.6</td>\n",
              "      <td>9.7</td>\n",
              "      <td>10.8</td>\n",
              "      <td>84.7</td>\n",
              "      <td>7.6</td>\n",
              "      <td>0.1</td>\n",
              "      <td>0.8</td>\n",
              "      <td>1.1</td>\n",
              "      <td>5.6</td>\n",
              "      <td>27.0</td>\n",
              "      <td>0.440239</td>\n",
              "      <td>80.7</td>\n",
              "      <td>12.9</td>\n",
              "      <td>6.3</td>\n",
              "      <td>0.1</td>\n",
              "      <td>5.5</td>\n",
              "    </tr>\n",
              "    <tr>\n",
              "      <th>Barbour County</th>\n",
              "      <td>26201</td>\n",
              "      <td>0.533415</td>\n",
              "      <td>4.2</td>\n",
              "      <td>45.7</td>\n",
              "      <td>47.8</td>\n",
              "      <td>0.2</td>\n",
              "      <td>0.6</td>\n",
              "      <td>0.0</td>\n",
              "      <td>0.773596</td>\n",
              "      <td>17561</td>\n",
              "      <td>27.2</td>\n",
              "      <td>44.9</td>\n",
              "      <td>25.0</td>\n",
              "      <td>16.8</td>\n",
              "      <td>22.6</td>\n",
              "      <td>11.5</td>\n",
              "      <td>24.1</td>\n",
              "      <td>83.4</td>\n",
              "      <td>11.1</td>\n",
              "      <td>0.3</td>\n",
              "      <td>2.2</td>\n",
              "      <td>1.7</td>\n",
              "      <td>1.3</td>\n",
              "      <td>23.4</td>\n",
              "      <td>0.338842</td>\n",
              "      <td>74.1</td>\n",
              "      <td>19.1</td>\n",
              "      <td>6.5</td>\n",
              "      <td>0.3</td>\n",
              "      <td>12.4</td>\n",
              "    </tr>\n",
              "    <tr>\n",
              "      <th>Bibb County</th>\n",
              "      <td>22580</td>\n",
              "      <td>0.542560</td>\n",
              "      <td>2.4</td>\n",
              "      <td>74.6</td>\n",
              "      <td>22.0</td>\n",
              "      <td>0.4</td>\n",
              "      <td>0.0</td>\n",
              "      <td>0.0</td>\n",
              "      <td>0.782197</td>\n",
              "      <td>20911</td>\n",
              "      <td>15.2</td>\n",
              "      <td>26.6</td>\n",
              "      <td>24.4</td>\n",
              "      <td>17.6</td>\n",
              "      <td>19.7</td>\n",
              "      <td>15.9</td>\n",
              "      <td>22.4</td>\n",
              "      <td>86.4</td>\n",
              "      <td>9.5</td>\n",
              "      <td>0.7</td>\n",
              "      <td>0.3</td>\n",
              "      <td>1.7</td>\n",
              "      <td>1.5</td>\n",
              "      <td>30.0</td>\n",
              "      <td>0.361869</td>\n",
              "      <td>76.0</td>\n",
              "      <td>17.4</td>\n",
              "      <td>6.3</td>\n",
              "      <td>0.3</td>\n",
              "      <td>8.2</td>\n",
              "    </tr>\n",
              "    <tr>\n",
              "      <th>Blount County</th>\n",
              "      <td>57667</td>\n",
              "      <td>0.494043</td>\n",
              "      <td>9.0</td>\n",
              "      <td>87.4</td>\n",
              "      <td>1.5</td>\n",
              "      <td>0.3</td>\n",
              "      <td>0.1</td>\n",
              "      <td>0.0</td>\n",
              "      <td>0.737215</td>\n",
              "      <td>22021</td>\n",
              "      <td>15.6</td>\n",
              "      <td>25.4</td>\n",
              "      <td>28.5</td>\n",
              "      <td>12.9</td>\n",
              "      <td>23.3</td>\n",
              "      <td>15.8</td>\n",
              "      <td>19.5</td>\n",
              "      <td>86.8</td>\n",
              "      <td>10.2</td>\n",
              "      <td>0.1</td>\n",
              "      <td>0.4</td>\n",
              "      <td>0.4</td>\n",
              "      <td>2.1</td>\n",
              "      <td>35.0</td>\n",
              "      <td>0.370749</td>\n",
              "      <td>83.9</td>\n",
              "      <td>11.9</td>\n",
              "      <td>4.0</td>\n",
              "      <td>0.1</td>\n",
              "      <td>4.9</td>\n",
              "    </tr>\n",
              "  </tbody>\n",
              "</table>\n",
              "</div>\n",
              "      <button class=\"colab-df-convert\" onclick=\"convertToInteractive('df-09e45c51-7d2f-44f4-ab58-c9333a63a039')\"\n",
              "              title=\"Convert this dataframe to an interactive table.\"\n",
              "              style=\"display:none;\">\n",
              "        \n",
              "  <svg xmlns=\"http://www.w3.org/2000/svg\" height=\"24px\"viewBox=\"0 0 24 24\"\n",
              "       width=\"24px\">\n",
              "    <path d=\"M0 0h24v24H0V0z\" fill=\"none\"/>\n",
              "    <path d=\"M18.56 5.44l.94 2.06.94-2.06 2.06-.94-2.06-.94-.94-2.06-.94 2.06-2.06.94zm-11 1L8.5 8.5l.94-2.06 2.06-.94-2.06-.94L8.5 2.5l-.94 2.06-2.06.94zm10 10l.94 2.06.94-2.06 2.06-.94-2.06-.94-.94-2.06-.94 2.06-2.06.94z\"/><path d=\"M17.41 7.96l-1.37-1.37c-.4-.4-.92-.59-1.43-.59-.52 0-1.04.2-1.43.59L10.3 9.45l-7.72 7.72c-.78.78-.78 2.05 0 2.83L4 21.41c.39.39.9.59 1.41.59.51 0 1.02-.2 1.41-.59l7.78-7.78 2.81-2.81c.8-.78.8-2.07 0-2.86zM5.41 20L4 18.59l7.72-7.72 1.47 1.35L5.41 20z\"/>\n",
              "  </svg>\n",
              "      </button>\n",
              "      \n",
              "  <style>\n",
              "    .colab-df-container {\n",
              "      display:flex;\n",
              "      flex-wrap:wrap;\n",
              "      gap: 12px;\n",
              "    }\n",
              "\n",
              "    .colab-df-convert {\n",
              "      background-color: #E8F0FE;\n",
              "      border: none;\n",
              "      border-radius: 50%;\n",
              "      cursor: pointer;\n",
              "      display: none;\n",
              "      fill: #1967D2;\n",
              "      height: 32px;\n",
              "      padding: 0 0 0 0;\n",
              "      width: 32px;\n",
              "    }\n",
              "\n",
              "    .colab-df-convert:hover {\n",
              "      background-color: #E2EBFA;\n",
              "      box-shadow: 0px 1px 2px rgba(60, 64, 67, 0.3), 0px 1px 3px 1px rgba(60, 64, 67, 0.15);\n",
              "      fill: #174EA6;\n",
              "    }\n",
              "\n",
              "    [theme=dark] .colab-df-convert {\n",
              "      background-color: #3B4455;\n",
              "      fill: #D2E3FC;\n",
              "    }\n",
              "\n",
              "    [theme=dark] .colab-df-convert:hover {\n",
              "      background-color: #434B5C;\n",
              "      box-shadow: 0px 1px 3px 1px rgba(0, 0, 0, 0.15);\n",
              "      filter: drop-shadow(0px 1px 2px rgba(0, 0, 0, 0.3));\n",
              "      fill: #FFFFFF;\n",
              "    }\n",
              "  </style>\n",
              "\n",
              "      <script>\n",
              "        const buttonEl =\n",
              "          document.querySelector('#df-09e45c51-7d2f-44f4-ab58-c9333a63a039 button.colab-df-convert');\n",
              "        buttonEl.style.display =\n",
              "          google.colab.kernel.accessAllowed ? 'block' : 'none';\n",
              "\n",
              "        async function convertToInteractive(key) {\n",
              "          const element = document.querySelector('#df-09e45c51-7d2f-44f4-ab58-c9333a63a039');\n",
              "          const dataTable =\n",
              "            await google.colab.kernel.invokeFunction('convertToInteractive',\n",
              "                                                     [key], {});\n",
              "          if (!dataTable) return;\n",
              "\n",
              "          const docLinkHtml = 'Like what you see? Visit the ' +\n",
              "            '<a target=\"_blank\" href=https://colab.research.google.com/notebooks/data_table.ipynb>data table notebook</a>'\n",
              "            + ' to learn more about interactive tables.';\n",
              "          element.innerHTML = '';\n",
              "          dataTable['output_type'] = 'display_data';\n",
              "          await google.colab.output.renderOutput(dataTable, element);\n",
              "          const docLink = document.createElement('div');\n",
              "          docLink.innerHTML = docLinkHtml;\n",
              "          element.appendChild(docLink);\n",
              "        }\n",
              "      </script>\n",
              "    </div>\n",
              "  </div>\n",
              "  "
            ],
            "text/plain": [
              "                        TotalPop       Men  ...  FamilyWork  Unemployment\n",
              "state   county                              ...                          \n",
              "Alabama Autauga County     55036  0.488753  ...         0.1           5.2\n",
              "        Baldwin County    203360  0.489413  ...         0.1           5.5\n",
              "        Barbour County     26201  0.533415  ...         0.3          12.4\n",
              "        Bibb County        22580  0.542560  ...         0.3           8.2\n",
              "        Blount County      57667  0.494043  ...         0.1           4.9\n",
              "\n",
              "[5 rows x 30 columns]"
            ]
          },
          "metadata": {},
          "execution_count": 105
        }
      ]
    },
    {
      "cell_type": "markdown",
      "metadata": {
        "id": "amkU5Y6g7Dp4"
      },
      "source": [
        "### 문제 6. 여러 데이터프레임을 하나의 데이터프레임으로 결합하기"
      ]
    },
    {
      "cell_type": "code",
      "metadata": {
        "id": "GZXSBFPyDh6R",
        "colab": {
          "base_uri": "https://localhost:8080/",
          "height": 693
        },
        "outputId": "cb953f93-bced-43b3-e540-bd1a3c309142"
      },
      "source": [
        "# df_pres, df_gov, df_census 데이터프레임을 하나로 결합하기\n",
        "df = pd.concat([table_pres, table_gov, df_census], axis = 1)\n",
        "df"
      ],
      "execution_count": 106,
      "outputs": [
        {
          "output_type": "execute_result",
          "data": {
            "text/html": [
              "\n",
              "  <div id=\"df-f7d611c4-d5eb-4c87-be9e-16f39a3bff04\">\n",
              "    <div class=\"colab-df-container\">\n",
              "      <div>\n",
              "<style scoped>\n",
              "    .dataframe tbody tr th:only-of-type {\n",
              "        vertical-align: middle;\n",
              "    }\n",
              "\n",
              "    .dataframe tbody tr th {\n",
              "        vertical-align: top;\n",
              "    }\n",
              "\n",
              "    .dataframe thead th {\n",
              "        text-align: right;\n",
              "    }\n",
              "</style>\n",
              "<table border=\"1\" class=\"dataframe\">\n",
              "  <thead>\n",
              "    <tr style=\"text-align: right;\">\n",
              "      <th></th>\n",
              "      <th></th>\n",
              "      <th>Pres_Dem</th>\n",
              "      <th>Pres_Rep</th>\n",
              "      <th>Gov_Dem</th>\n",
              "      <th>Gov_Rep</th>\n",
              "      <th>TotalPop</th>\n",
              "      <th>Men</th>\n",
              "      <th>Hispanic</th>\n",
              "      <th>White</th>\n",
              "      <th>Black</th>\n",
              "      <th>Native</th>\n",
              "      <th>Asian</th>\n",
              "      <th>Pacific</th>\n",
              "      <th>VotingAgeCitizen</th>\n",
              "      <th>IncomePerCap</th>\n",
              "      <th>Poverty</th>\n",
              "      <th>ChildPoverty</th>\n",
              "      <th>Professional</th>\n",
              "      <th>Service</th>\n",
              "      <th>Office</th>\n",
              "      <th>Construction</th>\n",
              "      <th>Production</th>\n",
              "      <th>Drive</th>\n",
              "      <th>Carpool</th>\n",
              "      <th>Transit</th>\n",
              "      <th>Walk</th>\n",
              "      <th>OtherTransp</th>\n",
              "      <th>WorkAtHome</th>\n",
              "      <th>MeanCommute</th>\n",
              "      <th>Employed</th>\n",
              "      <th>PrivateWork</th>\n",
              "      <th>PublicWork</th>\n",
              "      <th>SelfEmployed</th>\n",
              "      <th>FamilyWork</th>\n",
              "      <th>Unemployment</th>\n",
              "    </tr>\n",
              "    <tr>\n",
              "      <th>state</th>\n",
              "      <th>county</th>\n",
              "      <th></th>\n",
              "      <th></th>\n",
              "      <th></th>\n",
              "      <th></th>\n",
              "      <th></th>\n",
              "      <th></th>\n",
              "      <th></th>\n",
              "      <th></th>\n",
              "      <th></th>\n",
              "      <th></th>\n",
              "      <th></th>\n",
              "      <th></th>\n",
              "      <th></th>\n",
              "      <th></th>\n",
              "      <th></th>\n",
              "      <th></th>\n",
              "      <th></th>\n",
              "      <th></th>\n",
              "      <th></th>\n",
              "      <th></th>\n",
              "      <th></th>\n",
              "      <th></th>\n",
              "      <th></th>\n",
              "      <th></th>\n",
              "      <th></th>\n",
              "      <th></th>\n",
              "      <th></th>\n",
              "      <th></th>\n",
              "      <th></th>\n",
              "      <th></th>\n",
              "      <th></th>\n",
              "      <th></th>\n",
              "      <th></th>\n",
              "      <th></th>\n",
              "    </tr>\n",
              "  </thead>\n",
              "  <tbody>\n",
              "    <tr>\n",
              "      <th rowspan=\"5\" valign=\"top\">Alabama</th>\n",
              "      <th>Autauga County</th>\n",
              "      <td>7503.0</td>\n",
              "      <td>19838.0</td>\n",
              "      <td>NaN</td>\n",
              "      <td>NaN</td>\n",
              "      <td>55036.0</td>\n",
              "      <td>0.488753</td>\n",
              "      <td>2.7</td>\n",
              "      <td>75.4</td>\n",
              "      <td>18.9</td>\n",
              "      <td>0.3</td>\n",
              "      <td>0.9</td>\n",
              "      <td>0.0</td>\n",
              "      <td>0.745258</td>\n",
              "      <td>27824.0</td>\n",
              "      <td>13.7</td>\n",
              "      <td>20.1</td>\n",
              "      <td>35.3</td>\n",
              "      <td>18.0</td>\n",
              "      <td>23.2</td>\n",
              "      <td>8.1</td>\n",
              "      <td>15.4</td>\n",
              "      <td>86.0</td>\n",
              "      <td>9.6</td>\n",
              "      <td>0.1</td>\n",
              "      <td>0.6</td>\n",
              "      <td>1.3</td>\n",
              "      <td>2.5</td>\n",
              "      <td>25.8</td>\n",
              "      <td>0.438113</td>\n",
              "      <td>74.1</td>\n",
              "      <td>20.2</td>\n",
              "      <td>5.6</td>\n",
              "      <td>0.1</td>\n",
              "      <td>5.2</td>\n",
              "    </tr>\n",
              "    <tr>\n",
              "      <th>Baldwin County</th>\n",
              "      <td>24578.0</td>\n",
              "      <td>83544.0</td>\n",
              "      <td>NaN</td>\n",
              "      <td>NaN</td>\n",
              "      <td>203360.0</td>\n",
              "      <td>0.489413</td>\n",
              "      <td>4.4</td>\n",
              "      <td>83.1</td>\n",
              "      <td>9.5</td>\n",
              "      <td>0.8</td>\n",
              "      <td>0.7</td>\n",
              "      <td>0.0</td>\n",
              "      <td>0.764044</td>\n",
              "      <td>29364.0</td>\n",
              "      <td>11.8</td>\n",
              "      <td>16.1</td>\n",
              "      <td>35.7</td>\n",
              "      <td>18.2</td>\n",
              "      <td>25.6</td>\n",
              "      <td>9.7</td>\n",
              "      <td>10.8</td>\n",
              "      <td>84.7</td>\n",
              "      <td>7.6</td>\n",
              "      <td>0.1</td>\n",
              "      <td>0.8</td>\n",
              "      <td>1.1</td>\n",
              "      <td>5.6</td>\n",
              "      <td>27.0</td>\n",
              "      <td>0.440239</td>\n",
              "      <td>80.7</td>\n",
              "      <td>12.9</td>\n",
              "      <td>6.3</td>\n",
              "      <td>0.1</td>\n",
              "      <td>5.5</td>\n",
              "    </tr>\n",
              "    <tr>\n",
              "      <th>Barbour County</th>\n",
              "      <td>4816.0</td>\n",
              "      <td>5622.0</td>\n",
              "      <td>NaN</td>\n",
              "      <td>NaN</td>\n",
              "      <td>26201.0</td>\n",
              "      <td>0.533415</td>\n",
              "      <td>4.2</td>\n",
              "      <td>45.7</td>\n",
              "      <td>47.8</td>\n",
              "      <td>0.2</td>\n",
              "      <td>0.6</td>\n",
              "      <td>0.0</td>\n",
              "      <td>0.773596</td>\n",
              "      <td>17561.0</td>\n",
              "      <td>27.2</td>\n",
              "      <td>44.9</td>\n",
              "      <td>25.0</td>\n",
              "      <td>16.8</td>\n",
              "      <td>22.6</td>\n",
              "      <td>11.5</td>\n",
              "      <td>24.1</td>\n",
              "      <td>83.4</td>\n",
              "      <td>11.1</td>\n",
              "      <td>0.3</td>\n",
              "      <td>2.2</td>\n",
              "      <td>1.7</td>\n",
              "      <td>1.3</td>\n",
              "      <td>23.4</td>\n",
              "      <td>0.338842</td>\n",
              "      <td>74.1</td>\n",
              "      <td>19.1</td>\n",
              "      <td>6.5</td>\n",
              "      <td>0.3</td>\n",
              "      <td>12.4</td>\n",
              "    </tr>\n",
              "    <tr>\n",
              "      <th>Bibb County</th>\n",
              "      <td>1986.0</td>\n",
              "      <td>7525.0</td>\n",
              "      <td>NaN</td>\n",
              "      <td>NaN</td>\n",
              "      <td>22580.0</td>\n",
              "      <td>0.542560</td>\n",
              "      <td>2.4</td>\n",
              "      <td>74.6</td>\n",
              "      <td>22.0</td>\n",
              "      <td>0.4</td>\n",
              "      <td>0.0</td>\n",
              "      <td>0.0</td>\n",
              "      <td>0.782197</td>\n",
              "      <td>20911.0</td>\n",
              "      <td>15.2</td>\n",
              "      <td>26.6</td>\n",
              "      <td>24.4</td>\n",
              "      <td>17.6</td>\n",
              "      <td>19.7</td>\n",
              "      <td>15.9</td>\n",
              "      <td>22.4</td>\n",
              "      <td>86.4</td>\n",
              "      <td>9.5</td>\n",
              "      <td>0.7</td>\n",
              "      <td>0.3</td>\n",
              "      <td>1.7</td>\n",
              "      <td>1.5</td>\n",
              "      <td>30.0</td>\n",
              "      <td>0.361869</td>\n",
              "      <td>76.0</td>\n",
              "      <td>17.4</td>\n",
              "      <td>6.3</td>\n",
              "      <td>0.3</td>\n",
              "      <td>8.2</td>\n",
              "    </tr>\n",
              "    <tr>\n",
              "      <th>Blount County</th>\n",
              "      <td>2640.0</td>\n",
              "      <td>24711.0</td>\n",
              "      <td>NaN</td>\n",
              "      <td>NaN</td>\n",
              "      <td>57667.0</td>\n",
              "      <td>0.494043</td>\n",
              "      <td>9.0</td>\n",
              "      <td>87.4</td>\n",
              "      <td>1.5</td>\n",
              "      <td>0.3</td>\n",
              "      <td>0.1</td>\n",
              "      <td>0.0</td>\n",
              "      <td>0.737215</td>\n",
              "      <td>22021.0</td>\n",
              "      <td>15.6</td>\n",
              "      <td>25.4</td>\n",
              "      <td>28.5</td>\n",
              "      <td>12.9</td>\n",
              "      <td>23.3</td>\n",
              "      <td>15.8</td>\n",
              "      <td>19.5</td>\n",
              "      <td>86.8</td>\n",
              "      <td>10.2</td>\n",
              "      <td>0.1</td>\n",
              "      <td>0.4</td>\n",
              "      <td>0.4</td>\n",
              "      <td>2.1</td>\n",
              "      <td>35.0</td>\n",
              "      <td>0.370749</td>\n",
              "      <td>83.9</td>\n",
              "      <td>11.9</td>\n",
              "      <td>4.0</td>\n",
              "      <td>0.1</td>\n",
              "      <td>4.9</td>\n",
              "    </tr>\n",
              "    <tr>\n",
              "      <th>...</th>\n",
              "      <th>...</th>\n",
              "      <td>...</td>\n",
              "      <td>...</td>\n",
              "      <td>...</td>\n",
              "      <td>...</td>\n",
              "      <td>...</td>\n",
              "      <td>...</td>\n",
              "      <td>...</td>\n",
              "      <td>...</td>\n",
              "      <td>...</td>\n",
              "      <td>...</td>\n",
              "      <td>...</td>\n",
              "      <td>...</td>\n",
              "      <td>...</td>\n",
              "      <td>...</td>\n",
              "      <td>...</td>\n",
              "      <td>...</td>\n",
              "      <td>...</td>\n",
              "      <td>...</td>\n",
              "      <td>...</td>\n",
              "      <td>...</td>\n",
              "      <td>...</td>\n",
              "      <td>...</td>\n",
              "      <td>...</td>\n",
              "      <td>...</td>\n",
              "      <td>...</td>\n",
              "      <td>...</td>\n",
              "      <td>...</td>\n",
              "      <td>...</td>\n",
              "      <td>...</td>\n",
              "      <td>...</td>\n",
              "      <td>...</td>\n",
              "      <td>...</td>\n",
              "      <td>...</td>\n",
              "      <td>...</td>\n",
              "    </tr>\n",
              "    <tr>\n",
              "      <th rowspan=\"5\" valign=\"top\">Wyoming</th>\n",
              "      <th>Sweetwater County</th>\n",
              "      <td>3823.0</td>\n",
              "      <td>12229.0</td>\n",
              "      <td>NaN</td>\n",
              "      <td>NaN</td>\n",
              "      <td>44527.0</td>\n",
              "      <td>0.516114</td>\n",
              "      <td>16.0</td>\n",
              "      <td>79.6</td>\n",
              "      <td>0.8</td>\n",
              "      <td>0.6</td>\n",
              "      <td>0.6</td>\n",
              "      <td>0.5</td>\n",
              "      <td>0.696768</td>\n",
              "      <td>31700.0</td>\n",
              "      <td>12.0</td>\n",
              "      <td>15.7</td>\n",
              "      <td>27.7</td>\n",
              "      <td>16.1</td>\n",
              "      <td>20.0</td>\n",
              "      <td>20.8</td>\n",
              "      <td>15.4</td>\n",
              "      <td>77.5</td>\n",
              "      <td>14.4</td>\n",
              "      <td>2.6</td>\n",
              "      <td>2.8</td>\n",
              "      <td>1.3</td>\n",
              "      <td>1.5</td>\n",
              "      <td>20.5</td>\n",
              "      <td>0.510679</td>\n",
              "      <td>78.4</td>\n",
              "      <td>17.8</td>\n",
              "      <td>3.8</td>\n",
              "      <td>0.0</td>\n",
              "      <td>5.2</td>\n",
              "    </tr>\n",
              "    <tr>\n",
              "      <th>Teton County</th>\n",
              "      <td>9848.0</td>\n",
              "      <td>4341.0</td>\n",
              "      <td>NaN</td>\n",
              "      <td>NaN</td>\n",
              "      <td>22923.0</td>\n",
              "      <td>0.530864</td>\n",
              "      <td>15.0</td>\n",
              "      <td>81.5</td>\n",
              "      <td>0.5</td>\n",
              "      <td>0.3</td>\n",
              "      <td>2.2</td>\n",
              "      <td>0.0</td>\n",
              "      <td>0.728177</td>\n",
              "      <td>49200.0</td>\n",
              "      <td>6.8</td>\n",
              "      <td>2.8</td>\n",
              "      <td>39.4</td>\n",
              "      <td>25.4</td>\n",
              "      <td>17.0</td>\n",
              "      <td>11.7</td>\n",
              "      <td>6.5</td>\n",
              "      <td>68.3</td>\n",
              "      <td>6.7</td>\n",
              "      <td>3.8</td>\n",
              "      <td>11.7</td>\n",
              "      <td>3.8</td>\n",
              "      <td>5.7</td>\n",
              "      <td>14.3</td>\n",
              "      <td>0.632203</td>\n",
              "      <td>82.1</td>\n",
              "      <td>11.4</td>\n",
              "      <td>6.5</td>\n",
              "      <td>0.0</td>\n",
              "      <td>1.3</td>\n",
              "    </tr>\n",
              "    <tr>\n",
              "      <th>Uinta County</th>\n",
              "      <td>1591.0</td>\n",
              "      <td>7496.0</td>\n",
              "      <td>NaN</td>\n",
              "      <td>NaN</td>\n",
              "      <td>20758.0</td>\n",
              "      <td>0.510309</td>\n",
              "      <td>9.1</td>\n",
              "      <td>87.7</td>\n",
              "      <td>0.1</td>\n",
              "      <td>0.9</td>\n",
              "      <td>0.1</td>\n",
              "      <td>0.0</td>\n",
              "      <td>0.685760</td>\n",
              "      <td>27115.0</td>\n",
              "      <td>14.9</td>\n",
              "      <td>20.0</td>\n",
              "      <td>30.4</td>\n",
              "      <td>19.4</td>\n",
              "      <td>18.1</td>\n",
              "      <td>16.1</td>\n",
              "      <td>16.1</td>\n",
              "      <td>77.4</td>\n",
              "      <td>14.9</td>\n",
              "      <td>3.3</td>\n",
              "      <td>1.1</td>\n",
              "      <td>1.3</td>\n",
              "      <td>2.0</td>\n",
              "      <td>19.9</td>\n",
              "      <td>0.459004</td>\n",
              "      <td>71.5</td>\n",
              "      <td>21.5</td>\n",
              "      <td>6.6</td>\n",
              "      <td>0.4</td>\n",
              "      <td>6.4</td>\n",
              "    </tr>\n",
              "    <tr>\n",
              "      <th>Washakie County</th>\n",
              "      <td>651.0</td>\n",
              "      <td>3245.0</td>\n",
              "      <td>NaN</td>\n",
              "      <td>NaN</td>\n",
              "      <td>8253.0</td>\n",
              "      <td>0.498970</td>\n",
              "      <td>14.2</td>\n",
              "      <td>82.2</td>\n",
              "      <td>0.3</td>\n",
              "      <td>0.4</td>\n",
              "      <td>0.1</td>\n",
              "      <td>0.0</td>\n",
              "      <td>0.742154</td>\n",
              "      <td>27345.0</td>\n",
              "      <td>12.8</td>\n",
              "      <td>17.5</td>\n",
              "      <td>32.1</td>\n",
              "      <td>16.3</td>\n",
              "      <td>17.6</td>\n",
              "      <td>18.8</td>\n",
              "      <td>15.3</td>\n",
              "      <td>77.2</td>\n",
              "      <td>10.2</td>\n",
              "      <td>0.0</td>\n",
              "      <td>6.9</td>\n",
              "      <td>1.3</td>\n",
              "      <td>4.4</td>\n",
              "      <td>14.3</td>\n",
              "      <td>0.464437</td>\n",
              "      <td>69.8</td>\n",
              "      <td>22.0</td>\n",
              "      <td>8.1</td>\n",
              "      <td>0.2</td>\n",
              "      <td>6.1</td>\n",
              "    </tr>\n",
              "    <tr>\n",
              "      <th>Weston County</th>\n",
              "      <td>360.0</td>\n",
              "      <td>3107.0</td>\n",
              "      <td>NaN</td>\n",
              "      <td>NaN</td>\n",
              "      <td>7117.0</td>\n",
              "      <td>0.527750</td>\n",
              "      <td>1.4</td>\n",
              "      <td>91.6</td>\n",
              "      <td>0.5</td>\n",
              "      <td>0.1</td>\n",
              "      <td>4.3</td>\n",
              "      <td>0.0</td>\n",
              "      <td>0.774203</td>\n",
              "      <td>30955.0</td>\n",
              "      <td>14.4</td>\n",
              "      <td>24.1</td>\n",
              "      <td>32.0</td>\n",
              "      <td>15.0</td>\n",
              "      <td>15.8</td>\n",
              "      <td>17.9</td>\n",
              "      <td>19.3</td>\n",
              "      <td>72.7</td>\n",
              "      <td>6.7</td>\n",
              "      <td>9.1</td>\n",
              "      <td>3.0</td>\n",
              "      <td>1.6</td>\n",
              "      <td>6.9</td>\n",
              "      <td>25.7</td>\n",
              "      <td>0.478713</td>\n",
              "      <td>68.2</td>\n",
              "      <td>21.9</td>\n",
              "      <td>8.8</td>\n",
              "      <td>1.1</td>\n",
              "      <td>2.2</td>\n",
              "    </tr>\n",
              "  </tbody>\n",
              "</table>\n",
              "<p>4809 rows × 34 columns</p>\n",
              "</div>\n",
              "      <button class=\"colab-df-convert\" onclick=\"convertToInteractive('df-f7d611c4-d5eb-4c87-be9e-16f39a3bff04')\"\n",
              "              title=\"Convert this dataframe to an interactive table.\"\n",
              "              style=\"display:none;\">\n",
              "        \n",
              "  <svg xmlns=\"http://www.w3.org/2000/svg\" height=\"24px\"viewBox=\"0 0 24 24\"\n",
              "       width=\"24px\">\n",
              "    <path d=\"M0 0h24v24H0V0z\" fill=\"none\"/>\n",
              "    <path d=\"M18.56 5.44l.94 2.06.94-2.06 2.06-.94-2.06-.94-.94-2.06-.94 2.06-2.06.94zm-11 1L8.5 8.5l.94-2.06 2.06-.94-2.06-.94L8.5 2.5l-.94 2.06-2.06.94zm10 10l.94 2.06.94-2.06 2.06-.94-2.06-.94-.94-2.06-.94 2.06-2.06.94z\"/><path d=\"M17.41 7.96l-1.37-1.37c-.4-.4-.92-.59-1.43-.59-.52 0-1.04.2-1.43.59L10.3 9.45l-7.72 7.72c-.78.78-.78 2.05 0 2.83L4 21.41c.39.39.9.59 1.41.59.51 0 1.02-.2 1.41-.59l7.78-7.78 2.81-2.81c.8-.78.8-2.07 0-2.86zM5.41 20L4 18.59l7.72-7.72 1.47 1.35L5.41 20z\"/>\n",
              "  </svg>\n",
              "      </button>\n",
              "      \n",
              "  <style>\n",
              "    .colab-df-container {\n",
              "      display:flex;\n",
              "      flex-wrap:wrap;\n",
              "      gap: 12px;\n",
              "    }\n",
              "\n",
              "    .colab-df-convert {\n",
              "      background-color: #E8F0FE;\n",
              "      border: none;\n",
              "      border-radius: 50%;\n",
              "      cursor: pointer;\n",
              "      display: none;\n",
              "      fill: #1967D2;\n",
              "      height: 32px;\n",
              "      padding: 0 0 0 0;\n",
              "      width: 32px;\n",
              "    }\n",
              "\n",
              "    .colab-df-convert:hover {\n",
              "      background-color: #E2EBFA;\n",
              "      box-shadow: 0px 1px 2px rgba(60, 64, 67, 0.3), 0px 1px 3px 1px rgba(60, 64, 67, 0.15);\n",
              "      fill: #174EA6;\n",
              "    }\n",
              "\n",
              "    [theme=dark] .colab-df-convert {\n",
              "      background-color: #3B4455;\n",
              "      fill: #D2E3FC;\n",
              "    }\n",
              "\n",
              "    [theme=dark] .colab-df-convert:hover {\n",
              "      background-color: #434B5C;\n",
              "      box-shadow: 0px 1px 3px 1px rgba(0, 0, 0, 0.15);\n",
              "      filter: drop-shadow(0px 1px 2px rgba(0, 0, 0, 0.3));\n",
              "      fill: #FFFFFF;\n",
              "    }\n",
              "  </style>\n",
              "\n",
              "      <script>\n",
              "        const buttonEl =\n",
              "          document.querySelector('#df-f7d611c4-d5eb-4c87-be9e-16f39a3bff04 button.colab-df-convert');\n",
              "        buttonEl.style.display =\n",
              "          google.colab.kernel.accessAllowed ? 'block' : 'none';\n",
              "\n",
              "        async function convertToInteractive(key) {\n",
              "          const element = document.querySelector('#df-f7d611c4-d5eb-4c87-be9e-16f39a3bff04');\n",
              "          const dataTable =\n",
              "            await google.colab.kernel.invokeFunction('convertToInteractive',\n",
              "                                                     [key], {});\n",
              "          if (!dataTable) return;\n",
              "\n",
              "          const docLinkHtml = 'Like what you see? Visit the ' +\n",
              "            '<a target=\"_blank\" href=https://colab.research.google.com/notebooks/data_table.ipynb>data table notebook</a>'\n",
              "            + ' to learn more about interactive tables.';\n",
              "          element.innerHTML = '';\n",
              "          dataTable['output_type'] = 'display_data';\n",
              "          await google.colab.output.renderOutput(dataTable, element);\n",
              "          const docLink = document.createElement('div');\n",
              "          docLink.innerHTML = docLinkHtml;\n",
              "          element.appendChild(docLink);\n",
              "        }\n",
              "      </script>\n",
              "    </div>\n",
              "  </div>\n",
              "  "
            ],
            "text/plain": [
              "                           Pres_Dem  Pres_Rep  ...  FamilyWork  Unemployment\n",
              "state   county                                 ...                          \n",
              "Alabama Autauga County       7503.0   19838.0  ...         0.1           5.2\n",
              "        Baldwin County      24578.0   83544.0  ...         0.1           5.5\n",
              "        Barbour County       4816.0    5622.0  ...         0.3          12.4\n",
              "        Bibb County          1986.0    7525.0  ...         0.3           8.2\n",
              "        Blount County        2640.0   24711.0  ...         0.1           4.9\n",
              "...                             ...       ...  ...         ...           ...\n",
              "Wyoming Sweetwater County    3823.0   12229.0  ...         0.0           5.2\n",
              "        Teton County         9848.0    4341.0  ...         0.0           1.3\n",
              "        Uinta County         1591.0    7496.0  ...         0.4           6.4\n",
              "        Washakie County       651.0    3245.0  ...         0.2           6.1\n",
              "        Weston County         360.0    3107.0  ...         1.1           2.2\n",
              "\n",
              "[4809 rows x 34 columns]"
            ]
          },
          "metadata": {},
          "execution_count": 106
        }
      ]
    },
    {
      "cell_type": "markdown",
      "metadata": {
        "id": "KywGh9sjtYl9"
      },
      "source": [
        "### 문제 7. 컬럼간의 Correlation을 Heatmap으로 표현하기\n"
      ]
    },
    {
      "cell_type": "code",
      "metadata": {
        "id": "TqXkwW8JDxhH",
        "colab": {
          "base_uri": "https://localhost:8080/",
          "height": 796
        },
        "outputId": "768c3952-bc72-4f20-c023-b29d7700ef8b"
      },
      "source": [
        "# DataFrame의 corr() 메소드와 Seaborn의 heatmap() 메소드를 이용하여 Pearson's correlation 시각화하기\n",
        "plt.figure(figsize =  (12, 12))\n",
        "sns.heatmap(df.corr())"
      ],
      "execution_count": 107,
      "outputs": [
        {
          "output_type": "execute_result",
          "data": {
            "text/plain": [
              "<matplotlib.axes._subplots.AxesSubplot at 0x7f686f9fca10>"
            ]
          },
          "metadata": {},
          "execution_count": 107
        },
        {
          "output_type": "display_data",
          "data": {
            "image/png": "[encoded data removed]",
            "text/plain": [
              "<Figure size 864x864 with 2 Axes>"
            ]
          },
          "metadata": {
            "needs_background": "light"
          }
        }
      ]
    },
    {
      "cell_type": "markdown",
      "source": [
        "각 정당 투표에 대한 corr 분석을 위해 필요한 컬럼만 남김"
      ],
      "metadata": {
        "id": "ao__cCdNFJvl"
      }
    },
    {
      "cell_type": "code",
      "source": [
        "df.columns"
      ],
      "metadata": {
        "colab": {
          "base_uri": "https://localhost:8080/"
        },
        "id": "2gSETfjkHVxw",
        "outputId": "75741a0e-70ac-4fa4-c101-b8c32691b442"
      },
      "execution_count": 110,
      "outputs": [
        {
          "output_type": "execute_result",
          "data": {
            "text/plain": [
              "Index(['Pres_Dem', 'Pres_Rep', 'Gov_Dem', 'Gov_Rep', 'TotalPop', 'Men',\n",
              "       'Hispanic', 'White', 'Black', 'Native', 'Asian', 'Pacific',\n",
              "       'VotingAgeCitizen', 'IncomePerCap', 'Poverty', 'ChildPoverty',\n",
              "       'Professional', 'Service', 'Office', 'Construction', 'Production',\n",
              "       'Drive', 'Carpool', 'Transit', 'Walk', 'OtherTransp', 'WorkAtHome',\n",
              "       'MeanCommute', 'Employed', 'PrivateWork', 'PublicWork', 'SelfEmployed',\n",
              "       'FamilyWork', 'Unemployment'],\n",
              "      dtype='object')"
            ]
          },
          "metadata": {},
          "execution_count": 110
        }
      ]
    },
    {
      "cell_type": "code",
      "source": [
        "plt.figure(figsize =  (8, 8))\n",
        "print(sns.heatmap(df_norm.corr()))\n",
        "\n",
        "plt.figure(figsize = (5, 12))\n",
        "print(sns.heatmap(df_norm.corr()[['Pres_Dem', 'Pres_Rep']], annot = True))"
      ],
      "metadata": {
        "colab": {
          "base_uri": "https://localhost:8080/",
          "height": 1000
        },
        "id": "ZzL8wM8hE5mm",
        "outputId": "88442220-cded-4887-82c9-fd5642c72211"
      },
      "execution_count": 119,
      "outputs": [
        {
          "output_type": "stream",
          "name": "stdout",
          "text": [
            "AxesSubplot(0.125,0.125;0.62x0.755)\n",
            "AxesSubplot(0.125,0.125;0.62x0.755)\n"
          ]
        },
        {
          "output_type": "display_data",
          "data": {
            "image/png": "[encoded data removed]",
            "text/plain": [
              "<Figure size 576x576 with 2 Axes>"
            ]
          },
          "metadata": {
            "needs_background": "light"
          }
        },
        {
          "output_type": "display_data",
          "data": {
            "image/png": "[encoded data removed]",
            "text/plain": [
              "<Figure size 360x864 with 2 Axes>"
            ]
          },
          "metadata": {
            "needs_background": "light"
          }
        }
      ]
    },
    {
      "cell_type": "markdown",
      "source": [
        "corr 높은 컬럼을 보면   \n",
        "- Asian 은 전체적으로 수치가 높다. 이는 전체적으로 투표율이 높다는 뜻이다.   \n",
        "- Transit 은 Dem(민주당) 투표율이 높다.   \n",
        "- 상단에 수치가 높은 부분은 전처리가 부족한 부분이다. county 별로 보고있기에 인구가 많으면 투표수가 높을 수밖에 없다."
      ],
      "metadata": {
        "id": "4QnyirbcHg1c"
      }
    },
    {
      "cell_type": "code",
      "source": [
        "# 복사본 생성\n",
        "df_norm = df.copy()"
      ],
      "metadata": {
        "id": "8bgl3Cm8JbdZ"
      },
      "execution_count": 112,
      "outputs": []
    },
    {
      "cell_type": "code",
      "source": [
        "# 비율로 변경\n",
        "df_norm['Pres_Dem'] /= df['Pres_Dem'] + df['Pres_Rep']\n",
        "df_norm['Pres_Rep'] /= df['Pres_Dem'] + df['Pres_Rep']\n",
        "df_norm['Gov_Dem'] /= df['Pres_Dem'] + df['Pres_Rep']\n",
        "df_norm['Gov_Rep'] /= df['Pres_Dem'] + df['Pres_Rep']"
      ],
      "metadata": {
        "id": "Sk4THjVAJiiw"
      },
      "execution_count": 115,
      "outputs": []
    },
    {
      "cell_type": "code",
      "source": [
        "plt.figure(figsize = (5, 12))\n",
        "sns.heatmap(df_norm.corr()[['Pres_Dem', 'Pres_Rep']], annot = True)"
      ],
      "metadata": {
        "colab": {
          "base_uri": "https://localhost:8080/",
          "height": 722
        },
        "id": "nFJXhtZrJ2QQ",
        "outputId": "ec4f4a97-cd25-47a1-d278-73af50fedff2"
      },
      "execution_count": 116,
      "outputs": [
        {
          "output_type": "execute_result",
          "data": {
            "text/plain": [
              "<matplotlib.axes._subplots.AxesSubplot at 0x7f686f60eb10>"
            ]
          },
          "metadata": {},
          "execution_count": 116
        },
        {
          "output_type": "display_data",
          "data": {
            "image/png": "[encoded data removed]",
            "text/plain": [
              "<Figure size 360x864 with 2 Axes>"
            ]
          },
          "metadata": {
            "needs_background": "light"
          }
        }
      ]
    },
    {
      "cell_type": "markdown",
      "source": [
        "- 인구수가 많으면 민주당에 투표하는 경향이 있음   \n",
        "- 백인들은 공화당에 투표율이 높음(트럼프가 백인 우월주의)    \n",
        "- 흑인, 아시안들은 민주당에 투표율 높음(인종차별 때문)\n",
        "- 전문직은 민주당 투표율이 높음 \n",
        "- 건설직은 공화당 투표율이 높음\n",
        "- 실업률이 높을수록 민주당 투표함"
      ],
      "metadata": {
        "id": "2-D85dviKnjX"
      }
    },
    {
      "cell_type": "markdown",
      "metadata": {
        "id": "CXLd43EZ9EgS"
      },
      "source": [
        "### 문제 8. Seaborn을 이용하여 연관성 높은 데이터의 Jointplot 확인"
      ]
    },
    {
      "cell_type": "code",
      "metadata": {
        "id": "8HbUtvqs9C-C",
        "colab": {
          "base_uri": "https://localhost:8080/",
          "height": 458
        },
        "outputId": "a3886a35-a5e8-432a-8069-01607d6816d4"
      },
      "source": [
        "sns.jointplot(x='White', y = 'Pres_Rep', data = df_norm, alpha = 0.2)"
      ],
      "execution_count": 121,
      "outputs": [
        {
          "output_type": "execute_result",
          "data": {
            "text/plain": [
              "<seaborn.axisgrid.JointGrid at 0x7f686ed2d2d0>"
            ]
          },
          "metadata": {},
          "execution_count": 121
        },
        {
          "output_type": "display_data",
          "data": {
            "image/png": "[encoded data removed]",
            "text/plain": [
              "<Figure size 432x432 with 3 Axes>"
            ]
          },
          "metadata": {
            "needs_background": "light"
          }
        }
      ]
    },
    {
      "cell_type": "code",
      "source": [
        "sns.jointplot(x='White', y = 'Pres_Rep', data = df_norm, kind = 'hex')"
      ],
      "metadata": {
        "colab": {
          "base_uri": "https://localhost:8080/",
          "height": 458
        },
        "id": "T5k4NIwJRfpp",
        "outputId": "5bf7a5dd-bf86-40a3-be44-a4229d84575b"
      },
      "execution_count": 122,
      "outputs": [
        {
          "output_type": "execute_result",
          "data": {
            "text/plain": [
              "<seaborn.axisgrid.JointGrid at 0x7f686f2c0510>"
            ]
          },
          "metadata": {},
          "execution_count": 122
        },
        {
          "output_type": "display_data",
          "data": {
            "image/png": "[encoded data removed]",
            "text/plain": [
              "<Figure size 432x432 with 3 Axes>"
            ]
          },
          "metadata": {
            "needs_background": "light"
          }
        }
      ]
    },
    {
      "cell_type": "markdown",
      "source": [
        "대체적으로 백인이 많을수록 공화당 투표율이 올라가지만 무조건적인 건 아님.   \n",
        "살짝 밑으로 늘어지는 형태가 나타남.   \n",
        "그 이유를 살펴보자면"
      ],
      "metadata": {
        "id": "vSMOISk7SAmj"
      }
    },
    {
      "cell_type": "markdown",
      "source": [
        "먼저 공화당 투표율이 높았던 전문직을 hue로 두고 jointplot을 봤다."
      ],
      "metadata": {
        "id": "Mpl83DbISOTE"
      }
    },
    {
      "cell_type": "code",
      "source": [
        "sns.jointplot(x='White', y = 'Pres_Rep', hue = 'Professional', data = df_norm, alpha = 0.2)"
      ],
      "metadata": {
        "colab": {
          "base_uri": "https://localhost:8080/",
          "height": 458
        },
        "id": "3NIMmwquRskV",
        "outputId": "cc816b44-1505-4e02-b6ec-6d6cbd252152"
      },
      "execution_count": 123,
      "outputs": [
        {
          "output_type": "execute_result",
          "data": {
            "text/plain": [
              "<seaborn.axisgrid.JointGrid at 0x7f686f2ed9d0>"
            ]
          },
          "metadata": {},
          "execution_count": 123
        },
        {
          "output_type": "display_data",
          "data": {
            "image/png": "[encoded data removed]",
            "text/plain": [
              "<Figure size 432x432 with 3 Axes>"
            ]
          },
          "metadata": {
            "needs_background": "light"
          }
        }
      ]
    },
    {
      "cell_type": "markdown",
      "source": [
        "대체적으로 백인이 많을수록 투표율이 높아지긴 하지만 단순히 전문직 백인이 많다고 투표율이 높아지는 게 아님"
      ],
      "metadata": {
        "id": "uTk3M58FSVvH"
      }
    },
    {
      "cell_type": "code",
      "source": [
        "sns.jointplot(x='Black', y = 'Pres_Dem', data = df_norm, alpha = 0.2)"
      ],
      "metadata": {
        "colab": {
          "base_uri": "https://localhost:8080/",
          "height": 458
        },
        "id": "GX-hYseTSww2",
        "outputId": "1805f2dd-14a0-4903-e9c7-9d350616a475"
      },
      "execution_count": 125,
      "outputs": [
        {
          "output_type": "execute_result",
          "data": {
            "text/plain": [
              "<seaborn.axisgrid.JointGrid at 0x7f686e5c5e10>"
            ]
          },
          "metadata": {},
          "execution_count": 125
        },
        {
          "output_type": "display_data",
          "data": {
            "image/png": "[encoded data removed]",
            "text/plain": [
              "<Figure size 432x432 with 3 Axes>"
            ]
          },
          "metadata": {
            "needs_background": "light"
          }
        }
      ]
    },
    {
      "cell_type": "markdown",
      "source": [
        "전체적으로 흑인 비율이 높을수록 민주당 투표율이 높다.   \n",
        "흑인 비율이 낮더라도 투표율이 낮지 않다.   \n",
        "흑인 비율이 높은 county가 별로 없어서 x축이 커질수록 표본이 적게 나타난다.\n",
        "다른 요인도 고려해봐야할 것 같다."
      ],
      "metadata": {
        "id": "Fgj51ZqXTJjH"
      }
    },
    {
      "cell_type": "code",
      "source": [
        ""
      ],
      "metadata": {
        "id": "jmQUFgLRS-f_"
      },
      "execution_count": null,
      "outputs": []
    },
    {
      "cell_type": "markdown",
      "metadata": {
        "id": "GD18QuastZy8"
      },
      "source": [
        "## Step 3. Plotly를 이용하여 데이터 시각화하기\n"
      ]
    },
    {
      "cell_type": "markdown",
      "metadata": {
        "id": "h3P9KRGT_qwG"
      },
      "source": [
        "### 문제 9. Plotly의 Choropleth 데이터 포맷으로 맞추기"
      ]
    },
    {
      "cell_type": "code",
      "metadata": {
        "id": "29yYcSNBb9Lw"
      },
      "source": [
        "import plotly.figure_factory as ff\n",
        "\n",
        "# FIPS 코드 불러오기\n",
        "df_sample = pd.read_csv('https://raw.githubusercontent.com/plotly/datasets/master/laucnty16.csv')\n",
        "df_sample['State FIPS Code'] = df_sample['State FIPS Code'].apply(lambda x: str(x).zfill(2))\n",
        "df_sample['County FIPS Code'] = df_sample['County FIPS Code'].apply(lambda x: str(x).zfill(3))\n",
        "df_sample['FIPS'] = df_sample['State FIPS Code'] + df_sample['County FIPS Code']\n",
        "\n",
        "# Color Scale 세팅\n",
        "colorscale = [\"#f7fbff\",\"#ebf3fb\",\"#deebf7\",\"#d2e3f3\",\"#c6dbef\",\"#b3d2e9\",\"#9ecae1\",\n",
        "              \"#85bcdb\",\"#6baed6\",\"#57a0ce\",\"#4292c6\",\"#3082be\",\"#2171b5\",\"#1361a9\",\n",
        "              \"#08519c\",\"#0b4083\",\"#08306b\"]"
      ],
      "execution_count": null,
      "outputs": []
    },
    {
      "cell_type": "code",
      "metadata": {
        "id": "OvfL1YSKFN5o"
      },
      "source": [
        "# ff.create_choropleth()에서 사용할 수 있도록 데이터프레임 정리하기\n",
        "# Hint) 공식 레퍼런스 참조: https://plotly.com/python/county-choropleth/#the-entire-usa\n",
        "\n",
        "\n",
        "\n",
        "\n",
        "\n",
        "\n"
      ],
      "execution_count": null,
      "outputs": []
    },
    {
      "cell_type": "markdown",
      "metadata": {
        "id": "Qlz6lUtHbse8"
      },
      "source": [
        "### 문제 10. Choropleth map 시각화하기"
      ]
    },
    {
      "cell_type": "code",
      "metadata": {
        "id": "VtP1gZNibuxn"
      },
      "source": [
        "# ff.create_choropleth() 메소드를 이용하여 Choropleth 플랏하기\n",
        "# Hint) 공식 레퍼런스 참조: https://plotly.com/python/county-choropleth/#the-entire-usa\n",
        "\n",
        "fig = ff.create_choropleth(...)\n",
        "\n",
        "\n",
        "\n",
        "fig.layout.template = None\n",
        "fig.show()"
      ],
      "execution_count": null,
      "outputs": []
    },
    {
      "cell_type": "markdown",
      "metadata": {
        "id": "FRfd7ABjepBS"
      },
      "source": [
        "## Step 4. 모델 학습을 위한 데이터 전처리 "
      ]
    },
    {
      "cell_type": "markdown",
      "metadata": {
        "id": "hgHfw6NbdVff"
      },
      "source": [
        "### 문제 11. 학습을 위한 데이터프레임 구성하기"
      ]
    },
    {
      "cell_type": "code",
      "metadata": {
        "id": "kev5fImJdUlA"
      },
      "source": [
        "# 투표 결과에 해당하는 데이터는 입력 데이터에서 제거한다.\n",
        "# 예측 타겟은 DEM vs. REP 투표 비율로 한다.\n",
        "\n",
        "X =\n",
        "y ="
      ],
      "execution_count": null,
      "outputs": []
    },
    {
      "cell_type": "markdown",
      "metadata": {
        "id": "Dev2yLeMta85"
      },
      "source": [
        "### 문제 12. StandardScaler를 이용해 수치형 데이터 표준화하기\n"
      ]
    },
    {
      "cell_type": "code",
      "metadata": {
        "id": "_k_SDCh5xMgD"
      },
      "source": [
        "from sklearn.preprocessing import StandardScaler"
      ],
      "execution_count": null,
      "outputs": []
    },
    {
      "cell_type": "code",
      "metadata": {
        "id": "W3EO22NCE3wG"
      },
      "source": [
        "# StandardScaler를 이용해 수치형 데이터를 표준화하기\n",
        "scaler =\n",
        "X = \n",
        "\n"
      ],
      "execution_count": null,
      "outputs": []
    },
    {
      "cell_type": "markdown",
      "metadata": {
        "id": "x93Tb6lptcA2"
      },
      "source": [
        "### 문제 13. 학습데이터와 테스트데이터 분리하기\n"
      ]
    },
    {
      "cell_type": "code",
      "metadata": {
        "id": "C9kMQI8SEche"
      },
      "source": [
        "from sklearn.model_selection import train_test_split"
      ],
      "execution_count": null,
      "outputs": []
    },
    {
      "cell_type": "code",
      "metadata": {
        "id": "F07QjOFwFNEw"
      },
      "source": [
        "# train_test_split() 함수로 학습 데이터와 테스트 데이터 분리하기\n",
        "X_train, X_test, y_train, y_test = "
      ],
      "execution_count": null,
      "outputs": []
    },
    {
      "cell_type": "markdown",
      "metadata": {
        "id": "0TYr6_PueDhj"
      },
      "source": [
        "### 문제 14. PCA를 이용해 데이터 전처리 수행하기"
      ]
    },
    {
      "cell_type": "code",
      "metadata": {
        "id": "YNhn3XnxeImU"
      },
      "source": [
        "from sklearn.decomposition import PCA"
      ],
      "execution_count": null,
      "outputs": []
    },
    {
      "cell_type": "code",
      "metadata": {
        "id": "a4vFnIrseCde"
      },
      "source": [
        "# PCA를 이용해 Dimensionality Reduction 수행하기\n",
        "pca =\n",
        "\n",
        "\n",
        "\n",
        "\n"
      ],
      "execution_count": null,
      "outputs": []
    },
    {
      "cell_type": "markdown",
      "metadata": {
        "id": "RrWrE8Z4exup"
      },
      "source": [
        "## Step 4. Regression 모델 학습하기"
      ]
    },
    {
      "cell_type": "markdown",
      "metadata": {
        "id": "NypEtNhdfCow"
      },
      "source": [
        "### 문제 15. LightGBM Regression 모델 학습하기"
      ]
    },
    {
      "cell_type": "code",
      "metadata": {
        "id": "ow28ZRL4F7D5"
      },
      "source": [
        "from lightgbm import LGBMRegressor"
      ],
      "execution_count": null,
      "outputs": []
    },
    {
      "cell_type": "code",
      "metadata": {
        "id": "LSSNqFUrGM6R"
      },
      "source": [
        "# XGBRegressor 모델 생성/학습. Feature에 PCA 적용하기\n",
        "model_reg = \n",
        "\n",
        "\n"
      ],
      "execution_count": null,
      "outputs": []
    },
    {
      "cell_type": "markdown",
      "metadata": {
        "id": "gUo8NmHkfIpf"
      },
      "source": [
        "### 문제 16. Regression 모델 정확도 출력하기"
      ]
    },
    {
      "cell_type": "code",
      "metadata": {
        "id": "rxvf1vgmfLs-"
      },
      "source": [
        "from sklearn.metrics import mean_absolute_error, mean_squared_error\n",
        "from sklearn.metrics import classification_report\n",
        "from math import sqrt"
      ],
      "execution_count": null,
      "outputs": []
    },
    {
      "cell_type": "code",
      "metadata": {
        "id": "KDVy7fFGfUP1"
      },
      "source": [
        "# Predict를 수행하고 mean_absolute_error, mean_squared_error, classification_report 결과 출력하기\n",
        "pred = \n",
        "\n",
        "\n",
        "\n"
      ],
      "execution_count": null,
      "outputs": []
    },
    {
      "cell_type": "markdown",
      "metadata": {
        "id": "DTqb-HqPtc4I"
      },
      "source": [
        "## Step 5. Classification 모델 학습하기\n"
      ]
    },
    {
      "cell_type": "markdown",
      "metadata": {
        "id": "xTRTOLTNto3h"
      },
      "source": [
        "### 문제 17. XGBoost 모델 생성/학습하기\n"
      ]
    },
    {
      "cell_type": "code",
      "metadata": {
        "id": "RjOlWyBGfia9"
      },
      "source": [
        "from xgboost import XGBClassifier"
      ],
      "execution_count": null,
      "outputs": []
    },
    {
      "cell_type": "code",
      "metadata": {
        "id": "pxNnYYKhfoqk"
      },
      "source": [
        "# XGBClassifier 모델 생성/학습\n",
        "model_cls = \n",
        "\n",
        "\n",
        "\n"
      ],
      "execution_count": null,
      "outputs": []
    },
    {
      "cell_type": "markdown",
      "metadata": {
        "id": "kAisZoSEtp35"
      },
      "source": [
        "### 문제 18. Classifier의 Feature Importance 시각화하기\n"
      ]
    },
    {
      "cell_type": "code",
      "metadata": {
        "id": "WLnyYNJwGRgd"
      },
      "source": [
        "# XGBClassifier 모델의 feature_importances_ 속성 시각화\n",
        "\n",
        "\n",
        "\n"
      ],
      "execution_count": null,
      "outputs": []
    },
    {
      "cell_type": "markdown",
      "metadata": {
        "id": "P3HU6mOhf0oq"
      },
      "source": [
        "### 문제 19. Classifier 모델 정확도 출력하기"
      ]
    },
    {
      "cell_type": "code",
      "metadata": {
        "id": "PvnmJI-3fzpt"
      },
      "source": [
        "# Predict를 수행하고 classification_report() 결과 출력하기\n",
        "pred = \n",
        "\n",
        "\n",
        "\n"
      ],
      "execution_count": null,
      "outputs": []
    }
  ]
}